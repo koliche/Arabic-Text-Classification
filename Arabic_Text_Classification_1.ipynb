{
  "cells": [
    {
      "cell_type": "markdown",
      "metadata": {
        "id": "view-in-github",
        "colab_type": "text"
      },
      "source": [
        "<a href=\"https://colab.research.google.com/github/koliche/Arabic-Text-Classification/blob/main/Arabic_Text_Classification_1.ipynb\" target=\"_parent\"><img src=\"https://colab.research.google.com/assets/colab-badge.svg\" alt=\"Open In Colab\"/></a>"
      ]
    },
    {
      "cell_type": "markdown",
      "metadata": {
        "id": "b6yoRgnyB_Jg"
      },
      "source": [
        "\n",
        "\n",
        "> In this Arabic text classification project, we create a Lab that contain first data cleaning, tokenization, and convert text to numerical value. Second, four deep learning model for text classification without Keras Tuner, finally we add the Keras Tuner to deep learning models, and we specify the best model for Arabic text classification.\n",
        "\n",
        "> The lab can be used for the three datasets Arabiya, Akhbarona, Khaleej. But the results below are Khaleej dataset result."
      ]
    },
    {
      "cell_type": "markdown",
      "metadata": {
        "id": "u7eDAxy8addY"
      },
      "source": [
        "# **Load The Dataset**"
      ]
    },
    {
      "cell_type": "markdown",
      "source": [
        "> First, load and unzip the dataset then read it, in Khaleej dataset we have 7 classes and 45500 Arabic text files.\n",
        "\n"
      ],
      "metadata": {
        "id": "zY10VkhqEGlp"
      }
    },
    {
      "cell_type": "code",
      "execution_count": 4,
      "metadata": {
        "id": "u6PYIZXuSwF7"
      },
      "outputs": [],
      "source": [
        "# !unzip Arabiya.zip -d /content/Arabiya/\n",
        "# !unzip Akhbarona.zip -d /content/Akhbarona/\n",
        "# !unzip Khaleej.zip -d /content/khaleej/"
      ]
    },
    {
      "cell_type": "code",
      "execution_count": 5,
      "metadata": {
        "id": "bLTW2QbMS-Ng"
      },
      "outputs": [],
      "source": [
        "import os\n",
        "import tensorflow as tf\n",
        "import numpy as np\n"
      ]
    },
    {
      "cell_type": "code",
      "execution_count": 6,
      "metadata": {
        "colab": {
          "base_uri": "https://localhost:8080/"
        },
        "id": "X_9Xf9zGV4Xr",
        "outputId": "121e1019-f74d-47a4-cbe0-0c272059712a"
      },
      "outputs": [
        {
          "output_type": "stream",
          "name": "stdout",
          "text": [
            "Found 45500 files belonging to 7 classes.\n"
          ]
        }
      ],
      "source": [
        "all_data = tf.keras.preprocessing.text_dataset_from_directory(\n",
        "    '/content/khaleej',\n",
        "    labels = \"inferred\",\n",
        "    label_mode = \"int\",\n",
        "    max_length = None,\n",
        "    shuffle=True,\n",
        "    seed=32,\n",
        "    validation_split=None,\n",
        "    subset=None,\n",
        ")"
      ]
    },
    {
      "cell_type": "code",
      "execution_count": 7,
      "metadata": {
        "colab": {
          "base_uri": "https://localhost:8080/"
        },
        "id": "4hhfeBT6Wpqx",
        "outputId": "9cd05d3d-29ee-4784-e83e-264924ef9a27"
      },
      "outputs": [
        {
          "output_type": "execute_result",
          "data": {
            "text/plain": [
              "['Culture', 'Finance', 'Medical', 'Politics', 'Religion', 'Sports', 'Tech']"
            ]
          },
          "metadata": {},
          "execution_count": 7
        }
      ],
      "source": [
        "all_data.class_names"
      ]
    },
    {
      "cell_type": "code",
      "execution_count": 8,
      "metadata": {
        "colab": {
          "base_uri": "https://localhost:8080/"
        },
        "id": "2tk4AkqsZT3a",
        "outputId": "2ba9a186-b29f-4363-f3f8-1e8c8b40a5a9"
      },
      "outputs": [
        {
          "output_type": "stream",
          "name": "stdout",
          "text": [
            "45500\n",
            "45500\n"
          ]
        }
      ],
      "source": [
        "# text is collected in to x, and the corresponding label names are collected in to y.\n",
        "x=[]\n",
        "y=[]\n",
        "for text_batch, label_batch in all_data:\n",
        "    for i in range(len(text_batch)):\n",
        "        s=text_batch.numpy()[i].decode(\"utf-8\") \n",
        "        x.append(s)\n",
        "        y.append(all_data.class_names[label_batch.numpy()[i]])\n",
        "print(len(x))\n",
        "print(len(y))"
      ]
    },
    {
      "cell_type": "code",
      "execution_count": 9,
      "metadata": {
        "colab": {
          "base_uri": "https://localhost:8080/"
        },
        "id": "dc-5jZXbao6K",
        "outputId": "b852ddc8-8379-4a14-e183-685cf80dca38"
      },
      "outputs": [
        {
          "output_type": "execute_result",
          "data": {
            "text/plain": [
              "(['قتل 8 عسكريين جزائريين وأصيب 8 بجروح، أول أمس الاثنين، في كمين نفذته مجموعة مسلحة قرب بسكرة جنوب الجزائر. ولم يصدر تأكيد رسمي لتلك المعلومات. وأفادت الصحيفة نقلاً عن مصادر أمنية أن 50 مسلحاً شاركوا في الهجوم.(أ.ف.ب)'],\n",
              " ['Politics'])"
            ]
          },
          "metadata": {},
          "execution_count": 9
        }
      ],
      "source": [
        "x[:1] , y[:1]"
      ]
    },
    {
      "cell_type": "markdown",
      "metadata": {
        "id": "n7OQjWjcuQ2H"
      },
      "source": [
        "# **Data Visualization**"
      ]
    },
    {
      "cell_type": "markdown",
      "source": [
        "\n",
        "\n",
        "> Now we will use x and y to create a DataFrame and visualize Khaleej dataset.\n",
        "\n",
        "\n",
        "\n",
        "\n"
      ],
      "metadata": {
        "id": "SY3IM1rFGvnE"
      }
    },
    {
      "cell_type": "code",
      "execution_count": 10,
      "metadata": {
        "id": "hSprRceIt06P"
      },
      "outputs": [],
      "source": [
        "import numpy as np\n",
        "import matplotlib.pyplot as plt\n",
        "import pandas as pd "
      ]
    },
    {
      "cell_type": "code",
      "execution_count": 11,
      "metadata": {
        "id": "95fEPwSVuyqI"
      },
      "outputs": [],
      "source": [
        "data =pd.DataFrame({\"text\":x,\"label\":y})"
      ]
    },
    {
      "cell_type": "code",
      "execution_count": 12,
      "metadata": {
        "colab": {
          "base_uri": "https://localhost:8080/"
        },
        "id": "1QjVGSfSu0KJ",
        "outputId": "31c30fe2-6117-417c-d9cc-62a1a2d553d5"
      },
      "outputs": [
        {
          "output_type": "execute_result",
          "data": {
            "text/plain": [
              "(45500, 2)"
            ]
          },
          "metadata": {},
          "execution_count": 12
        }
      ],
      "source": [
        "data.shape"
      ]
    },
    {
      "cell_type": "code",
      "execution_count": 13,
      "metadata": {
        "colab": {
          "base_uri": "https://localhost:8080/",
          "height": 206
        },
        "id": "4haws1Dqu7or",
        "outputId": "5afce1fa-9c50-49fb-e284-a2d630fef622"
      },
      "outputs": [
        {
          "output_type": "execute_result",
          "data": {
            "text/plain": [
              "                                                text     label\n",
              "0  قتل 8 عسكريين جزائريين وأصيب 8 بجروح، أول أمس ...  Politics\n",
              "1  افتتح عبدالله سعيد بن سويف سكرتير إدارة الدفاع...   Culture\n",
              "2  كشف سوميت نيهالاني مدير المبيعات في مؤشرات داو...   Finance\n",
              "3  أبوظبي:محمد علاونة تحتاج الثقافة العربية إلى ا...   Culture\n",
              "4  ضمن الفعاليات الشعرية في المعرض قرأت الشاعرتان...   Culture"
            ],
            "text/html": [
              "\n",
              "  <div id=\"df-08f23a6e-644e-45f2-9e04-5aca17ee7e6d\">\n",
              "    <div class=\"colab-df-container\">\n",
              "      <div>\n",
              "<style scoped>\n",
              "    .dataframe tbody tr th:only-of-type {\n",
              "        vertical-align: middle;\n",
              "    }\n",
              "\n",
              "    .dataframe tbody tr th {\n",
              "        vertical-align: top;\n",
              "    }\n",
              "\n",
              "    .dataframe thead th {\n",
              "        text-align: right;\n",
              "    }\n",
              "</style>\n",
              "<table border=\"1\" class=\"dataframe\">\n",
              "  <thead>\n",
              "    <tr style=\"text-align: right;\">\n",
              "      <th></th>\n",
              "      <th>text</th>\n",
              "      <th>label</th>\n",
              "    </tr>\n",
              "  </thead>\n",
              "  <tbody>\n",
              "    <tr>\n",
              "      <th>0</th>\n",
              "      <td>قتل 8 عسكريين جزائريين وأصيب 8 بجروح، أول أمس ...</td>\n",
              "      <td>Politics</td>\n",
              "    </tr>\n",
              "    <tr>\n",
              "      <th>1</th>\n",
              "      <td>افتتح عبدالله سعيد بن سويف سكرتير إدارة الدفاع...</td>\n",
              "      <td>Culture</td>\n",
              "    </tr>\n",
              "    <tr>\n",
              "      <th>2</th>\n",
              "      <td>كشف سوميت نيهالاني مدير المبيعات في مؤشرات داو...</td>\n",
              "      <td>Finance</td>\n",
              "    </tr>\n",
              "    <tr>\n",
              "      <th>3</th>\n",
              "      <td>أبوظبي:محمد علاونة تحتاج الثقافة العربية إلى ا...</td>\n",
              "      <td>Culture</td>\n",
              "    </tr>\n",
              "    <tr>\n",
              "      <th>4</th>\n",
              "      <td>ضمن الفعاليات الشعرية في المعرض قرأت الشاعرتان...</td>\n",
              "      <td>Culture</td>\n",
              "    </tr>\n",
              "  </tbody>\n",
              "</table>\n",
              "</div>\n",
              "      <button class=\"colab-df-convert\" onclick=\"convertToInteractive('df-08f23a6e-644e-45f2-9e04-5aca17ee7e6d')\"\n",
              "              title=\"Convert this dataframe to an interactive table.\"\n",
              "              style=\"display:none;\">\n",
              "        \n",
              "  <svg xmlns=\"http://www.w3.org/2000/svg\" height=\"24px\"viewBox=\"0 0 24 24\"\n",
              "       width=\"24px\">\n",
              "    <path d=\"M0 0h24v24H0V0z\" fill=\"none\"/>\n",
              "    <path d=\"M18.56 5.44l.94 2.06.94-2.06 2.06-.94-2.06-.94-.94-2.06-.94 2.06-2.06.94zm-11 1L8.5 8.5l.94-2.06 2.06-.94-2.06-.94L8.5 2.5l-.94 2.06-2.06.94zm10 10l.94 2.06.94-2.06 2.06-.94-2.06-.94-.94-2.06-.94 2.06-2.06.94z\"/><path d=\"M17.41 7.96l-1.37-1.37c-.4-.4-.92-.59-1.43-.59-.52 0-1.04.2-1.43.59L10.3 9.45l-7.72 7.72c-.78.78-.78 2.05 0 2.83L4 21.41c.39.39.9.59 1.41.59.51 0 1.02-.2 1.41-.59l7.78-7.78 2.81-2.81c.8-.78.8-2.07 0-2.86zM5.41 20L4 18.59l7.72-7.72 1.47 1.35L5.41 20z\"/>\n",
              "  </svg>\n",
              "      </button>\n",
              "      \n",
              "  <style>\n",
              "    .colab-df-container {\n",
              "      display:flex;\n",
              "      flex-wrap:wrap;\n",
              "      gap: 12px;\n",
              "    }\n",
              "\n",
              "    .colab-df-convert {\n",
              "      background-color: #E8F0FE;\n",
              "      border: none;\n",
              "      border-radius: 50%;\n",
              "      cursor: pointer;\n",
              "      display: none;\n",
              "      fill: #1967D2;\n",
              "      height: 32px;\n",
              "      padding: 0 0 0 0;\n",
              "      width: 32px;\n",
              "    }\n",
              "\n",
              "    .colab-df-convert:hover {\n",
              "      background-color: #E2EBFA;\n",
              "      box-shadow: 0px 1px 2px rgba(60, 64, 67, 0.3), 0px 1px 3px 1px rgba(60, 64, 67, 0.15);\n",
              "      fill: #174EA6;\n",
              "    }\n",
              "\n",
              "    [theme=dark] .colab-df-convert {\n",
              "      background-color: #3B4455;\n",
              "      fill: #D2E3FC;\n",
              "    }\n",
              "\n",
              "    [theme=dark] .colab-df-convert:hover {\n",
              "      background-color: #434B5C;\n",
              "      box-shadow: 0px 1px 3px 1px rgba(0, 0, 0, 0.15);\n",
              "      filter: drop-shadow(0px 1px 2px rgba(0, 0, 0, 0.3));\n",
              "      fill: #FFFFFF;\n",
              "    }\n",
              "  </style>\n",
              "\n",
              "      <script>\n",
              "        const buttonEl =\n",
              "          document.querySelector('#df-08f23a6e-644e-45f2-9e04-5aca17ee7e6d button.colab-df-convert');\n",
              "        buttonEl.style.display =\n",
              "          google.colab.kernel.accessAllowed ? 'block' : 'none';\n",
              "\n",
              "        async function convertToInteractive(key) {\n",
              "          const element = document.querySelector('#df-08f23a6e-644e-45f2-9e04-5aca17ee7e6d');\n",
              "          const dataTable =\n",
              "            await google.colab.kernel.invokeFunction('convertToInteractive',\n",
              "                                                     [key], {});\n",
              "          if (!dataTable) return;\n",
              "\n",
              "          const docLinkHtml = 'Like what you see? Visit the ' +\n",
              "            '<a target=\"_blank\" href=https://colab.research.google.com/notebooks/data_table.ipynb>data table notebook</a>'\n",
              "            + ' to learn more about interactive tables.';\n",
              "          element.innerHTML = '';\n",
              "          dataTable['output_type'] = 'display_data';\n",
              "          await google.colab.output.renderOutput(dataTable, element);\n",
              "          const docLink = document.createElement('div');\n",
              "          docLink.innerHTML = docLinkHtml;\n",
              "          element.appendChild(docLink);\n",
              "        }\n",
              "      </script>\n",
              "    </div>\n",
              "  </div>\n",
              "  "
            ]
          },
          "metadata": {},
          "execution_count": 13
        }
      ],
      "source": [
        "data.head()"
      ]
    },
    {
      "cell_type": "code",
      "execution_count": 14,
      "metadata": {
        "colab": {
          "base_uri": "https://localhost:8080/",
          "height": 279
        },
        "id": "4INcRBjMvil6",
        "outputId": "7c4dfe0e-103c-4240-ff04-095d5c7544b3"
      },
      "outputs": [
        {
          "output_type": "display_data",
          "data": {
            "text/plain": [
              "<Figure size 432x288 with 1 Axes>"
            ],
            "image/png": "[encoded data removed]"
          },
          "metadata": {
            "needs_background": "light"
          }
        }
      ],
      "source": [
        "#visualize the distribution of dataset \n",
        "unique, counts = np.unique(data['label'], return_counts=True)\n",
        "plt.bar(unique, counts, align='center')\n",
        "plt.xlabel('Categories')\n",
        "plt.ylabel('Counts')\n",
        "plt.show()"
      ]
    },
    {
      "cell_type": "code",
      "execution_count": 15,
      "metadata": {
        "colab": {
          "base_uri": "https://localhost:8080/",
          "height": 175
        },
        "id": "hUZTSCR8ExjW",
        "outputId": "b2238609-8ede-4af4-bea8-8f1705ebaf8d"
      },
      "outputs": [
        {
          "output_type": "execute_result",
          "data": {
            "text/plain": [
              "                                                     text     label\n",
              "count                                               45500     45500\n",
              "unique                                              45485         7\n",
              "top     إعداد: محمد صالح القرق دخل على رسول الله- صلى ...  Politics\n",
              "freq                                                    3      6500"
            ],
            "text/html": [
              "\n",
              "  <div id=\"df-aeddec28-9981-43c0-b829-021744631074\">\n",
              "    <div class=\"colab-df-container\">\n",
              "      <div>\n",
              "<style scoped>\n",
              "    .dataframe tbody tr th:only-of-type {\n",
              "        vertical-align: middle;\n",
              "    }\n",
              "\n",
              "    .dataframe tbody tr th {\n",
              "        vertical-align: top;\n",
              "    }\n",
              "\n",
              "    .dataframe thead th {\n",
              "        text-align: right;\n",
              "    }\n",
              "</style>\n",
              "<table border=\"1\" class=\"dataframe\">\n",
              "  <thead>\n",
              "    <tr style=\"text-align: right;\">\n",
              "      <th></th>\n",
              "      <th>text</th>\n",
              "      <th>label</th>\n",
              "    </tr>\n",
              "  </thead>\n",
              "  <tbody>\n",
              "    <tr>\n",
              "      <th>count</th>\n",
              "      <td>45500</td>\n",
              "      <td>45500</td>\n",
              "    </tr>\n",
              "    <tr>\n",
              "      <th>unique</th>\n",
              "      <td>45485</td>\n",
              "      <td>7</td>\n",
              "    </tr>\n",
              "    <tr>\n",
              "      <th>top</th>\n",
              "      <td>إعداد: محمد صالح القرق دخل على رسول الله- صلى ...</td>\n",
              "      <td>Politics</td>\n",
              "    </tr>\n",
              "    <tr>\n",
              "      <th>freq</th>\n",
              "      <td>3</td>\n",
              "      <td>6500</td>\n",
              "    </tr>\n",
              "  </tbody>\n",
              "</table>\n",
              "</div>\n",
              "      <button class=\"colab-df-convert\" onclick=\"convertToInteractive('df-aeddec28-9981-43c0-b829-021744631074')\"\n",
              "              title=\"Convert this dataframe to an interactive table.\"\n",
              "              style=\"display:none;\">\n",
              "        \n",
              "  <svg xmlns=\"http://www.w3.org/2000/svg\" height=\"24px\"viewBox=\"0 0 24 24\"\n",
              "       width=\"24px\">\n",
              "    <path d=\"M0 0h24v24H0V0z\" fill=\"none\"/>\n",
              "    <path d=\"M18.56 5.44l.94 2.06.94-2.06 2.06-.94-2.06-.94-.94-2.06-.94 2.06-2.06.94zm-11 1L8.5 8.5l.94-2.06 2.06-.94-2.06-.94L8.5 2.5l-.94 2.06-2.06.94zm10 10l.94 2.06.94-2.06 2.06-.94-2.06-.94-.94-2.06-.94 2.06-2.06.94z\"/><path d=\"M17.41 7.96l-1.37-1.37c-.4-.4-.92-.59-1.43-.59-.52 0-1.04.2-1.43.59L10.3 9.45l-7.72 7.72c-.78.78-.78 2.05 0 2.83L4 21.41c.39.39.9.59 1.41.59.51 0 1.02-.2 1.41-.59l7.78-7.78 2.81-2.81c.8-.78.8-2.07 0-2.86zM5.41 20L4 18.59l7.72-7.72 1.47 1.35L5.41 20z\"/>\n",
              "  </svg>\n",
              "      </button>\n",
              "      \n",
              "  <style>\n",
              "    .colab-df-container {\n",
              "      display:flex;\n",
              "      flex-wrap:wrap;\n",
              "      gap: 12px;\n",
              "    }\n",
              "\n",
              "    .colab-df-convert {\n",
              "      background-color: #E8F0FE;\n",
              "      border: none;\n",
              "      border-radius: 50%;\n",
              "      cursor: pointer;\n",
              "      display: none;\n",
              "      fill: #1967D2;\n",
              "      height: 32px;\n",
              "      padding: 0 0 0 0;\n",
              "      width: 32px;\n",
              "    }\n",
              "\n",
              "    .colab-df-convert:hover {\n",
              "      background-color: #E2EBFA;\n",
              "      box-shadow: 0px 1px 2px rgba(60, 64, 67, 0.3), 0px 1px 3px 1px rgba(60, 64, 67, 0.15);\n",
              "      fill: #174EA6;\n",
              "    }\n",
              "\n",
              "    [theme=dark] .colab-df-convert {\n",
              "      background-color: #3B4455;\n",
              "      fill: #D2E3FC;\n",
              "    }\n",
              "\n",
              "    [theme=dark] .colab-df-convert:hover {\n",
              "      background-color: #434B5C;\n",
              "      box-shadow: 0px 1px 3px 1px rgba(0, 0, 0, 0.15);\n",
              "      filter: drop-shadow(0px 1px 2px rgba(0, 0, 0, 0.3));\n",
              "      fill: #FFFFFF;\n",
              "    }\n",
              "  </style>\n",
              "\n",
              "      <script>\n",
              "        const buttonEl =\n",
              "          document.querySelector('#df-aeddec28-9981-43c0-b829-021744631074 button.colab-df-convert');\n",
              "        buttonEl.style.display =\n",
              "          google.colab.kernel.accessAllowed ? 'block' : 'none';\n",
              "\n",
              "        async function convertToInteractive(key) {\n",
              "          const element = document.querySelector('#df-aeddec28-9981-43c0-b829-021744631074');\n",
              "          const dataTable =\n",
              "            await google.colab.kernel.invokeFunction('convertToInteractive',\n",
              "                                                     [key], {});\n",
              "          if (!dataTable) return;\n",
              "\n",
              "          const docLinkHtml = 'Like what you see? Visit the ' +\n",
              "            '<a target=\"_blank\" href=https://colab.research.google.com/notebooks/data_table.ipynb>data table notebook</a>'\n",
              "            + ' to learn more about interactive tables.';\n",
              "          element.innerHTML = '';\n",
              "          dataTable['output_type'] = 'display_data';\n",
              "          await google.colab.output.renderOutput(dataTable, element);\n",
              "          const docLink = document.createElement('div');\n",
              "          docLink.innerHTML = docLinkHtml;\n",
              "          element.appendChild(docLink);\n",
              "        }\n",
              "      </script>\n",
              "    </div>\n",
              "  </div>\n",
              "  "
            ]
          },
          "metadata": {},
          "execution_count": 15
        }
      ],
      "source": [
        "data.describe()"
      ]
    },
    {
      "cell_type": "markdown",
      "source": [
        "**--->We found that Khaleej dataset is a balanced dataset, that is good for deep learning models.**"
      ],
      "metadata": {
        "id": "Zx0n1Q49H2m3"
      }
    },
    {
      "cell_type": "markdown",
      "metadata": {
        "id": "EK8EwT8pHY6_"
      },
      "source": [
        "# **Data Pre-Processing**"
      ]
    },
    {
      "cell_type": "markdown",
      "source": [
        "In this part, we clean the data by removing Emoji, Arabic diacritics, and special characters, then we finish this part with tokenization, and lemmatization."
      ],
      "metadata": {
        "id": "1EkIi940KwFU"
      }
    },
    {
      "cell_type": "markdown",
      "metadata": {
        "id": "hT0z54q7VkMl"
      },
      "source": [
        "## **Data Cleaning & Tokenization**"
      ]
    },
    {
      "cell_type": "code",
      "execution_count": 16,
      "metadata": {
        "colab": {
          "base_uri": "https://localhost:8080/"
        },
        "id": "nKs9Xr5_Gw9V",
        "outputId": "51f3f1ba-1c5c-47d2-bb6d-610c9a05bb7c"
      },
      "outputs": [
        {
          "output_type": "stream",
          "name": "stderr",
          "text": [
            "[nltk_data] Downloading package stopwords to /root/nltk_data...\n",
            "[nltk_data]   Unzipping corpora/stopwords.zip.\n",
            "[nltk_data] Downloading package punkt to /root/nltk_data...\n",
            "[nltk_data]   Unzipping tokenizers/punkt.zip.\n",
            "[nltk_data] Downloading package wordnet to /root/nltk_data...\n",
            "[nltk_data] Downloading package omw-1.4 to /root/nltk_data...\n"
          ]
        },
        {
          "output_type": "execute_result",
          "data": {
            "text/plain": [
              "True"
            ]
          },
          "metadata": {},
          "execution_count": 16
        }
      ],
      "source": [
        "import nltk\n",
        "from nltk.corpus import stopwords\n",
        "from nltk.tokenize import word_tokenize\n",
        "from nltk.stem import WordNetLemmatizer\n",
        "import re\n",
        "nltk.download('stopwords')\n",
        "nltk.download('punkt')\n",
        "nltk.download('wordnet')\n",
        "nltk.download('omw-1.4')"
      ]
    },
    {
      "cell_type": "code",
      "execution_count": 17,
      "metadata": {
        "id": "WBFt93U9ebPH"
      },
      "outputs": [],
      "source": [
        "def removeEmoji(dataset_text_row):\n",
        "    #Remove Emoji Exemple code :\n",
        "    emoji_pattern = re.compile(\"[\"\n",
        "            u\"\\U0001F600-\\U0001F64F\"  # emoticons\n",
        "            u\"\\U0001F300-\\U0001F5FF\"  # symbols & pictographs\n",
        "            u\"\\U0001F680-\\U0001F6FF\"  # transport & map symbols\n",
        "            u\"\\U0001F1E0-\\U0001F1FF\"  # flags (iOS)\n",
        "                               \"]+\", flags=re.UNICODE)\n",
        "    result = emoji_pattern.sub(r'',dataset_text_row)\n",
        "    return result\n",
        "\n",
        "def removeDiacritics(dataset_text_row):\n",
        "    arabic_diacritics = re.compile(\"\"\" ّ    | # Tashdid\n",
        "                             َ    | # Fatha\n",
        "                             ً    | # Tanwin Fath\n",
        "                             ُ    | # Damma\n",
        "                             ٌ    | # Tanwin Damm\n",
        "                             ِ    | # Kasra\n",
        "                             ٍ    | # Tanwin Kasr\n",
        "                             ْ    | # Sukun\n",
        "                             ـ     # Tatwil/Kashida\n",
        "                         \"\"\", re.VERBOSE)\n",
        "    result = re.sub(arabic_diacritics, '', dataset_text_row)\n",
        "    return result\n",
        "\n",
        "def remove_special_chars(text):\n",
        "    # Remove URLs\n",
        "    text = re.sub(r'http\\S+', '', text)\n",
        "    # Remove mentions\n",
        "    text = re.sub(r'@\\w+', '', text)\n",
        "    # Remove punctuation and digits\n",
        "    text = re.sub(r'[^\\w\\s]', '', text)\n",
        "    # Remove English letters (if present)\n",
        "    text = re.sub(r'[A-Za-z]', '', text)\n",
        "    # Remove digits\n",
        "    text = re.sub(r'\\d+', '', text)\n",
        "    # Remove extra spaces\n",
        "    text = re.sub(r'\\s+', ' ', text, flags=re.MULTILINE)\n",
        "    return text\n",
        "\n",
        "\n",
        "def removeStopwords(words):\n",
        "    stop_words = set(stopwords.words('arabic'))\n",
        "    result = [word for word in words if not word in stop_words]\n",
        "    return result\n",
        "\n",
        "def tokenization(dataset_text_row):\n",
        "    tokens = word_tokenize(dataset_text_row)\n",
        "    return tokens\n",
        "\n",
        "def lemmatization(text):\n",
        "    lemmatizer = WordNetLemmatizer()\n",
        "    lemmas = [lemmatizer.lemmatize(word) for word in text]\n",
        "    return lemmas"
      ]
    },
    {
      "cell_type": "code",
      "execution_count": 18,
      "metadata": {
        "colab": {
          "base_uri": "https://localhost:8080/"
        },
        "id": "tuAyPxYz_mQf",
        "outputId": "1234c303-d407-4778-eb6b-caec67fab422"
      },
      "outputs": [
        {
          "output_type": "stream",
          "name": "stdout",
          "text": [
            "0     [قتل, عسكريين, جزائريين, وأصيب, بجروح, الاثنين...\n",
            "1     [افتتح, عبدالله, سعيد, بن, سويف, سكرتير, إدارة...\n",
            "2     [كشف, سوميت, نيهالاني, مدير, المبيعات, مؤشرات,...\n",
            "3     [أبوظبيمحمد, علاونة, تحتاج, الثقافة, العربية, ...\n",
            "4     [ضمن, الفعاليات, الشعرية, المعرض, قرأت, الشاعر...\n",
            "5     [المسجد, مدرسة, الإسلام, الأولى, يتعلم, المسلم...\n",
            "6     [أعلنت, هواوي, الشركة, المتخصصة, توفير, حلول, ...\n",
            "7     [دبي, الخليج, ضمن, جهودها, لإحداث, الطفرة, الن...\n",
            "8     [بناء, القيم, يمثل, الإنسان, السجايا, الحسنة, ...\n",
            "9     [أبرمت, هيئة, كهرباء, ومياه, دبي, وشركة, سامسو...\n",
            "10    [دبي, الخليج, أعلنت, هيئة, الشارقة, للاستثمار,...\n",
            "11    [أكدت, والدة, اللاعب, البرتغالي, الدولي, كريست...\n",
            "12    [لنكن, صرحاء, أنفسنا, عندما, نتحدث, الحلال, وا...\n",
            "13    [دعت, الهيئة, الدائمة, المستقلة, لحقوق, الإنسا...\n",
            "14    [حسم, تشلسي, حامل, اللقب, والمتصدر, موقعة, الق...\n",
            "15    [الشارقة, الخليج, اختتمت, فعاليات, مهرجان, الف...\n",
            "16    [أكد, الديوان, الملكي, البحريني, الأربعاء, أنه...\n",
            "17    [البطولات, الأوروبية, المحليةاكتفى, روما, بالت...\n",
            "18    [قالت, وكالة, أنباء, الشرق, الاوسط, المصرية, ا...\n",
            "19    [أطلقت, اتصالات, اليوم, عرضا, ترويجيا, جذابا, ...\n",
            "Name: cleaned_text, dtype: object\n"
          ]
        }
      ],
      "source": [
        "data['cleaned_text'] = data['text'].apply(removeEmoji)\n",
        "data['cleaned_text'] = data['cleaned_text'].apply(removeDiacritics)\n",
        "data['cleaned_text'] = data['cleaned_text'].apply(remove_special_chars)\n",
        "data['cleaned_text'] = data['cleaned_text'].apply(tokenization)\n",
        "data['cleaned_text'] = data['cleaned_text'].apply(lambda x: removeStopwords(x))\n",
        "data['cleaned_text'] = data['cleaned_text'].apply(lambda x: lemmatization(x))\n",
        "\n",
        "print(data['cleaned_text'].head(20))"
      ]
    },
    {
      "cell_type": "markdown",
      "metadata": {
        "id": "Hznnhj_KB_J9"
      },
      "source": [
        "For the Lemmatization does not give a good result, but we use it because it is fast and doesn't take a long time."
      ]
    },
    {
      "cell_type": "code",
      "execution_count": 19,
      "metadata": {
        "id": "1OUoWIJJNZ9c"
      },
      "outputs": [],
      "source": [
        "data.to_csv('clean_data_khaleej.csv', index= False)"
      ]
    },
    {
      "cell_type": "markdown",
      "metadata": {
        "id": "iNoGW63mbFkn"
      },
      "source": [
        "# **Data Encoder**\n"
      ]
    },
    {
      "cell_type": "code",
      "execution_count": 8,
      "metadata": {
        "id": "ajDOQ-XCiVaz"
      },
      "outputs": [],
      "source": [
        "# !unzip clean_data_khaleej.zip"
      ]
    },
    {
      "cell_type": "code",
      "execution_count": 3,
      "metadata": {
        "id": "2f7XtbVyiUdS"
      },
      "outputs": [],
      "source": [
        "import pandas as pd\n",
        "\n",
        "data = pd.read_csv('clean_data_khaleej.csv')"
      ]
    },
    {
      "cell_type": "markdown",
      "metadata": {
        "id": "9Bev6o9USAga"
      },
      "source": [
        "## **Label Encoding**"
      ]
    },
    {
      "cell_type": "code",
      "execution_count": null,
      "metadata": {
        "colab": {
          "base_uri": "https://localhost:8080/"
        },
        "id": "wPTNJLnoFNKG",
        "outputId": "1ee1f547-60d8-4ce2-c37c-4d0ae52da119"
      },
      "outputs": [
        {
          "name": "stdout",
          "output_type": "stream",
          "text": [
            "Shape of label tensor: (45500, 7)\n"
          ]
        }
      ],
      "source": [
        "from sklearn.preprocessing import LabelEncoder\n",
        "from keras.utils.np_utils import to_categorical\n",
        "import numpy as np\n",
        "\n",
        "label_encoder = LabelEncoder()\n",
        "label_encoder.fit(data['label'])\n",
        "Y = label_encoder.fit_transform(data['label'])\n",
        "\n",
        "# Converts the labels to a one-hot representation\n",
        "N_CLASSES = np.max(Y) + 1\n",
        "Y = to_categorical(Y, N_CLASSES)\n",
        "print('Shape of label tensor:', Y.shape)"
      ]
    },
    {
      "cell_type": "markdown",
      "metadata": {
        "id": "3pKfYh1E7HiB"
      },
      "source": [
        "## **Tokenization and Padding of sequences**"
      ]
    },
    {
      "cell_type": "code",
      "execution_count": 7,
      "metadata": {
        "colab": {
          "base_uri": "https://localhost:8080/"
        },
        "id": "gzLV1KgmSmCs",
        "outputId": "09e3ffc2-21d2-4871-d4a4-85c3de3b7413"
      },
      "outputs": [
        {
          "output_type": "stream",
          "name": "stdout",
          "text": [
            "Shape of X:  (45500, 500)\n"
          ]
        }
      ],
      "source": [
        "from keras.preprocessing.text import Tokenizer\n",
        "from tensorflow.keras.preprocessing.sequence import pad_sequences\n",
        "import numpy as np\n",
        "\n",
        "# initialize Tokenizer\n",
        "tokenizer = Tokenizer(num_words=40000, lower=False)\n",
        "tokenizer.fit_on_texts(data['cleaned_text'])\n",
        "# print(data['cleaned_text'].head())\n",
        "# convert texts to sequences\n",
        "sequences = tokenizer.texts_to_sequences(data['cleaned_text'])\n",
        "\n",
        "# pad sequences\n",
        "X = pad_sequences(sequences, maxlen=500)\n",
        "# print(data['cleaned_text'].head())\n",
        "# print shape of X\n",
        "print(\"Shape of X: \", X.shape)"
      ]
    },
    {
      "cell_type": "markdown",
      "source": [
        "### *Glove*"
      ],
      "metadata": {
        "id": "u6Z21uWEO3h2"
      }
    },
    {
      "cell_type": "markdown",
      "source": [
        "\n",
        "\n",
        "> This method is working but it takes a long time to finish, for that we chose to use the pad of sequences above.\n",
        "\n"
      ],
      "metadata": {
        "id": "2uYAWNDcPrSY"
      }
    },
    {
      "cell_type": "code",
      "source": [
        "# from sklearn.feature_extraction.text import CountVectorizer\n",
        "# import numpy as np\n",
        "# def glove_embeding(text):\n",
        "\n",
        "#     # Create a CountVectorizer object\n",
        "#     vectorizer = CountVectorizer(lowercase=False)\n",
        "\n",
        "#     # Fit the CountVectorizer on the text data\n",
        "#     X = vectorizer.fit_transform([text])\n",
        "\n",
        "#     # Create a dictionary to store the words and their respective indexes\n",
        "#     word_index = vectorizer.vocabulary_\n",
        "\n",
        "#     # Create a co-occurrence matrix\n",
        "#     cooccurrence_matrix = X.T.dot(X)\n",
        "\n",
        "#     # Define the dimensionality of the embeddings\n",
        "#     embedding_dim = 3\n",
        "\n",
        "#     # Initialize the embeddings randomly\n",
        "#     embeddings = np.random.rand(len(word_index), embedding_dim)\n",
        "\n",
        "#     # Train the embeddings using the GloVe algorithm\n",
        "#     for epoch in range(100):\n",
        "#         for word, index in word_index.items():\n",
        "#             word_embedding = embeddings[index]\n",
        "#             word_cooccurrence = cooccurrence_matrix[index].toarray()[0]\n",
        "#             for j, cooccurrence in enumerate(word_cooccurrence):\n",
        "#                 if cooccurrence > 0:\n",
        "#                     context_embedding = embeddings[j]\n",
        "#                     weight = cooccurrence / np.sqrt(np.sum(word_cooccurrence))\n",
        "#                     delta = weight * (word_embedding - context_embedding)\n",
        "#                     embeddings[index] -= 0.001 * delta\n",
        "#                     # Get the numerical representations of the words in the text data\n",
        "#     numerical_representations = embeddings[list(word_index.values())]\n",
        "#     return numerical_representations\n",
        "\n",
        "# X = data['cleaned_text'].apply(lambda x: glove_embeding(x))"
      ],
      "metadata": {
        "id": "VWF3C9bVPpUe"
      },
      "execution_count": 6,
      "outputs": []
    },
    {
      "cell_type": "markdown",
      "metadata": {
        "id": "nbE5r-535z54"
      },
      "source": [
        "# **Deep Learning Models**"
      ]
    },
    {
      "cell_type": "code",
      "execution_count": 1,
      "metadata": {
        "id": "D78dMO9_thQS"
      },
      "outputs": [],
      "source": [
        "# !pip install keras-tuner"
      ]
    },
    {
      "cell_type": "code",
      "execution_count": null,
      "metadata": {
        "colab": {
          "base_uri": "https://localhost:8080/"
        },
        "id": "lxvgqSorONoh",
        "outputId": "d072e37e-8499-43e0-ed8f-eb4a903c2a0f"
      },
      "outputs": [
        {
          "name": "stdout",
          "output_type": "stream",
          "text": [
            "2.11.0\n"
          ]
        },
        {
          "name": "stderr",
          "output_type": "stream",
          "text": [
            "<ipython-input-6-4b61e15f2472>:13: DeprecationWarning: `import kerastuner` is deprecated, please use `import keras_tuner`.\n",
            "  from kerastuner.tuners import RandomSearch\n"
          ]
        }
      ],
      "source": [
        "import pandas as pd\n",
        "import numpy as np\n",
        "import matplotlib.pyplot as plt\n",
        "import tensorflow as tf\n",
        "from sklearn.model_selection import train_test_split\n",
        "from keras.models import Sequential\n",
        "from keras.layers import Dense, Embedding, LSTM, Conv1D, MaxPooling1D, Flatten, Dropout,Input,GlobalAveragePooling1D\n",
        "from keras.optimizers import Adam\n",
        "from keras.models import Model\n",
        "from keras.preprocessing.text import Tokenizer\n",
        "from tensorflow.keras.preprocessing.sequence import pad_sequences\n",
        "from keras.callbacks import EarlyStopping\n",
        "from kerastuner.tuners import RandomSearch\n",
        "\n",
        "print(tf.__version__)"
      ]
    },
    {
      "cell_type": "markdown",
      "metadata": {
        "id": "_e4U4VsJ5-Pc"
      },
      "source": [
        "## **Split The Dataset**"
      ]
    },
    {
      "cell_type": "markdown",
      "source": [
        "\n",
        "This code  splits the dataset into three sets: a training set, a validation set, and a test set.\n",
        "\n",
        "\n",
        "*   training set = 80% of the original dataset.\n",
        "*   test set = 12% of the original dataset\n",
        "*   validation set = 8% of the original dataset.\n",
        "\n",
        "\n",
        "\n",
        "\n",
        "\n",
        "\n"
      ],
      "metadata": {
        "id": "Rt8TErND1F7g"
      }
    },
    {
      "cell_type": "code",
      "execution_count": null,
      "metadata": {
        "id": "8xdsUXYGsth-"
      },
      "outputs": [],
      "source": [
        "# split the dataset to trainning set and test set\n",
        "X_train, X_test, y_train, y_test = train_test_split(X, Y, test_size=0.2, random_state=42)\n",
        "# split the test set to test set and validation set \n",
        "X_test, X_val, y_test, y_val = train_test_split(X_test, y_test, test_size=0.4, random_state=42)"
      ]
    },
    {
      "cell_type": "markdown",
      "metadata": {
        "id": "eOwAHsbr7NNx"
      },
      "source": [
        "## **Deep Learning Models Without Tuning**"
      ]
    },
    {
      "cell_type": "markdown",
      "metadata": {
        "id": "zfdNefSZrPQL"
      },
      "source": [
        "### LSTM-CNN"
      ]
    },
    {
      "cell_type": "code",
      "execution_count": null,
      "metadata": {
        "colab": {
          "base_uri": "https://localhost:8080/"
        },
        "id": "h03Vg4Ac87Ur",
        "outputId": "557b6482-e581-46e6-a783-bb4dadc5ed14"
      },
      "outputs": [
        {
          "name": "stdout",
          "output_type": "stream",
          "text": [
            "Model: \"sequential\"\n",
            "_________________________________________________________________\n",
            " Layer (type)                Output Shape              Param #   \n",
            "=================================================================\n",
            " embedding (Embedding)       (None, None, 100)         4000100   \n",
            "                                                                 \n",
            " dropout (Dropout)           (None, None, 100)         0         \n",
            "                                                                 \n",
            " conv1d (Conv1D)             (None, None, 64)          32064     \n",
            "                                                                 \n",
            " max_pooling1d (MaxPooling1D  (None, None, 64)         0         \n",
            " )                                                               \n",
            "                                                                 \n",
            " lstm (LSTM)                 (None, 64)                33024     \n",
            "                                                                 \n",
            " dense (Dense)               (None, 7)                 455       \n",
            "                                                                 \n",
            "=================================================================\n",
            "Total params: 4,065,643\n",
            "Trainable params: 65,543\n",
            "Non-trainable params: 4,000,100\n",
            "_________________________________________________________________\n"
          ]
        }
      ],
      "source": [
        "embedding_dim = 100\n",
        "max_features = 40000\n",
        "sequence_length = 500\n",
        "max_length = 16\n",
        "model = tf.keras.Sequential([\n",
        "  Embedding(max_features + 1, embedding_dim,  trainable=False),\n",
        "  Dropout(0.2),\n",
        "  Conv1D(64, 5, activation='relu'),\n",
        "  MaxPooling1D(pool_size=4),\n",
        "  LSTM(64),\n",
        "  Dense(N_CLASSES, activation='softmax')])\n",
        "\n",
        "model.summary()"
      ]
    },
    {
      "cell_type": "code",
      "execution_count": null,
      "metadata": {
        "colab": {
          "background_save": true,
          "base_uri": "https://localhost:8080/"
        },
        "id": "as9a7DENqiao",
        "outputId": "761f6b23-2fc8-4e6d-8355-944e164546b1"
      },
      "outputs": [
        {
          "name": "stdout",
          "output_type": "stream",
          "text": [
            "Epoch 1/100\n",
            "4550/4550 [==============================] - 57s 10ms/step - loss: 1.9142 - accuracy: 0.1820 - val_loss: 1.8793 - val_accuracy: 0.2115\n",
            "Epoch 2/100\n",
            "4550/4550 [==============================] - 34s 8ms/step - loss: 1.8018 - accuracy: 0.2722 - val_loss: 1.7598 - val_accuracy: 0.3113\n",
            "Epoch 3/100\n",
            "4550/4550 [==============================] - 37s 8ms/step - loss: 1.7187 - accuracy: 0.3250 - val_loss: 1.6362 - val_accuracy: 0.3538\n",
            "Epoch 4/100\n",
            "4550/4550 [==============================] - 36s 8ms/step - loss: 1.5799 - accuracy: 0.3726 - val_loss: 1.4936 - val_accuracy: 0.3940\n",
            "Epoch 5/100\n",
            "4550/4550 [==============================] - 36s 8ms/step - loss: 1.5097 - accuracy: 0.3964 - val_loss: 1.5002 - val_accuracy: 0.3931\n",
            "Epoch 6/100\n",
            "4550/4550 [==============================] - 36s 8ms/step - loss: 1.5907 - accuracy: 0.3698 - val_loss: 1.6845 - val_accuracy: 0.2959\n",
            "Epoch 7/100\n",
            "4550/4550 [==============================] - 35s 8ms/step - loss: 1.5508 - accuracy: 0.3852 - val_loss: 1.4131 - val_accuracy: 0.4220\n",
            "Epoch 8/100\n",
            "4550/4550 [==============================] - 35s 8ms/step - loss: 1.6399 - accuracy: 0.3518 - val_loss: 1.5711 - val_accuracy: 0.3841\n",
            "Epoch 9/100\n",
            "4550/4550 [==============================] - 36s 8ms/step - loss: 1.6923 - accuracy: 0.3304 - val_loss: 1.6672 - val_accuracy: 0.3632\n",
            "Epoch 10/100\n",
            "4550/4550 [==============================] - 35s 8ms/step - loss: 1.8644 - accuracy: 0.2373 - val_loss: 1.9069 - val_accuracy: 0.2580\n",
            "Epoch 11/100\n",
            "4550/4550 [==============================] - 34s 8ms/step - loss: 1.9000 - accuracy: 0.2072 - val_loss: 1.8963 - val_accuracy: 0.1758\n",
            "Epoch 12/100\n",
            "4550/4550 [==============================] - 37s 8ms/step - loss: 1.7886 - accuracy: 0.2515 - val_loss: 1.7830 - val_accuracy: 0.2374\n",
            "Epoch 13/100\n",
            "4550/4550 [==============================] - 34s 8ms/step - loss: 1.8256 - accuracy: 0.2591 - val_loss: 1.8692 - val_accuracy: 0.2522\n",
            "Epoch 14/100\n",
            "4550/4550 [==============================] - 36s 8ms/step - loss: 1.8493 - accuracy: 0.2541 - val_loss: 1.7801 - val_accuracy: 0.2923\n",
            "Epoch 15/100\n",
            "4550/4550 [==============================] - 35s 8ms/step - loss: 1.6456 - accuracy: 0.3359 - val_loss: 1.7562 - val_accuracy: 0.3019\n",
            "Epoch 16/100\n",
            "4550/4550 [==============================] - 36s 8ms/step - loss: 1.5367 - accuracy: 0.3768 - val_loss: 1.5351 - val_accuracy: 0.3640\n",
            "Epoch 17/100\n",
            "4550/4550 [==============================] - 36s 8ms/step - loss: 1.4607 - accuracy: 0.4065 - val_loss: 1.4039 - val_accuracy: 0.4310\n",
            "Epoch 18/100\n",
            "4550/4550 [==============================] - 36s 8ms/step - loss: 1.4182 - accuracy: 0.4259 - val_loss: 1.4166 - val_accuracy: 0.4242\n",
            "Epoch 19/100\n",
            "4550/4550 [==============================] - 35s 8ms/step - loss: 1.3827 - accuracy: 0.4404 - val_loss: 1.4775 - val_accuracy: 0.4005\n",
            "Epoch 20/100\n",
            "4550/4550 [==============================] - 36s 8ms/step - loss: 1.3540 - accuracy: 0.4533 - val_loss: 1.3479 - val_accuracy: 0.4440\n",
            "Epoch 21/100\n",
            "4550/4550 [==============================] - 36s 8ms/step - loss: 1.3305 - accuracy: 0.4635 - val_loss: 1.3456 - val_accuracy: 0.4505\n",
            "Epoch 22/100\n",
            "4550/4550 [==============================] - 34s 8ms/step - loss: 1.3501 - accuracy: 0.4614 - val_loss: 1.3804 - val_accuracy: 0.4319\n",
            "Epoch 23/100\n",
            "4550/4550 [==============================] - 35s 8ms/step - loss: 1.2925 - accuracy: 0.4777 - val_loss: 1.2913 - val_accuracy: 0.4816\n",
            "Epoch 24/100\n",
            "4550/4550 [==============================] - 36s 8ms/step - loss: 1.2790 - accuracy: 0.4869 - val_loss: 1.2452 - val_accuracy: 0.4879\n",
            "Epoch 25/100\n",
            "4550/4550 [==============================] - 34s 7ms/step - loss: 1.2426 - accuracy: 0.5007 - val_loss: 1.2899 - val_accuracy: 0.4868\n",
            "Epoch 26/100\n",
            "4550/4550 [==============================] - 36s 8ms/step - loss: 1.2082 - accuracy: 0.5183 - val_loss: 1.1759 - val_accuracy: 0.5360\n",
            "Epoch 27/100\n",
            "4550/4550 [==============================] - 36s 8ms/step - loss: 1.1821 - accuracy: 0.5327 - val_loss: 1.2106 - val_accuracy: 0.4984\n",
            "Epoch 28/100\n",
            "4550/4550 [==============================] - 35s 8ms/step - loss: 1.3774 - accuracy: 0.4566 - val_loss: 1.4516 - val_accuracy: 0.3830\n",
            "Epoch 29/100\n",
            "4550/4550 [==============================] - 36s 8ms/step - loss: 1.2852 - accuracy: 0.4910 - val_loss: 1.3366 - val_accuracy: 0.4500\n",
            "Epoch 30/100\n",
            "4550/4550 [==============================] - 35s 8ms/step - loss: 1.2213 - accuracy: 0.5210 - val_loss: 1.2298 - val_accuracy: 0.5019\n",
            "Epoch 31/100\n",
            "4550/4550 [==============================] - 35s 8ms/step - loss: 1.1773 - accuracy: 0.5388 - val_loss: 1.4050 - val_accuracy: 0.4225\n",
            "Epoch 32/100\n",
            "4550/4550 [==============================] - 35s 8ms/step - loss: 1.2171 - accuracy: 0.5247 - val_loss: 1.1813 - val_accuracy: 0.5387\n",
            "Epoch 33/100\n",
            "4550/4550 [==============================] - 34s 8ms/step - loss: 1.1692 - accuracy: 0.5408 - val_loss: 1.0440 - val_accuracy: 0.6058\n",
            "Epoch 34/100\n",
            "4550/4550 [==============================] - 36s 8ms/step - loss: 1.1251 - accuracy: 0.5706 - val_loss: 0.9859 - val_accuracy: 0.6162\n",
            "Epoch 35/100\n",
            "4550/4550 [==============================] - 36s 8ms/step - loss: 1.0488 - accuracy: 0.5986 - val_loss: 1.0414 - val_accuracy: 0.5874\n",
            "Epoch 36/100\n",
            "4550/4550 [==============================] - 35s 8ms/step - loss: 1.0128 - accuracy: 0.6198 - val_loss: 1.0899 - val_accuracy: 0.5777\n",
            "Epoch 37/100\n",
            "4550/4550 [==============================] - 36s 8ms/step - loss: 0.9492 - accuracy: 0.6480 - val_loss: 1.1472 - val_accuracy: 0.5582\n",
            "Epoch 38/100\n",
            "4550/4550 [==============================] - 36s 8ms/step - loss: 0.8736 - accuracy: 0.6787 - val_loss: 0.7435 - val_accuracy: 0.7302\n",
            "Epoch 39/100\n",
            "4550/4550 [==============================] - 36s 8ms/step - loss: 0.8210 - accuracy: 0.7011 - val_loss: 0.7429 - val_accuracy: 0.7308\n",
            "Epoch 40/100\n",
            "4550/4550 [==============================] - 36s 8ms/step - loss: 0.7719 - accuracy: 0.7205 - val_loss: 0.9520 - val_accuracy: 0.6398\n",
            "Epoch 41/100\n",
            "4550/4550 [==============================] - 38s 8ms/step - loss: 0.7122 - accuracy: 0.7438 - val_loss: 0.9604 - val_accuracy: 0.6742\n",
            "Epoch 42/100\n",
            "4550/4550 [==============================] - 35s 8ms/step - loss: 0.6785 - accuracy: 0.7584 - val_loss: 0.6057 - val_accuracy: 0.7857\n",
            "Epoch 43/100\n",
            "4550/4550 [==============================] - 35s 8ms/step - loss: 0.6490 - accuracy: 0.7702 - val_loss: 0.6135 - val_accuracy: 0.7854\n",
            "Epoch 44/100\n",
            "4550/4550 [==============================] - 35s 8ms/step - loss: 0.6208 - accuracy: 0.7793 - val_loss: 0.5748 - val_accuracy: 0.7986\n",
            "Epoch 45/100\n",
            "4550/4550 [==============================] - 35s 8ms/step - loss: 0.6024 - accuracy: 0.7862 - val_loss: 0.8261 - val_accuracy: 0.7049\n",
            "Epoch 46/100\n",
            "4550/4550 [==============================] - 35s 8ms/step - loss: 0.5859 - accuracy: 0.7937 - val_loss: 0.6155 - val_accuracy: 0.7676\n",
            "Epoch 47/100\n",
            "4550/4550 [==============================] - 36s 8ms/step - loss: 0.5649 - accuracy: 0.8012 - val_loss: 0.5283 - val_accuracy: 0.8192\n",
            "Epoch 48/100\n",
            "4550/4550 [==============================] - 35s 8ms/step - loss: 0.5436 - accuracy: 0.8105 - val_loss: 0.5317 - val_accuracy: 0.8069\n",
            "Epoch 49/100\n",
            "4550/4550 [==============================] - 36s 8ms/step - loss: 0.6805 - accuracy: 0.7596 - val_loss: 0.6932 - val_accuracy: 0.7319\n",
            "Epoch 50/100\n",
            "4550/4550 [==============================] - 36s 8ms/step - loss: 0.6000 - accuracy: 0.7883 - val_loss: 0.5336 - val_accuracy: 0.8071\n",
            "Epoch 51/100\n",
            "4550/4550 [==============================] - 35s 8ms/step - loss: 1.0849 - accuracy: 0.5912 - val_loss: 1.8192 - val_accuracy: 0.2338\n",
            "Epoch 52/100\n",
            "4550/4550 [==============================] - 36s 8ms/step - loss: 1.1278 - accuracy: 0.5753 - val_loss: 0.6438 - val_accuracy: 0.7558\n",
            "Epoch 53/100\n",
            "4550/4550 [==============================] - 36s 8ms/step - loss: 0.6417 - accuracy: 0.7726 - val_loss: 0.5897 - val_accuracy: 0.7734\n",
            "Epoch 54/100\n",
            "4550/4550 [==============================] - 35s 8ms/step - loss: 0.5724 - accuracy: 0.7995 - val_loss: 1.3117 - val_accuracy: 0.6316\n",
            "Epoch 55/100\n",
            "4550/4550 [==============================] - 35s 8ms/step - loss: 0.5347 - accuracy: 0.8142 - val_loss: 0.6831 - val_accuracy: 0.7382\n",
            "Epoch 56/100\n",
            "4550/4550 [==============================] - 35s 8ms/step - loss: 0.5116 - accuracy: 0.8220 - val_loss: 0.4655 - val_accuracy: 0.8401\n",
            "Epoch 57/100\n",
            "4550/4550 [==============================] - 35s 8ms/step - loss: 0.4909 - accuracy: 0.8282 - val_loss: 0.5405 - val_accuracy: 0.7909\n",
            "Epoch 58/100\n",
            "4550/4550 [==============================] - 36s 8ms/step - loss: 0.4705 - accuracy: 0.8378 - val_loss: 0.5153 - val_accuracy: 0.8140\n",
            "Epoch 59/100\n",
            "4550/4550 [==============================] - 35s 8ms/step - loss: 0.4557 - accuracy: 0.8430 - val_loss: 0.3806 - val_accuracy: 0.8698\n",
            "Epoch 60/100\n",
            "4550/4550 [==============================] - 36s 8ms/step - loss: 0.4459 - accuracy: 0.8463 - val_loss: 0.3970 - val_accuracy: 0.8613\n",
            "Epoch 61/100\n",
            "4550/4550 [==============================] - 35s 8ms/step - loss: 0.4416 - accuracy: 0.8459 - val_loss: 0.3916 - val_accuracy: 0.8712\n",
            "Epoch 62/100\n",
            "4550/4550 [==============================] - 36s 8ms/step - loss: 0.4242 - accuracy: 0.8534 - val_loss: 0.4333 - val_accuracy: 0.8431\n",
            "Epoch 63/100\n",
            "4550/4550 [==============================] - 35s 8ms/step - loss: 0.4145 - accuracy: 0.8570 - val_loss: 0.3895 - val_accuracy: 0.8687\n",
            "Epoch 64/100\n",
            "4550/4550 [==============================] - 36s 8ms/step - loss: 0.4084 - accuracy: 0.8593 - val_loss: 0.3817 - val_accuracy: 0.8659\n",
            "Epoch 65/100\n",
            "4550/4550 [==============================] - 36s 8ms/step - loss: 0.4017 - accuracy: 0.8617 - val_loss: 0.3602 - val_accuracy: 0.8843\n",
            "Epoch 66/100\n",
            "4550/4550 [==============================] - 36s 8ms/step - loss: 0.3926 - accuracy: 0.8643 - val_loss: 0.3869 - val_accuracy: 0.8692\n",
            "Epoch 67/100\n",
            "4550/4550 [==============================] - 35s 8ms/step - loss: 0.3841 - accuracy: 0.8690 - val_loss: 0.4557 - val_accuracy: 0.8360\n",
            "Epoch 68/100\n",
            "4550/4550 [==============================] - 35s 8ms/step - loss: 0.3799 - accuracy: 0.8702 - val_loss: 0.3736 - val_accuracy: 0.8725\n",
            "Epoch 69/100\n",
            "4550/4550 [==============================] - 35s 8ms/step - loss: 0.3712 - accuracy: 0.8735 - val_loss: 0.3560 - val_accuracy: 0.8799\n",
            "Epoch 70/100\n",
            "4550/4550 [==============================] - 35s 8ms/step - loss: 0.3691 - accuracy: 0.8723 - val_loss: 0.3296 - val_accuracy: 0.8882\n",
            "Epoch 71/100\n",
            "4550/4550 [==============================] - 37s 8ms/step - loss: 0.3637 - accuracy: 0.8745 - val_loss: 0.3281 - val_accuracy: 0.8874\n",
            "Epoch 72/100\n",
            "4550/4550 [==============================] - 35s 8ms/step - loss: 0.3546 - accuracy: 0.8797 - val_loss: 0.3349 - val_accuracy: 0.8827\n",
            "Epoch 73/100\n",
            "4550/4550 [==============================] - 35s 8ms/step - loss: 0.3486 - accuracy: 0.8809 - val_loss: 0.3349 - val_accuracy: 0.8788\n",
            "Epoch 74/100\n",
            "4550/4550 [==============================] - 35s 8ms/step - loss: 0.3461 - accuracy: 0.8822 - val_loss: 0.3954 - val_accuracy: 0.8602\n",
            "Epoch 75/100\n",
            "4550/4550 [==============================] - 36s 8ms/step - loss: 0.3407 - accuracy: 0.8838 - val_loss: 0.3848 - val_accuracy: 0.8701\n",
            "Epoch 76/100\n",
            "4550/4550 [==============================] - 35s 8ms/step - loss: 0.3343 - accuracy: 0.8858 - val_loss: 0.3149 - val_accuracy: 0.8920\n",
            "Epoch 77/100\n",
            "4550/4550 [==============================] - 36s 8ms/step - loss: 0.3332 - accuracy: 0.8873 - val_loss: 0.3674 - val_accuracy: 0.8720\n",
            "Epoch 78/100\n",
            "4550/4550 [==============================] - 35s 8ms/step - loss: 0.3208 - accuracy: 0.8908 - val_loss: 0.3056 - val_accuracy: 0.8984\n",
            "Epoch 79/100\n",
            "4550/4550 [==============================] - 35s 8ms/step - loss: 0.3221 - accuracy: 0.8899 - val_loss: 0.3720 - val_accuracy: 0.8701\n",
            "Epoch 80/100\n",
            "4550/4550 [==============================] - 36s 8ms/step - loss: 0.3206 - accuracy: 0.8913 - val_loss: 0.3121 - val_accuracy: 0.8992\n",
            "Epoch 81/100\n",
            "4550/4550 [==============================] - 36s 8ms/step - loss: 0.3159 - accuracy: 0.8926 - val_loss: 0.3138 - val_accuracy: 0.8981\n",
            "Epoch 82/100\n",
            "4550/4550 [==============================] - 36s 8ms/step - loss: 0.3129 - accuracy: 0.8941 - val_loss: 0.4128 - val_accuracy: 0.8552\n",
            "Epoch 83/100\n",
            "4550/4550 [==============================] - 36s 8ms/step - loss: 0.3123 - accuracy: 0.8938 - val_loss: 0.3015 - val_accuracy: 0.9005\n",
            "Epoch 84/100\n",
            "4550/4550 [==============================] - 36s 8ms/step - loss: 0.3020 - accuracy: 0.8978 - val_loss: 0.2800 - val_accuracy: 0.9074\n",
            "Epoch 85/100\n",
            "4550/4550 [==============================] - 35s 8ms/step - loss: 0.3007 - accuracy: 0.8987 - val_loss: 0.2900 - val_accuracy: 0.9011\n",
            "Epoch 86/100\n",
            "4550/4550 [==============================] - 37s 8ms/step - loss: 0.2985 - accuracy: 0.8973 - val_loss: 0.3014 - val_accuracy: 0.8931\n",
            "Epoch 87/100\n",
            "4550/4550 [==============================] - 35s 8ms/step - loss: 0.2965 - accuracy: 0.8991 - val_loss: 0.4546 - val_accuracy: 0.8448\n",
            "Epoch 88/100\n",
            "4550/4550 [==============================] - 36s 8ms/step - loss: 0.2933 - accuracy: 0.9018 - val_loss: 0.3437 - val_accuracy: 0.8832\n",
            "Epoch 89/100\n",
            "4550/4550 [==============================] - 36s 8ms/step - loss: 0.2951 - accuracy: 0.9006 - val_loss: 0.3300 - val_accuracy: 0.8920\n",
            "Epoch 90/100\n",
            "4550/4550 [==============================] - 35s 8ms/step - loss: 0.2851 - accuracy: 0.9049 - val_loss: 0.2869 - val_accuracy: 0.9041\n",
            "Epoch 91/100\n",
            "4550/4550 [==============================] - 35s 8ms/step - loss: 0.2882 - accuracy: 0.9013 - val_loss: 0.3156 - val_accuracy: 0.8951\n",
            "Epoch 92/100\n",
            "4550/4550 [==============================] - 35s 8ms/step - loss: 0.2824 - accuracy: 0.9059 - val_loss: 0.2976 - val_accuracy: 0.8970\n",
            "Epoch 93/100\n",
            "4550/4550 [==============================] - 36s 8ms/step - loss: 0.2803 - accuracy: 0.9042 - val_loss: 0.2722 - val_accuracy: 0.9047\n",
            "Epoch 94/100\n",
            "4550/4550 [==============================] - 35s 8ms/step - loss: 0.2759 - accuracy: 0.9067 - val_loss: 0.2911 - val_accuracy: 0.9036\n",
            "Epoch 95/100\n",
            "4550/4550 [==============================] - 35s 8ms/step - loss: 0.2736 - accuracy: 0.9071 - val_loss: 0.2956 - val_accuracy: 0.8967\n",
            "Epoch 96/100\n",
            "4550/4550 [==============================] - 35s 8ms/step - loss: 0.2740 - accuracy: 0.9071 - val_loss: 0.2614 - val_accuracy: 0.9113\n",
            "Epoch 97/100\n",
            "4550/4550 [==============================] - 35s 8ms/step - loss: 0.2717 - accuracy: 0.9093 - val_loss: 0.3922 - val_accuracy: 0.8723\n",
            "Epoch 98/100\n",
            "4550/4550 [==============================] - 36s 8ms/step - loss: 0.2706 - accuracy: 0.9089 - val_loss: 0.3695 - val_accuracy: 0.8731\n",
            "Epoch 99/100\n",
            "4550/4550 [==============================] - 36s 8ms/step - loss: 0.2648 - accuracy: 0.9111 - val_loss: 0.2684 - val_accuracy: 0.9104\n",
            "Epoch 100/100\n",
            "4550/4550 [==============================] - 35s 8ms/step - loss: 0.2646 - accuracy: 0.9113 - val_loss: 0.2929 - val_accuracy: 0.8973\n"
          ]
        }
      ],
      "source": [
        "model.compile(loss='categorical_crossentropy', optimizer='SGD', metrics=['accuracy'])\n",
        "epochs = 100\n",
        "hist_lstm_cnn = model.fit(\n",
        "    X_train,\n",
        "    y_train,\n",
        "    validation_data=(X_val, y_val),\n",
        "    batch_size=8,\n",
        "    epochs=epochs)"
      ]
    },
    {
      "cell_type": "code",
      "execution_count": null,
      "metadata": {
        "colab": {
          "background_save": true
        },
        "id": "38o11HLA_oEw",
        "outputId": "5cd82e3f-46ab-465a-bfcc-c71a89bd0334"
      },
      "outputs": [
        {
          "name": "stdout",
          "output_type": "stream",
          "text": [
            "171/171 [==============================] - 2s 6ms/step - loss: 0.3233 - accuracy: 0.8907\n",
            "Test loss: 0.3233332335948944\n",
            "Test accuracy: 0.8906593322753906\n"
          ]
        }
      ],
      "source": [
        "# Evaluate the model on the test set\n",
        "loss, accuracy = model.evaluate(X_test, y_test)\n",
        "print(\"Test loss:\", loss)\n",
        "print(\"Test accuracy:\", accuracy)"
      ]
    },
    {
      "cell_type": "code",
      "execution_count": null,
      "metadata": {
        "colab": {
          "background_save": true
        },
        "id": "Q8tZ_QNfr4Dq",
        "outputId": "d0f56cba-281b-4f78-d0b6-1d3a72172c60"
      },
      "outputs": [
        {
          "data": {
            "image/png": "[encoded data removed]",
            "text/plain": [
              "<Figure size 432x288 with 1 Axes>"
            ]
          },
          "metadata": {},
          "output_type": "display_data"
        }
      ],
      "source": [
        "# Plot the training history\n",
        "train_acc = hist_lstm_cnn.history['accuracy']\n",
        "val_acc = hist_lstm_cnn.history['val_accuracy']\n",
        "test_acc = accuracy\n",
        "\n",
        "plt.plot(train_acc, label='Training accuracy')\n",
        "plt.plot(val_acc, label='Validation accuracy')\n",
        "plt.axhline(test_acc, color='red', linestyle='--', label='Test accuracy')\n",
        "plt.title('Training, Validation, and Test Accuracy')\n",
        "plt.xlabel('Epoch')\n",
        "plt.ylabel('Accuracy')\n",
        "plt.legend()\n",
        "plt.show()"
      ]
    },
    {
      "cell_type": "markdown",
      "metadata": {
        "id": "802DfNi95EgK"
      },
      "source": [
        "**Result Comment :**\n",
        "> As the final result of LSTM-CNN in the Arabic text classification Khaleej dataset, we have Test accuracy of 89.06% and Test loss of 0.3233, to get these results we used a batch of 8 and we trained the model 100 epochs.\n",
        "\n"
      ]
    },
    {
      "cell_type": "markdown",
      "metadata": {
        "id": "9KBc-vQAXEg1"
      },
      "source": [
        "### CNN\n"
      ]
    },
    {
      "cell_type": "code",
      "execution_count": null,
      "metadata": {
        "colab": {
          "background_save": true
        },
        "id": "AtaCzOiK0HZo"
      },
      "outputs": [],
      "source": [
        "from keras.models import Sequential\n",
        "from keras.layers import Embedding, Conv1D, MaxPooling1D, Flatten, Dense\n",
        "embedding_dim = 50\n",
        "max_length = 500\n",
        "max_features = 40000\n",
        "# define model\n",
        "model = Sequential([\n",
        "        Embedding(max_features+ 1, output_dim=embedding_dim, input_length=max_length, trainable=False),\n",
        "        Conv1D(filters=128, kernel_size=3, activation='relu'),\n",
        "        MaxPooling1D(pool_size=2),\n",
        "        Flatten(),\n",
        "        Dense(N_CLASSES, activation='softmax')\n",
        "    ])\n",
        "# compile model\n",
        "model.compile(loss='binary_crossentropy', optimizer='adam', metrics=['accuracy'])"
      ]
    },
    {
      "cell_type": "code",
      "execution_count": null,
      "metadata": {
        "colab": {
          "background_save": true
        },
        "id": "iNK8wzQ50Hkn",
        "outputId": "72a9d6df-adce-44df-8fce-6eac28706537"
      },
      "outputs": [
        {
          "name": "stdout",
          "output_type": "stream",
          "text": [
            "Epoch 1/20\n",
            "4550/4550 [==============================] - 26s 5ms/step - loss: 0.2366 - accuracy: 0.6452 - val_loss: 0.1692 - val_accuracy: 0.7940\n",
            "Epoch 2/20\n",
            "4550/4550 [==============================] - 22s 5ms/step - loss: 0.1134 - accuracy: 0.8854 - val_loss: 0.1148 - val_accuracy: 0.8857\n",
            "Epoch 3/20\n",
            "4550/4550 [==============================] - 16s 3ms/step - loss: 0.0674 - accuracy: 0.9455 - val_loss: 0.1085 - val_accuracy: 0.8879\n",
            "Epoch 4/20\n",
            "4550/4550 [==============================] - 16s 3ms/step - loss: 0.0430 - accuracy: 0.9726 - val_loss: 0.0985 - val_accuracy: 0.9008\n",
            "Epoch 5/20\n",
            "4550/4550 [==============================] - 17s 4ms/step - loss: 0.0282 - accuracy: 0.9860 - val_loss: 0.1205 - val_accuracy: 0.8934\n",
            "Epoch 6/20\n",
            "4550/4550 [==============================] - 16s 4ms/step - loss: 0.0190 - accuracy: 0.9929 - val_loss: 0.1113 - val_accuracy: 0.9052\n",
            "Epoch 7/20\n",
            "4550/4550 [==============================] - 17s 4ms/step - loss: 0.0130 - accuracy: 0.9965 - val_loss: 0.1241 - val_accuracy: 0.9030\n",
            "Epoch 8/20\n",
            "4550/4550 [==============================] - 17s 4ms/step - loss: 0.0090 - accuracy: 0.9988 - val_loss: 0.1341 - val_accuracy: 0.9000\n",
            "Epoch 9/20\n",
            "4550/4550 [==============================] - 16s 3ms/step - loss: 0.0066 - accuracy: 0.9993 - val_loss: 0.1426 - val_accuracy: 0.9033\n",
            "Epoch 10/20\n",
            "4550/4550 [==============================] - 16s 3ms/step - loss: 0.0046 - accuracy: 0.9999 - val_loss: 0.1471 - val_accuracy: 0.8981\n",
            "Epoch 11/20\n",
            "4550/4550 [==============================] - 17s 4ms/step - loss: 0.0037 - accuracy: 0.9998 - val_loss: 0.1537 - val_accuracy: 0.9008\n",
            "Epoch 12/20\n",
            "4550/4550 [==============================] - 16s 4ms/step - loss: 0.0027 - accuracy: 0.9999 - val_loss: 0.1687 - val_accuracy: 0.9016\n",
            "Epoch 13/20\n",
            "4550/4550 [==============================] - 16s 3ms/step - loss: 0.0020 - accuracy: 0.9999 - val_loss: 0.1742 - val_accuracy: 0.9000\n",
            "Epoch 14/20\n",
            "4550/4550 [==============================] - 17s 4ms/step - loss: 0.0021 - accuracy: 0.9999 - val_loss: 0.1780 - val_accuracy: 0.9016\n",
            "Epoch 15/20\n",
            "4550/4550 [==============================] - 16s 4ms/step - loss: 0.0017 - accuracy: 0.9997 - val_loss: 0.2054 - val_accuracy: 0.8964\n",
            "Epoch 16/20\n",
            "4550/4550 [==============================] - 16s 3ms/step - loss: 0.0011 - accuracy: 0.9999 - val_loss: 0.1843 - val_accuracy: 0.9047\n",
            "Epoch 17/20\n",
            "4550/4550 [==============================] - 16s 4ms/step - loss: 0.0015 - accuracy: 0.9999 - val_loss: 0.1968 - val_accuracy: 0.9016\n",
            "Epoch 18/20\n",
            "4550/4550 [==============================] - 17s 4ms/step - loss: 7.6411e-04 - accuracy: 1.0000 - val_loss: 0.2012 - val_accuracy: 0.9033\n",
            "Epoch 19/20\n",
            "4550/4550 [==============================] - 16s 4ms/step - loss: 9.2192e-04 - accuracy: 0.9999 - val_loss: 0.2080 - val_accuracy: 0.9052\n",
            "Epoch 20/20\n",
            "4550/4550 [==============================] - 16s 3ms/step - loss: 0.0012 - accuracy: 0.9999 - val_loss: 0.2037 - val_accuracy: 0.9038\n"
          ]
        }
      ],
      "source": [
        "hist_cnn = model.fit(X_train, y_train, validation_data=(X_val, y_val), epochs=20, batch_size=8)"
      ]
    },
    {
      "cell_type": "code",
      "execution_count": null,
      "metadata": {
        "colab": {
          "background_save": true
        },
        "id": "gBrUSLsJ9ra-",
        "outputId": "0f8f75c9-f2e8-4146-bff2-1d78e0083c62"
      },
      "outputs": [
        {
          "name": "stdout",
          "output_type": "stream",
          "text": [
            "171/171 [==============================] - 1s 3ms/step - loss: 0.2086 - accuracy: 0.8958\n",
            "Test loss: 0.20856021344661713\n",
            "Test accuracy: 0.8957875370979309\n"
          ]
        }
      ],
      "source": [
        "# Evaluate the model on the test set\n",
        "loss, accuracy = model.evaluate(X_test, y_test)\n",
        "print(\"Test loss:\", loss)\n",
        "print(\"Test accuracy:\", accuracy)"
      ]
    },
    {
      "cell_type": "code",
      "execution_count": null,
      "metadata": {
        "colab": {
          "background_save": true
        },
        "id": "gWUuC49E0IjD",
        "outputId": "b9b149c0-9446-4c83-981a-515fcde0d1ff"
      },
      "outputs": [
        {
          "data": {
            "image/png": "[encoded data removed]",
            "text/plain": [
              "<Figure size 432x288 with 1 Axes>"
            ]
          },
          "metadata": {},
          "output_type": "display_data"
        }
      ],
      "source": [
        "# Plot the training history\n",
        "train_acc = hist_cnn.history['accuracy']\n",
        "val_acc = hist_cnn.history['val_accuracy']\n",
        "test_acc = accuracy\n",
        "\n",
        "plt.plot(train_acc, label='Training accuracy')\n",
        "plt.plot(val_acc, label='Validation accuracy')\n",
        "plt.axhline(test_acc, color='red', linestyle='--', label='Test accuracy')\n",
        "plt.title('Training, Validation, and Test Accuracy')\n",
        "plt.xlabel('Epoch')\n",
        "plt.ylabel('Accuracy')\n",
        "plt.legend()\n",
        "plt.show()"
      ]
    },
    {
      "cell_type": "markdown",
      "source": [
        "**Result Comment :**\n",
        "> As the final result of CNN in the Arabic text classification Khaleej dataset, we have Test accuracy of 89.57% and Test loss of 0.2085%, to get these results we used a batch of 8 and we trained the model 10 epochs."
      ],
      "metadata": {
        "id": "9HjyDlAb5lR5"
      }
    },
    {
      "cell_type": "markdown",
      "metadata": {
        "id": "MnnZfp7JZ1PS"
      },
      "source": [
        "### LSTM"
      ]
    },
    {
      "cell_type": "code",
      "execution_count": null,
      "metadata": {
        "colab": {
          "background_save": true
        },
        "id": "KK-cGcWnZ3pN",
        "outputId": "f7957a05-3312-4583-932d-b44296dfc5ff"
      },
      "outputs": [
        {
          "name": "stdout",
          "output_type": "stream",
          "text": [
            "Model: \"sequential_2\"\n",
            "_________________________________________________________________\n",
            " Layer (type)                Output Shape              Param #   \n",
            "=================================================================\n",
            " embedding_2 (Embedding)     (None, None, 50)          2000000   \n",
            "                                                                 \n",
            " lstm_1 (LSTM)               (None, 64)                29440     \n",
            "                                                                 \n",
            " dense_2 (Dense)             (None, 7)                 455       \n",
            "                                                                 \n",
            "=================================================================\n",
            "Total params: 2,029,895\n",
            "Trainable params: 29,895\n",
            "Non-trainable params: 2,000,000\n",
            "_________________________________________________________________\n"
          ]
        }
      ],
      "source": [
        "embedding_dim = 50\n",
        "max_length = 16\n",
        "MAX_NB_WORDS = 40000\n",
        "model = tf.keras.Sequential([\n",
        "  Embedding(MAX_NB_WORDS, embedding_dim,  trainable=False),\n",
        "  LSTM(64),\n",
        "  Dense(N_CLASSES, activation='softmax')])\n",
        "\n",
        "model.summary()"
      ]
    },
    {
      "cell_type": "code",
      "execution_count": null,
      "metadata": {
        "colab": {
          "background_save": true
        },
        "id": "vd23DkYjaCN4"
      },
      "outputs": [],
      "source": [
        "model.compile(loss='categorical_crossentropy', optimizer='adam', metrics=['accuracy'])"
      ]
    },
    {
      "cell_type": "code",
      "execution_count": null,
      "metadata": {
        "colab": {
          "base_uri": "https://localhost:8080/"
        },
        "id": "1jt1g3XwaFLo",
        "outputId": "80427ff0-5209-402e-9d4a-0d8d4845cc81"
      },
      "outputs": [
        {
          "name": "stdout",
          "output_type": "stream",
          "text": [
            "Epoch 1/100\n",
            "569/569 [==============================] - 15s 20ms/step - loss: 1.8839 - accuracy: 0.2292 - val_loss: 1.8181 - val_accuracy: 0.2755\n",
            "Epoch 2/100\n",
            "569/569 [==============================] - 10s 17ms/step - loss: 1.8162 - accuracy: 0.2864 - val_loss: 1.7858 - val_accuracy: 0.2775\n",
            "Epoch 3/100\n",
            "569/569 [==============================] - 10s 18ms/step - loss: 1.7057 - accuracy: 0.3266 - val_loss: 1.6136 - val_accuracy: 0.4181\n",
            "Epoch 4/100\n",
            "569/569 [==============================] - 10s 18ms/step - loss: 1.7217 - accuracy: 0.3314 - val_loss: 1.6335 - val_accuracy: 0.3681\n",
            "Epoch 5/100\n",
            "569/569 [==============================] - 11s 19ms/step - loss: 1.5625 - accuracy: 0.3872 - val_loss: 1.5293 - val_accuracy: 0.3640\n",
            "Epoch 6/100\n",
            "569/569 [==============================] - 10s 18ms/step - loss: 1.6468 - accuracy: 0.3615 - val_loss: 1.8081 - val_accuracy: 0.3071\n",
            "Epoch 7/100\n",
            "569/569 [==============================] - 10s 18ms/step - loss: 1.6701 - accuracy: 0.3507 - val_loss: 1.7960 - val_accuracy: 0.2651\n",
            "Epoch 8/100\n",
            "569/569 [==============================] - 10s 17ms/step - loss: 1.4966 - accuracy: 0.4184 - val_loss: 1.4633 - val_accuracy: 0.4294\n",
            "Epoch 9/100\n",
            "569/569 [==============================] - 10s 18ms/step - loss: 1.4567 - accuracy: 0.4393 - val_loss: 1.6590 - val_accuracy: 0.3530\n",
            "Epoch 10/100\n",
            "569/569 [==============================] - 11s 19ms/step - loss: 1.6430 - accuracy: 0.3637 - val_loss: 1.5347 - val_accuracy: 0.4047\n",
            "Epoch 11/100\n",
            "569/569 [==============================] - 10s 18ms/step - loss: 1.5170 - accuracy: 0.4093 - val_loss: 1.5273 - val_accuracy: 0.4376\n",
            "Epoch 12/100\n",
            "569/569 [==============================] - 10s 18ms/step - loss: 1.4989 - accuracy: 0.4302 - val_loss: 1.4102 - val_accuracy: 0.4632\n",
            "Epoch 13/100\n",
            "569/569 [==============================] - 10s 18ms/step - loss: 1.5173 - accuracy: 0.4133 - val_loss: 1.5289 - val_accuracy: 0.3920\n",
            "Epoch 14/100\n",
            "569/569 [==============================] - 10s 18ms/step - loss: 1.5727 - accuracy: 0.3959 - val_loss: 1.4997 - val_accuracy: 0.4409\n",
            "Epoch 15/100\n",
            "569/569 [==============================] - 11s 19ms/step - loss: 1.4242 - accuracy: 0.4587 - val_loss: 1.4082 - val_accuracy: 0.4591\n",
            "Epoch 16/100\n",
            "569/569 [==============================] - 10s 18ms/step - loss: 1.4019 - accuracy: 0.4692 - val_loss: 1.2626 - val_accuracy: 0.5398\n",
            "Epoch 17/100\n",
            "569/569 [==============================] - 10s 18ms/step - loss: 1.3039 - accuracy: 0.5139 - val_loss: 1.2121 - val_accuracy: 0.5434\n",
            "Epoch 18/100\n",
            "569/569 [==============================] - 10s 17ms/step - loss: 1.4245 - accuracy: 0.4626 - val_loss: 1.4131 - val_accuracy: 0.4552\n",
            "Epoch 19/100\n",
            "569/569 [==============================] - 10s 18ms/step - loss: 1.3251 - accuracy: 0.4998 - val_loss: 1.2511 - val_accuracy: 0.5181\n",
            "Epoch 20/100\n",
            "569/569 [==============================] - 11s 19ms/step - loss: 1.2755 - accuracy: 0.5194 - val_loss: 1.2751 - val_accuracy: 0.5129\n",
            "Epoch 21/100\n",
            "569/569 [==============================] - 10s 18ms/step - loss: 1.2598 - accuracy: 0.5233 - val_loss: 1.2430 - val_accuracy: 0.5245\n",
            "Epoch 22/100\n",
            "569/569 [==============================] - 10s 18ms/step - loss: 1.2220 - accuracy: 0.5396 - val_loss: 1.2765 - val_accuracy: 0.5168\n",
            "Epoch 23/100\n",
            "569/569 [==============================] - 10s 18ms/step - loss: 1.2801 - accuracy: 0.5165 - val_loss: 1.1863 - val_accuracy: 0.5599\n",
            "Epoch 24/100\n",
            "569/569 [==============================] - 10s 18ms/step - loss: 1.4087 - accuracy: 0.4586 - val_loss: 1.4078 - val_accuracy: 0.4646\n",
            "Epoch 25/100\n",
            "569/569 [==============================] - 11s 19ms/step - loss: 1.2727 - accuracy: 0.5265 - val_loss: 1.1264 - val_accuracy: 0.5898\n",
            "Epoch 26/100\n",
            "569/569 [==============================] - 10s 18ms/step - loss: 1.2020 - accuracy: 0.5492 - val_loss: 1.1981 - val_accuracy: 0.5352\n",
            "Epoch 27/100\n",
            "569/569 [==============================] - 10s 18ms/step - loss: 1.2024 - accuracy: 0.5534 - val_loss: 1.3935 - val_accuracy: 0.4585\n",
            "Epoch 28/100\n",
            "569/569 [==============================] - 10s 18ms/step - loss: 1.2916 - accuracy: 0.5111 - val_loss: 1.1608 - val_accuracy: 0.5723\n",
            "Epoch 29/100\n",
            "569/569 [==============================] - 10s 18ms/step - loss: 1.4910 - accuracy: 0.4455 - val_loss: 1.6432 - val_accuracy: 0.3401\n",
            "Epoch 30/100\n",
            "569/569 [==============================] - 11s 19ms/step - loss: 1.5438 - accuracy: 0.4033 - val_loss: 1.1961 - val_accuracy: 0.5453\n",
            "Epoch 31/100\n",
            "569/569 [==============================] - 10s 18ms/step - loss: 1.1838 - accuracy: 0.5543 - val_loss: 1.1503 - val_accuracy: 0.5596\n",
            "Epoch 32/100\n",
            "569/569 [==============================] - 10s 18ms/step - loss: 1.7586 - accuracy: 0.3268 - val_loss: 1.7046 - val_accuracy: 0.3209\n",
            "Epoch 33/100\n",
            "569/569 [==============================] - 10s 18ms/step - loss: 1.5677 - accuracy: 0.3913 - val_loss: 1.3807 - val_accuracy: 0.4709\n",
            "Epoch 34/100\n",
            "569/569 [==============================] - 10s 18ms/step - loss: 1.6577 - accuracy: 0.3590 - val_loss: 1.5433 - val_accuracy: 0.3951\n",
            "Epoch 35/100\n",
            "569/569 [==============================] - 10s 18ms/step - loss: 1.5729 - accuracy: 0.3983 - val_loss: 1.4594 - val_accuracy: 0.4330\n",
            "Epoch 36/100\n",
            "569/569 [==============================] - 10s 18ms/step - loss: 1.3799 - accuracy: 0.4869 - val_loss: 1.3668 - val_accuracy: 0.5091\n",
            "Epoch 37/100\n",
            "569/569 [==============================] - 11s 19ms/step - loss: 1.2560 - accuracy: 0.5381 - val_loss: 1.2658 - val_accuracy: 0.5275\n",
            "Epoch 38/100\n",
            "569/569 [==============================] - 11s 19ms/step - loss: 1.1965 - accuracy: 0.5505 - val_loss: 1.1256 - val_accuracy: 0.5843\n",
            "Epoch 39/100\n",
            "569/569 [==============================] - 10s 18ms/step - loss: 1.3493 - accuracy: 0.4953 - val_loss: 1.2818 - val_accuracy: 0.5379\n",
            "Epoch 40/100\n",
            "569/569 [==============================] - 10s 18ms/step - loss: 1.1823 - accuracy: 0.5559 - val_loss: 1.0698 - val_accuracy: 0.6069\n",
            "Epoch 41/100\n",
            "569/569 [==============================] - 10s 18ms/step - loss: 1.0793 - accuracy: 0.6013 - val_loss: 1.3392 - val_accuracy: 0.5511\n",
            "Epoch 42/100\n",
            "569/569 [==============================] - 11s 19ms/step - loss: 1.0419 - accuracy: 0.6141 - val_loss: 1.0094 - val_accuracy: 0.6310\n",
            "Epoch 43/100\n",
            "569/569 [==============================] - 11s 19ms/step - loss: 0.9975 - accuracy: 0.6320 - val_loss: 0.9567 - val_accuracy: 0.6549\n",
            "Epoch 44/100\n",
            "569/569 [==============================] - 10s 18ms/step - loss: 0.9823 - accuracy: 0.6395 - val_loss: 0.9187 - val_accuracy: 0.6654\n",
            "Epoch 45/100\n",
            "569/569 [==============================] - 10s 18ms/step - loss: 0.9396 - accuracy: 0.6540 - val_loss: 0.8842 - val_accuracy: 0.6791\n",
            "Epoch 46/100\n",
            "569/569 [==============================] - 11s 18ms/step - loss: 0.9138 - accuracy: 0.6599 - val_loss: 1.0018 - val_accuracy: 0.6250\n",
            "Epoch 47/100\n",
            "569/569 [==============================] - 11s 19ms/step - loss: 0.8569 - accuracy: 0.6847 - val_loss: 0.8818 - val_accuracy: 0.6766\n",
            "Epoch 48/100\n",
            "569/569 [==============================] - 11s 19ms/step - loss: 0.8222 - accuracy: 0.6960 - val_loss: 0.7977 - val_accuracy: 0.7102\n",
            "Epoch 49/100\n",
            "569/569 [==============================] - 10s 18ms/step - loss: 0.7948 - accuracy: 0.7068 - val_loss: 0.7681 - val_accuracy: 0.7212\n",
            "Epoch 50/100\n",
            "569/569 [==============================] - 10s 18ms/step - loss: 0.7688 - accuracy: 0.7174 - val_loss: 0.7295 - val_accuracy: 0.7360\n",
            "Epoch 51/100\n",
            "569/569 [==============================] - 10s 18ms/step - loss: 0.7261 - accuracy: 0.7346 - val_loss: 0.7027 - val_accuracy: 0.7420\n",
            "Epoch 52/100\n",
            "569/569 [==============================] - 11s 19ms/step - loss: 0.7123 - accuracy: 0.7383 - val_loss: 0.6970 - val_accuracy: 0.7530\n",
            "Epoch 53/100\n",
            "569/569 [==============================] - 11s 19ms/step - loss: 0.6714 - accuracy: 0.7565 - val_loss: 0.7045 - val_accuracy: 0.7398\n",
            "Epoch 54/100\n",
            "569/569 [==============================] - 11s 19ms/step - loss: 0.6492 - accuracy: 0.7652 - val_loss: 0.6631 - val_accuracy: 0.7690\n",
            "Epoch 55/100\n",
            "569/569 [==============================] - 10s 18ms/step - loss: 0.6221 - accuracy: 0.7770 - val_loss: 0.6259 - val_accuracy: 0.7810\n",
            "Epoch 56/100\n",
            "569/569 [==============================] - 10s 18ms/step - loss: 0.6226 - accuracy: 0.7763 - val_loss: 0.6332 - val_accuracy: 0.7808\n",
            "Epoch 57/100\n",
            "569/569 [==============================] - 11s 19ms/step - loss: 0.5677 - accuracy: 0.7993 - val_loss: 0.6218 - val_accuracy: 0.7791\n",
            "Epoch 58/100\n",
            "569/569 [==============================] - 11s 19ms/step - loss: 0.5567 - accuracy: 0.8037 - val_loss: 0.5660 - val_accuracy: 0.8025\n",
            "Epoch 59/100\n",
            "569/569 [==============================] - 11s 19ms/step - loss: 0.5286 - accuracy: 0.8132 - val_loss: 0.5339 - val_accuracy: 0.8129\n",
            "Epoch 60/100\n",
            "569/569 [==============================] - 10s 18ms/step - loss: 0.5092 - accuracy: 0.8232 - val_loss: 0.5226 - val_accuracy: 0.8181\n",
            "Epoch 61/100\n",
            "569/569 [==============================] - 10s 18ms/step - loss: 0.4950 - accuracy: 0.8261 - val_loss: 0.4933 - val_accuracy: 0.8346\n",
            "Epoch 62/100\n",
            "569/569 [==============================] - 11s 19ms/step - loss: 0.4742 - accuracy: 0.8363 - val_loss: 0.5070 - val_accuracy: 0.8192\n",
            "Epoch 63/100\n",
            "569/569 [==============================] - 11s 19ms/step - loss: 0.4556 - accuracy: 0.8425 - val_loss: 0.4388 - val_accuracy: 0.8522\n",
            "Epoch 64/100\n",
            "569/569 [==============================] - 11s 19ms/step - loss: 0.4320 - accuracy: 0.8526 - val_loss: 0.4773 - val_accuracy: 0.8357\n",
            "Epoch 65/100\n",
            "569/569 [==============================] - 11s 19ms/step - loss: 0.4247 - accuracy: 0.8549 - val_loss: 0.4411 - val_accuracy: 0.8503\n",
            "Epoch 66/100\n",
            "569/569 [==============================] - 10s 18ms/step - loss: 0.4061 - accuracy: 0.8622 - val_loss: 0.4208 - val_accuracy: 0.8613\n",
            "Epoch 67/100\n",
            "569/569 [==============================] - 11s 19ms/step - loss: 0.3886 - accuracy: 0.8687 - val_loss: 0.3835 - val_accuracy: 0.8703\n",
            "Epoch 68/100\n",
            "569/569 [==============================] - 10s 18ms/step - loss: 0.3820 - accuracy: 0.8708 - val_loss: 0.3938 - val_accuracy: 0.8692\n",
            "Epoch 69/100\n",
            "569/569 [==============================] - 10s 18ms/step - loss: 0.3631 - accuracy: 0.8763 - val_loss: 0.3692 - val_accuracy: 0.8747\n",
            "Epoch 70/100\n",
            "569/569 [==============================] - 10s 18ms/step - loss: 0.3480 - accuracy: 0.8818 - val_loss: 0.3488 - val_accuracy: 0.8857\n",
            "Epoch 71/100\n",
            "569/569 [==============================] - 10s 18ms/step - loss: 0.3373 - accuracy: 0.8866 - val_loss: 0.3638 - val_accuracy: 0.8805\n",
            "Epoch 72/100\n",
            "569/569 [==============================] - 11s 20ms/step - loss: 0.3276 - accuracy: 0.8913 - val_loss: 0.3543 - val_accuracy: 0.8813\n",
            "Epoch 73/100\n",
            "569/569 [==============================] - 11s 19ms/step - loss: 0.3215 - accuracy: 0.8922 - val_loss: 0.3542 - val_accuracy: 0.8838\n",
            "Epoch 74/100\n",
            "569/569 [==============================] - 10s 18ms/step - loss: 0.3112 - accuracy: 0.8958 - val_loss: 0.3188 - val_accuracy: 0.8956\n",
            "Epoch 75/100\n",
            "569/569 [==============================] - 10s 18ms/step - loss: 0.3004 - accuracy: 0.9004 - val_loss: 0.3549 - val_accuracy: 0.8797\n",
            "Epoch 76/100\n",
            "569/569 [==============================] - 11s 19ms/step - loss: 0.2920 - accuracy: 0.9027 - val_loss: 0.3358 - val_accuracy: 0.8879\n",
            "Epoch 77/100\n",
            "569/569 [==============================] - 11s 19ms/step - loss: 0.2825 - accuracy: 0.9060 - val_loss: 0.3446 - val_accuracy: 0.8819\n",
            "Epoch 78/100\n",
            "569/569 [==============================] - 10s 18ms/step - loss: 0.2823 - accuracy: 0.9057 - val_loss: 0.3604 - val_accuracy: 0.8821\n",
            "Epoch 79/100\n",
            "569/569 [==============================] - 11s 19ms/step - loss: 0.2725 - accuracy: 0.9084 - val_loss: 0.3048 - val_accuracy: 0.9025\n",
            "Epoch 80/100\n",
            "569/569 [==============================] - 10s 18ms/step - loss: 0.2652 - accuracy: 0.9121 - val_loss: 0.2938 - val_accuracy: 0.9038\n",
            "Epoch 81/100\n",
            "569/569 [==============================] - 11s 19ms/step - loss: 0.2561 - accuracy: 0.9143 - val_loss: 0.2833 - val_accuracy: 0.9088\n",
            "Epoch 82/100\n",
            "569/569 [==============================] - 11s 19ms/step - loss: 0.2532 - accuracy: 0.9168 - val_loss: 0.2946 - val_accuracy: 0.9055\n",
            "Epoch 83/100\n",
            "569/569 [==============================] - 10s 18ms/step - loss: 0.2428 - accuracy: 0.9200 - val_loss: 0.2959 - val_accuracy: 0.9099\n",
            "Epoch 84/100\n",
            "569/569 [==============================] - 10s 18ms/step - loss: 0.2326 - accuracy: 0.9232 - val_loss: 0.2718 - val_accuracy: 0.9143\n",
            "Epoch 85/100\n",
            "569/569 [==============================] - 11s 18ms/step - loss: 0.2338 - accuracy: 0.9232 - val_loss: 0.3012 - val_accuracy: 0.9019\n",
            "Epoch 86/100\n",
            "569/569 [==============================] - 11s 19ms/step - loss: 0.2284 - accuracy: 0.9245 - val_loss: 0.2665 - val_accuracy: 0.9179\n",
            "Epoch 87/100\n",
            "569/569 [==============================] - 11s 19ms/step - loss: 0.2646 - accuracy: 0.9108 - val_loss: 0.3617 - val_accuracy: 0.8794\n",
            "Epoch 88/100\n",
            "569/569 [==============================] - 11s 19ms/step - loss: 0.2311 - accuracy: 0.9245 - val_loss: 0.2737 - val_accuracy: 0.9140\n",
            "Epoch 89/100\n",
            "569/569 [==============================] - 11s 19ms/step - loss: 0.2209 - accuracy: 0.9274 - val_loss: 0.2515 - val_accuracy: 0.9198\n",
            "Epoch 90/100\n",
            "569/569 [==============================] - 11s 19ms/step - loss: 0.2148 - accuracy: 0.9297 - val_loss: 0.2744 - val_accuracy: 0.9115\n",
            "Epoch 91/100\n",
            "569/569 [==============================] - 11s 19ms/step - loss: 0.2056 - accuracy: 0.9319 - val_loss: 0.2589 - val_accuracy: 0.9157\n",
            "Epoch 92/100\n",
            "569/569 [==============================] - 11s 19ms/step - loss: 0.2002 - accuracy: 0.9340 - val_loss: 0.2535 - val_accuracy: 0.9165\n",
            "Epoch 93/100\n",
            "569/569 [==============================] - 11s 19ms/step - loss: 0.1970 - accuracy: 0.9359 - val_loss: 0.2733 - val_accuracy: 0.9143\n",
            "Epoch 94/100\n",
            "569/569 [==============================] - 10s 18ms/step - loss: 0.2321 - accuracy: 0.9253 - val_loss: 0.2835 - val_accuracy: 0.9063\n",
            "Epoch 95/100\n",
            "569/569 [==============================] - 11s 19ms/step - loss: 0.1918 - accuracy: 0.9381 - val_loss: 0.2510 - val_accuracy: 0.9195\n",
            "Epoch 96/100\n",
            "569/569 [==============================] - 10s 18ms/step - loss: 0.1875 - accuracy: 0.9392 - val_loss: 0.2521 - val_accuracy: 0.9209\n",
            "Epoch 97/100\n",
            "569/569 [==============================] - 11s 19ms/step - loss: 0.1809 - accuracy: 0.9413 - val_loss: 0.2500 - val_accuracy: 0.9225\n",
            "Epoch 98/100\n",
            "569/569 [==============================] - 11s 20ms/step - loss: 0.1759 - accuracy: 0.9430 - val_loss: 0.2357 - val_accuracy: 0.9250\n",
            "Epoch 99/100\n",
            "569/569 [==============================] - 11s 19ms/step - loss: 0.1769 - accuracy: 0.9424 - val_loss: 0.2508 - val_accuracy: 0.9231\n",
            "Epoch 100/100\n",
            "569/569 [==============================] - 11s 19ms/step - loss: 0.1886 - accuracy: 0.9393 - val_loss: 0.2622 - val_accuracy: 0.9187\n"
          ]
        }
      ],
      "source": [
        "# Train the model on the train set\n",
        "epochs = 100\n",
        "hist_lstm = model.fit(\n",
        "    X_train,y_train,\n",
        "    batch_size=64,\n",
        "    validation_data= (X_val, y_val),\n",
        "    epochs=epochs)"
      ]
    },
    {
      "cell_type": "code",
      "execution_count": null,
      "metadata": {
        "colab": {
          "base_uri": "https://localhost:8080/"
        },
        "id": "x9pJ089rAF68",
        "outputId": "fe60bb26-db79-4733-ea1d-173dbb49f5eb"
      },
      "outputs": [
        {
          "name": "stdout",
          "output_type": "stream",
          "text": [
            "171/171 [==============================] - 2s 12ms/step - loss: 0.3008 - accuracy: 0.9046\n",
            "Test loss: 0.30077868700027466\n",
            "Test accuracy: 0.9045787453651428\n"
          ]
        }
      ],
      "source": [
        "# Evaluate the model on the test set\n",
        "loss, accuracy = model.evaluate(X_test, y_test)\n",
        "print(\"Test loss:\", loss)\n",
        "print(\"Test accuracy:\", accuracy)"
      ]
    },
    {
      "cell_type": "code",
      "execution_count": null,
      "metadata": {
        "colab": {
          "base_uri": "https://localhost:8080/",
          "height": 295
        },
        "id": "TsRCwT7_aIx0",
        "outputId": "d8dfdb59-17d6-4d28-f436-66bc6b743242"
      },
      "outputs": [
        {
          "data": {
            "image/png": "[encoded data removed]",
            "text/plain": [
              "<Figure size 432x288 with 1 Axes>"
            ]
          },
          "metadata": {},
          "output_type": "display_data"
        }
      ],
      "source": [
        "# Plot the training history\n",
        "train_acc = hist_lstm.history['accuracy']\n",
        "val_acc = hist_lstm.history['val_accuracy']\n",
        "test_acc = accuracy\n",
        "\n",
        "plt.plot(train_acc, label='Training accuracy')\n",
        "plt.plot(val_acc, label='Validation accuracy')\n",
        "plt.axhline(test_acc, color='red', linestyle='--', label='Test accuracy')\n",
        "plt.title('Training, Validation, and Test Accuracy')\n",
        "plt.xlabel('Epoch')\n",
        "plt.ylabel('Accuracy')\n",
        "plt.legend()\n",
        "plt.show()"
      ]
    },
    {
      "cell_type": "markdown",
      "source": [
        "**Result Comment :**\n",
        "> As the final result of LSTM-CNN in the Arabic text classification Khaleej dataset, we have Test accuracy of 90.45% and Test loss of  0.3008, to get these results we used a batch of 8 and we trained the model 100 epochs.\n",
        "\n"
      ],
      "metadata": {
        "id": "IyP_188v6RF4"
      }
    },
    {
      "cell_type": "markdown",
      "metadata": {
        "id": "00Uw9WyrZ4p6"
      },
      "source": [
        "### DNN"
      ]
    },
    {
      "cell_type": "code",
      "execution_count": null,
      "metadata": {
        "colab": {
          "base_uri": "https://localhost:8080/"
        },
        "id": "BL2ZGWF7Z7kq",
        "outputId": "d22410e6-1a84-4f6c-89a5-5628b496c0c5"
      },
      "outputs": [
        {
          "name": "stdout",
          "output_type": "stream",
          "text": [
            "Model: \"model_1\"\n",
            "_________________________________________________________________\n",
            " Layer (type)                Output Shape              Param #   \n",
            "=================================================================\n",
            " input_2 (InputLayer)        [(None, 500)]             0         \n",
            "                                                                 \n",
            " embedding_4 (Embedding)     (None, 500, 50)           2000000   \n",
            "                                                                 \n",
            " global_average_pooling1d_1   (None, 50)               0         \n",
            " (GlobalAveragePooling1D)                                        \n",
            "                                                                 \n",
            " dense_4 (Dense)             (None, 7)                 357       \n",
            "                                                                 \n",
            "=================================================================\n",
            "Total params: 2,000,357\n",
            "Trainable params: 2,000,357\n",
            "Non-trainable params: 0\n",
            "_________________________________________________________________\n"
          ]
        }
      ],
      "source": [
        "from keras.layers import Dense, Input, Flatten\n",
        "from keras.layers import GlobalAveragePooling1D, Embedding\n",
        "from keras.models import Model\n",
        "\n",
        "EMBEDDING_DIM = 50\n",
        "MAX_SEQUENCE_LENGTH = 500\n",
        "MAX_NB_WORDS = 40000\n",
        "# input: a sequence of MAX_SEQUENCE_LENGTH integers\n",
        "sequence_input = Input(shape=(MAX_SEQUENCE_LENGTH,), dtype='int32')\n",
        "\n",
        "embedding_layer = Embedding(MAX_NB_WORDS, EMBEDDING_DIM,\n",
        "                            input_length=MAX_SEQUENCE_LENGTH,\n",
        "                            trainable=True)\n",
        "\n",
        "embedded_sequences = embedding_layer(sequence_input)\n",
        "\n",
        "average = GlobalAveragePooling1D()(embedded_sequences)\n",
        "predictions = Dense(N_CLASSES, activation='softmax')(average)\n",
        "\n",
        "model = Model(sequence_input, predictions)\n",
        "model.compile(loss='categorical_crossentropy',\n",
        "              optimizer='adam', metrics=['accuracy'])\n",
        "model.summary()"
      ]
    },
    {
      "cell_type": "code",
      "execution_count": null,
      "metadata": {
        "colab": {
          "base_uri": "https://localhost:8080/"
        },
        "id": "rp2Wec9waO-i",
        "outputId": "59fc26f5-081f-41e7-c12d-89b9f365ae2d"
      },
      "outputs": [
        {
          "name": "stdout",
          "output_type": "stream",
          "text": [
            "Epoch 1/10\n",
            "569/569 [==============================] - 61s 101ms/step - loss: 1.4016 - accuracy: 0.7484 - val_loss: 0.8403 - val_accuracy: 0.9055\n",
            "Epoch 2/10\n",
            "569/569 [==============================] - 41s 72ms/step - loss: 0.5737 - accuracy: 0.9347 - val_loss: 0.4046 - val_accuracy: 0.9484\n",
            "Epoch 3/10\n",
            "569/569 [==============================] - 30s 54ms/step - loss: 0.3141 - accuracy: 0.9614 - val_loss: 0.2643 - val_accuracy: 0.9621\n",
            "Epoch 4/10\n",
            "569/569 [==============================] - 26s 45ms/step - loss: 0.2126 - accuracy: 0.9724 - val_loss: 0.1994 - val_accuracy: 0.9670\n",
            "Epoch 5/10\n",
            "569/569 [==============================] - 19s 34ms/step - loss: 0.1591 - accuracy: 0.9782 - val_loss: 0.1651 - val_accuracy: 0.9717\n",
            "Epoch 6/10\n",
            "569/569 [==============================] - 15s 26ms/step - loss: 0.1254 - accuracy: 0.9823 - val_loss: 0.1425 - val_accuracy: 0.9706\n",
            "Epoch 7/10\n",
            "569/569 [==============================] - 13s 24ms/step - loss: 0.1020 - accuracy: 0.9851 - val_loss: 0.1280 - val_accuracy: 0.9728\n",
            "Epoch 8/10\n",
            "569/569 [==============================] - 12s 22ms/step - loss: 0.0841 - accuracy: 0.9877 - val_loss: 0.1184 - val_accuracy: 0.9736\n",
            "Epoch 9/10\n",
            "569/569 [==============================] - 12s 21ms/step - loss: 0.0704 - accuracy: 0.9900 - val_loss: 0.1106 - val_accuracy: 0.9747\n",
            "Epoch 10/10\n",
            "569/569 [==============================] - 9s 17ms/step - loss: 0.0592 - accuracy: 0.9916 - val_loss: 0.1056 - val_accuracy: 0.9758\n"
          ]
        }
      ],
      "source": [
        "# Train the model on the train set\n",
        "hist_dnn = model.fit(X_train, y_train, validation_data= (X_val, y_val), epochs=10, batch_size=64)"
      ]
    },
    {
      "cell_type": "code",
      "execution_count": null,
      "metadata": {
        "colab": {
          "base_uri": "https://localhost:8080/"
        },
        "id": "rInhkgo2AnNh",
        "outputId": "2e79702e-e8a8-403e-816c-e2cbd6fb7aa1"
      },
      "outputs": [
        {
          "name": "stdout",
          "output_type": "stream",
          "text": [
            "171/171 [==============================] - 1s 4ms/step - loss: 0.1283 - accuracy: 0.9729\n",
            "Test loss: 0.1282920241355896\n",
            "Test accuracy: 0.9728937745094299\n"
          ]
        }
      ],
      "source": [
        "# Evaluate the model on the test set\n",
        "loss, accuracy = model.evaluate(X_test, y_test)\n",
        "print(\"Test loss:\", loss)\n",
        "print(\"Test accuracy:\", accuracy)"
      ]
    },
    {
      "cell_type": "code",
      "execution_count": null,
      "metadata": {
        "colab": {
          "base_uri": "https://localhost:8080/",
          "height": 295
        },
        "id": "azKBM84taR10",
        "outputId": "b39d8af8-dd25-4b44-eccf-08e591c9e6a9"
      },
      "outputs": [
        {
          "data": {
            "image/png": "[encoded data removed]",
            "text/plain": [
              "<Figure size 432x288 with 1 Axes>"
            ]
          },
          "metadata": {},
          "output_type": "display_data"
        }
      ],
      "source": [
        "# Plot the training history\n",
        "train_acc = hist_dnn.history['accuracy']\n",
        "val_acc = hist_dnn.history['val_accuracy']\n",
        "test_acc = accuracy\n",
        "\n",
        "plt.plot(train_acc, label='Training accuracy')\n",
        "plt.plot(val_acc, label='Validation accuracy')\n",
        "plt.axhline(test_acc, color='red', linestyle='--', label='Test accuracy')\n",
        "plt.title('Training, Validation, and Test Accuracy')\n",
        "plt.xlabel('Epoch')\n",
        "plt.ylabel('Accuracy')\n",
        "plt.legend()\n",
        "plt.show()"
      ]
    },
    {
      "cell_type": "markdown",
      "metadata": {
        "id": "G1xHM3Gc6reE"
      },
      "source": [
        "**Result Comment :**\n",
        "\n",
        "> As the final result of DNN in the Arabic text classification with Khaleej dataset, we have Test accuracy of 97.29% and Test loss of 0.1283, to get these results we used a batch of 64 and we trained the model 10 epochs.\n",
        "\n",
        "⟹**This is the model that give best result with a few nubmer of epochs.**\n",
        "\n"
      ]
    },
    {
      "cell_type": "markdown",
      "metadata": {
        "id": "UCrnaX3uCMYK"
      },
      "source": [
        "## **Deep Learning Models With Tuning**\n",
        "\n"
      ]
    },
    {
      "cell_type": "markdown",
      "metadata": {
        "id": "gXKyYmmXCT7L"
      },
      "source": [
        "### LSTM-CNN\n"
      ]
    },
    {
      "cell_type": "code",
      "execution_count": null,
      "metadata": {
        "id": "zbBIi_oJCS_5"
      },
      "outputs": [],
      "source": [
        "# Define the model-building function\n",
        "def build_model(hp):\n",
        "    embedding_dim = hp.Int('embedding_dim', min_value=32, max_value=512, step=32)\n",
        "    filters = hp.Int('filters', min_value=64, max_value=256, step=32)\n",
        "    kernel_size = hp.Int('kernel_size', min_value=3, max_value=7, step=2)\n",
        "    lstm_units = hp.Int('lstm_units', min_value=32 , max_value=128, step=32)\n",
        "    max_features = hp.Int('max_features', min_value=10000 , max_value=50000, step=10000)\n",
        "    model = Sequential([\n",
        "        Embedding(max_features + 1, hp['embedding_dim'], trainable=False),\n",
        "        Dropout(0.2),\n",
        "        Conv1D(hp['filters'], hp['kernel_size'], activation='relu'),\n",
        "        MaxPooling1D(pool_size=4),\n",
        "        LSTM(hp['lstm_units']),\n",
        "        Dense(N_CLASSES, activation='softmax')\n",
        "    ])\n",
        "    model.compile(loss='categorical_crossentropy', optimizer='SGD', metrics=['accuracy'])\n",
        "    return model"
      ]
    },
    {
      "cell_type": "code",
      "execution_count": null,
      "metadata": {
        "id": "UBueehEaHtwd"
      },
      "outputs": [],
      "source": [
        "# Instantiate the tuner\n",
        "tuner = RandomSearch(\n",
        "    build_model,\n",
        "    objective='val_accuracy',\n",
        "    max_trials=10,\n",
        "    directory='lstm_cnn_tuner_results',\n",
        "    project_name='lstm_cnn_tuning'\n",
        ")\n"
      ]
    },
    {
      "cell_type": "code",
      "execution_count": null,
      "metadata": {
        "colab": {
          "base_uri": "https://localhost:8080/"
        },
        "id": "2cKg3ygEHvwb",
        "outputId": "0feff0f1-6289-4a61-a731-1ef1cdee4301"
      },
      "outputs": [
        {
          "name": "stdout",
          "output_type": "stream",
          "text": [
            "Trial 10 Complete [00h 03m 25s]\n",
            "val_accuracy: 0.4263736307621002\n",
            "\n",
            "Best val_accuracy So Far: 0.7991757988929749\n",
            "Total elapsed time: 00h 40m 39s\n"
          ]
        }
      ],
      "source": [
        "# Perform the hyperparameter search\n",
        "tuner.search(\n",
        "    X_train,\n",
        "    y_train,\n",
        "    validation_data=(X_val, y_val),\n",
        "    batch_size=64,\n",
        "    epochs=20\n",
        ")"
      ]
    },
    {
      "cell_type": "code",
      "execution_count": null,
      "metadata": {
        "colab": {
          "base_uri": "https://localhost:8080/"
        },
        "id": "7YMA3OLhHyvE",
        "outputId": "7252065a-cc0a-4386-8151-999354704af6"
      },
      "outputs": [
        {
          "name": "stdout",
          "output_type": "stream",
          "text": [
            "Best hyperparameters: <keras_tuner.engine.hyperparameters.hyperparameters.HyperParameters object at 0x7f64a04c30a0>\n",
            "Epoch 1/100\n",
            "569/569 [==============================] - 25s 37ms/step - loss: 1.9449 - accuracy: 0.1532 - val_loss: 1.9430 - val_accuracy: 0.1923\n",
            "Epoch 2/100\n",
            "569/569 [==============================] - 17s 30ms/step - loss: 1.9419 - accuracy: 0.2046 - val_loss: 1.9403 - val_accuracy: 0.2621\n",
            "Epoch 3/100\n",
            "569/569 [==============================] - 17s 29ms/step - loss: 1.9381 - accuracy: 0.2336 - val_loss: 1.9363 - val_accuracy: 0.2379\n",
            "Epoch 4/100\n",
            "569/569 [==============================] - 16s 29ms/step - loss: 1.9319 - accuracy: 0.2705 - val_loss: 1.9280 - val_accuracy: 0.3451\n",
            "Epoch 5/100\n",
            "569/569 [==============================] - 17s 30ms/step - loss: 1.8822 - accuracy: 0.3130 - val_loss: 1.7973 - val_accuracy: 0.3470\n",
            "Epoch 6/100\n",
            "569/569 [==============================] - 17s 31ms/step - loss: 1.7686 - accuracy: 0.3400 - val_loss: 1.7086 - val_accuracy: 0.3604\n",
            "Epoch 7/100\n",
            "569/569 [==============================] - 17s 31ms/step - loss: 1.6771 - accuracy: 0.3591 - val_loss: 1.8931 - val_accuracy: 0.2305\n",
            "Epoch 8/100\n",
            "569/569 [==============================] - 17s 30ms/step - loss: 1.5855 - accuracy: 0.3866 - val_loss: 1.4607 - val_accuracy: 0.4462\n",
            "Epoch 9/100\n",
            "569/569 [==============================] - 17s 30ms/step - loss: 1.5066 - accuracy: 0.4104 - val_loss: 1.3680 - val_accuracy: 0.4909\n",
            "Epoch 10/100\n",
            "569/569 [==============================] - 17s 29ms/step - loss: 1.4517 - accuracy: 0.4322 - val_loss: 1.5579 - val_accuracy: 0.3420\n",
            "Epoch 11/100\n",
            "569/569 [==============================] - 16s 29ms/step - loss: 1.3563 - accuracy: 0.4718 - val_loss: 1.3129 - val_accuracy: 0.4882\n",
            "Epoch 12/100\n",
            "569/569 [==============================] - 17s 29ms/step - loss: 1.2856 - accuracy: 0.5038 - val_loss: 1.0997 - val_accuracy: 0.6181\n",
            "Epoch 13/100\n",
            "569/569 [==============================] - 16s 29ms/step - loss: 1.1886 - accuracy: 0.5456 - val_loss: 1.4800 - val_accuracy: 0.4162\n",
            "Epoch 14/100\n",
            "569/569 [==============================] - 17s 29ms/step - loss: 1.1211 - accuracy: 0.5712 - val_loss: 1.0135 - val_accuracy: 0.5758\n",
            "Epoch 15/100\n",
            "569/569 [==============================] - 17s 29ms/step - loss: 1.0513 - accuracy: 0.6048 - val_loss: 1.0171 - val_accuracy: 0.5907\n",
            "Epoch 16/100\n",
            "569/569 [==============================] - 16s 29ms/step - loss: 0.9982 - accuracy: 0.6284 - val_loss: 1.0455 - val_accuracy: 0.5736\n",
            "Epoch 17/100\n",
            "569/569 [==============================] - 16s 29ms/step - loss: 0.9172 - accuracy: 0.6602 - val_loss: 0.8508 - val_accuracy: 0.6648\n",
            "Epoch 18/100\n",
            "569/569 [==============================] - 18s 32ms/step - loss: 0.8555 - accuracy: 0.6876 - val_loss: 1.7178 - val_accuracy: 0.4357\n",
            "Epoch 19/100\n",
            "569/569 [==============================] - 19s 34ms/step - loss: 0.8204 - accuracy: 0.7038 - val_loss: 0.8754 - val_accuracy: 0.6714\n",
            "Epoch 20/100\n",
            "569/569 [==============================] - 17s 30ms/step - loss: 0.7675 - accuracy: 0.7241 - val_loss: 0.7051 - val_accuracy: 0.7288\n",
            "Epoch 21/100\n",
            "569/569 [==============================] - 16s 29ms/step - loss: 0.6910 - accuracy: 0.7564 - val_loss: 1.0879 - val_accuracy: 0.6005\n",
            "Epoch 22/100\n",
            "569/569 [==============================] - 16s 29ms/step - loss: 0.6489 - accuracy: 0.7699 - val_loss: 0.5128 - val_accuracy: 0.8280\n",
            "Epoch 23/100\n",
            "569/569 [==============================] - 17s 30ms/step - loss: 0.6095 - accuracy: 0.7894 - val_loss: 0.4756 - val_accuracy: 0.8445\n",
            "Epoch 24/100\n",
            "569/569 [==============================] - 17s 29ms/step - loss: 0.5406 - accuracy: 0.8149 - val_loss: 0.5109 - val_accuracy: 0.8137\n",
            "Epoch 25/100\n",
            "569/569 [==============================] - 17s 30ms/step - loss: 0.5220 - accuracy: 0.8242 - val_loss: 0.3777 - val_accuracy: 0.8854\n",
            "Epoch 26/100\n",
            "569/569 [==============================] - 17s 30ms/step - loss: 0.4905 - accuracy: 0.8345 - val_loss: 0.5095 - val_accuracy: 0.8225\n",
            "Epoch 27/100\n",
            "569/569 [==============================] - 17s 29ms/step - loss: 0.4438 - accuracy: 0.8546 - val_loss: 0.3628 - val_accuracy: 0.8893\n",
            "Epoch 28/100\n",
            "569/569 [==============================] - 17s 29ms/step - loss: 0.4322 - accuracy: 0.8585 - val_loss: 0.3946 - val_accuracy: 0.8692\n",
            "Epoch 29/100\n",
            "569/569 [==============================] - 16s 29ms/step - loss: 0.3915 - accuracy: 0.8720 - val_loss: 0.2977 - val_accuracy: 0.9107\n",
            "Epoch 30/100\n",
            "569/569 [==============================] - 16s 29ms/step - loss: 0.3833 - accuracy: 0.8764 - val_loss: 0.4587 - val_accuracy: 0.8486\n",
            "Epoch 31/100\n",
            "569/569 [==============================] - 16s 29ms/step - loss: 0.3649 - accuracy: 0.8838 - val_loss: 0.2886 - val_accuracy: 0.9099\n",
            "Epoch 32/100\n",
            "569/569 [==============================] - 17s 30ms/step - loss: 0.3752 - accuracy: 0.8783 - val_loss: 0.3269 - val_accuracy: 0.8959\n",
            "Epoch 33/100\n",
            "569/569 [==============================] - 16s 29ms/step - loss: 0.3201 - accuracy: 0.8978 - val_loss: 0.2617 - val_accuracy: 0.9234\n",
            "Epoch 34/100\n",
            "569/569 [==============================] - 16s 29ms/step - loss: 0.3138 - accuracy: 0.9012 - val_loss: 0.4144 - val_accuracy: 0.8635\n",
            "Epoch 35/100\n",
            "569/569 [==============================] - 16s 29ms/step - loss: 0.3045 - accuracy: 0.9055 - val_loss: 0.2754 - val_accuracy: 0.9190\n",
            "Epoch 36/100\n",
            "569/569 [==============================] - 16s 29ms/step - loss: 0.2783 - accuracy: 0.9129 - val_loss: 0.2425 - val_accuracy: 0.9264\n",
            "Epoch 37/100\n",
            "569/569 [==============================] - 16s 29ms/step - loss: 0.3148 - accuracy: 0.9037 - val_loss: 0.6643 - val_accuracy: 0.7857\n",
            "Epoch 38/100\n",
            "569/569 [==============================] - 17s 30ms/step - loss: 0.2820 - accuracy: 0.9116 - val_loss: 0.2359 - val_accuracy: 0.9275\n",
            "Epoch 39/100\n",
            "569/569 [==============================] - 16s 29ms/step - loss: 0.2519 - accuracy: 0.9210 - val_loss: 0.4270 - val_accuracy: 0.8629\n",
            "Epoch 40/100\n",
            "569/569 [==============================] - 16s 29ms/step - loss: 0.2542 - accuracy: 0.9204 - val_loss: 0.3407 - val_accuracy: 0.8953\n",
            "Epoch 41/100\n",
            "569/569 [==============================] - 17s 30ms/step - loss: 0.2370 - accuracy: 0.9263 - val_loss: 0.2318 - val_accuracy: 0.9305\n",
            "Epoch 42/100\n",
            "569/569 [==============================] - 16s 29ms/step - loss: 0.2269 - accuracy: 0.9297 - val_loss: 0.2484 - val_accuracy: 0.9242\n",
            "Epoch 43/100\n",
            "569/569 [==============================] - 16s 29ms/step - loss: 0.2160 - accuracy: 0.9325 - val_loss: 0.3804 - val_accuracy: 0.8780\n",
            "Epoch 44/100\n",
            "569/569 [==============================] - 16s 29ms/step - loss: 0.2115 - accuracy: 0.9343 - val_loss: 0.3292 - val_accuracy: 0.8912\n",
            "Epoch 45/100\n",
            "569/569 [==============================] - 16s 29ms/step - loss: 0.2047 - accuracy: 0.9361 - val_loss: 0.2666 - val_accuracy: 0.9113\n",
            "Epoch 46/100\n",
            "569/569 [==============================] - 16s 29ms/step - loss: 0.2121 - accuracy: 0.9341 - val_loss: 0.2589 - val_accuracy: 0.9209\n",
            "Epoch 47/100\n",
            "569/569 [==============================] - 16s 29ms/step - loss: 0.2023 - accuracy: 0.9365 - val_loss: 0.2295 - val_accuracy: 0.9321\n",
            "Epoch 48/100\n",
            "569/569 [==============================] - 16s 29ms/step - loss: 0.1889 - accuracy: 0.9428 - val_loss: 0.2743 - val_accuracy: 0.9077\n",
            "Epoch 49/100\n",
            "569/569 [==============================] - 16s 29ms/step - loss: 0.1857 - accuracy: 0.9418 - val_loss: 0.2738 - val_accuracy: 0.9195\n",
            "Epoch 50/100\n",
            "569/569 [==============================] - 17s 30ms/step - loss: 0.1751 - accuracy: 0.9459 - val_loss: 0.2185 - val_accuracy: 0.9354\n",
            "Epoch 51/100\n",
            "569/569 [==============================] - 16s 29ms/step - loss: 0.1791 - accuracy: 0.9436 - val_loss: 0.2007 - val_accuracy: 0.9297\n",
            "Epoch 52/100\n",
            "569/569 [==============================] - 16s 29ms/step - loss: 0.1674 - accuracy: 0.9479 - val_loss: 0.2542 - val_accuracy: 0.9225\n",
            "Epoch 53/100\n",
            "569/569 [==============================] - 16s 29ms/step - loss: 0.1603 - accuracy: 0.9516 - val_loss: 0.2363 - val_accuracy: 0.9239\n",
            "Epoch 54/100\n",
            "569/569 [==============================] - 17s 30ms/step - loss: 0.1557 - accuracy: 0.9518 - val_loss: 0.2565 - val_accuracy: 0.9242\n",
            "Epoch 55/100\n",
            "569/569 [==============================] - 16s 29ms/step - loss: 0.1603 - accuracy: 0.9500 - val_loss: 0.2837 - val_accuracy: 0.9082\n",
            "Epoch 56/100\n",
            "569/569 [==============================] - 17s 29ms/step - loss: 0.1509 - accuracy: 0.9526 - val_loss: 0.1996 - val_accuracy: 0.9396\n",
            "Epoch 57/100\n",
            "569/569 [==============================] - 17s 30ms/step - loss: 0.1908 - accuracy: 0.9463 - val_loss: 0.1996 - val_accuracy: 0.9409\n",
            "Epoch 58/100\n",
            "569/569 [==============================] - 17s 29ms/step - loss: 0.1507 - accuracy: 0.9542 - val_loss: 0.2182 - val_accuracy: 0.9360\n",
            "Epoch 59/100\n",
            "569/569 [==============================] - 16s 29ms/step - loss: 0.1760 - accuracy: 0.9470 - val_loss: 0.2191 - val_accuracy: 0.9324\n",
            "Epoch 60/100\n",
            "569/569 [==============================] - 17s 30ms/step - loss: 0.1435 - accuracy: 0.9575 - val_loss: 0.2059 - val_accuracy: 0.9371\n",
            "Epoch 61/100\n",
            "569/569 [==============================] - 17s 29ms/step - loss: 0.1575 - accuracy: 0.9530 - val_loss: 0.1864 - val_accuracy: 0.9415\n",
            "Epoch 62/100\n",
            "569/569 [==============================] - 16s 29ms/step - loss: 0.1333 - accuracy: 0.9594 - val_loss: 0.1847 - val_accuracy: 0.9492\n",
            "Epoch 63/100\n",
            "569/569 [==============================] - 17s 29ms/step - loss: 0.1405 - accuracy: 0.9580 - val_loss: 0.1845 - val_accuracy: 0.9486\n",
            "Epoch 64/100\n",
            "569/569 [==============================] - 16s 29ms/step - loss: 0.1312 - accuracy: 0.9594 - val_loss: 0.3883 - val_accuracy: 0.8673\n",
            "Epoch 65/100\n",
            "569/569 [==============================] - 16s 29ms/step - loss: 0.1286 - accuracy: 0.9609 - val_loss: 0.1929 - val_accuracy: 0.9415\n",
            "Epoch 66/100\n",
            "569/569 [==============================] - 16s 29ms/step - loss: 0.1283 - accuracy: 0.9613 - val_loss: 0.2173 - val_accuracy: 0.9368\n",
            "Epoch 67/100\n",
            "569/569 [==============================] - 16s 29ms/step - loss: 0.1189 - accuracy: 0.9631 - val_loss: 0.1665 - val_accuracy: 0.9527\n",
            "Epoch 68/100\n",
            "569/569 [==============================] - 16s 29ms/step - loss: 0.1224 - accuracy: 0.9626 - val_loss: 0.1815 - val_accuracy: 0.9473\n",
            "Epoch 69/100\n",
            "569/569 [==============================] - 16s 29ms/step - loss: 0.1167 - accuracy: 0.9648 - val_loss: 0.1889 - val_accuracy: 0.9440\n",
            "Epoch 70/100\n",
            "569/569 [==============================] - 16s 29ms/step - loss: 0.1180 - accuracy: 0.9643 - val_loss: 0.1660 - val_accuracy: 0.9486\n",
            "Epoch 71/100\n",
            "569/569 [==============================] - 16s 29ms/step - loss: 0.1130 - accuracy: 0.9654 - val_loss: 0.1779 - val_accuracy: 0.9478\n",
            "Epoch 72/100\n",
            "569/569 [==============================] - 17s 30ms/step - loss: 0.1217 - accuracy: 0.9626 - val_loss: 0.1846 - val_accuracy: 0.9456\n",
            "Epoch 73/100\n",
            "569/569 [==============================] - 16s 29ms/step - loss: 0.1116 - accuracy: 0.9660 - val_loss: 0.1550 - val_accuracy: 0.9527\n",
            "Epoch 74/100\n",
            "569/569 [==============================] - 16s 29ms/step - loss: 0.1043 - accuracy: 0.9679 - val_loss: 0.1525 - val_accuracy: 0.9530\n",
            "Epoch 75/100\n",
            "569/569 [==============================] - 17s 30ms/step - loss: 0.1001 - accuracy: 0.9688 - val_loss: 0.1919 - val_accuracy: 0.9442\n",
            "Epoch 76/100\n",
            "569/569 [==============================] - 16s 29ms/step - loss: 0.1045 - accuracy: 0.9681 - val_loss: 0.2294 - val_accuracy: 0.9253\n",
            "Epoch 77/100\n",
            "569/569 [==============================] - 16s 29ms/step - loss: 0.1045 - accuracy: 0.9687 - val_loss: 0.1795 - val_accuracy: 0.9420\n",
            "Epoch 78/100\n",
            "569/569 [==============================] - 17s 30ms/step - loss: 0.0986 - accuracy: 0.9696 - val_loss: 0.1649 - val_accuracy: 0.9547\n",
            "Epoch 79/100\n",
            "569/569 [==============================] - 16s 29ms/step - loss: 0.1254 - accuracy: 0.9641 - val_loss: 0.4748 - val_accuracy: 0.8088\n",
            "Epoch 80/100\n",
            "569/569 [==============================] - 16s 29ms/step - loss: 0.1164 - accuracy: 0.9660 - val_loss: 0.1633 - val_accuracy: 0.9541\n",
            "Epoch 81/100\n",
            "569/569 [==============================] - 17s 30ms/step - loss: 0.0949 - accuracy: 0.9715 - val_loss: 0.2006 - val_accuracy: 0.9440\n",
            "Epoch 82/100\n",
            "569/569 [==============================] - 16s 29ms/step - loss: 0.0929 - accuracy: 0.9723 - val_loss: 0.1538 - val_accuracy: 0.9560\n",
            "Epoch 83/100\n",
            "569/569 [==============================] - 16s 29ms/step - loss: 0.0894 - accuracy: 0.9724 - val_loss: 0.1934 - val_accuracy: 0.9431\n",
            "Epoch 84/100\n",
            "569/569 [==============================] - 17s 30ms/step - loss: 0.1060 - accuracy: 0.9691 - val_loss: 0.1563 - val_accuracy: 0.9536\n",
            "Epoch 85/100\n",
            "569/569 [==============================] - 16s 29ms/step - loss: 0.0901 - accuracy: 0.9729 - val_loss: 0.2099 - val_accuracy: 0.9379\n",
            "Epoch 86/100\n",
            "569/569 [==============================] - 16s 29ms/step - loss: 0.0819 - accuracy: 0.9749 - val_loss: 0.2929 - val_accuracy: 0.9060\n",
            "Epoch 87/100\n",
            "569/569 [==============================] - 17s 30ms/step - loss: 0.0865 - accuracy: 0.9740 - val_loss: 0.1606 - val_accuracy: 0.9530\n",
            "Epoch 88/100\n",
            "569/569 [==============================] - 16s 29ms/step - loss: 0.0889 - accuracy: 0.9738 - val_loss: 0.1720 - val_accuracy: 0.9536\n",
            "Epoch 89/100\n",
            "569/569 [==============================] - 16s 29ms/step - loss: 0.0846 - accuracy: 0.9743 - val_loss: 0.1916 - val_accuracy: 0.9385\n",
            "Epoch 90/100\n",
            "569/569 [==============================] - 16s 29ms/step - loss: 0.0873 - accuracy: 0.9738 - val_loss: 0.1729 - val_accuracy: 0.9497\n",
            "Epoch 91/100\n",
            "569/569 [==============================] - 16s 29ms/step - loss: 0.0808 - accuracy: 0.9755 - val_loss: 0.1773 - val_accuracy: 0.9514\n",
            "Epoch 92/100\n",
            "569/569 [==============================] - 17s 29ms/step - loss: 0.0744 - accuracy: 0.9777 - val_loss: 0.1649 - val_accuracy: 0.9508\n",
            "Epoch 93/100\n",
            "569/569 [==============================] - 16s 29ms/step - loss: 0.0812 - accuracy: 0.9765 - val_loss: 0.1806 - val_accuracy: 0.9456\n",
            "Epoch 94/100\n",
            "569/569 [==============================] - 16s 29ms/step - loss: 0.0755 - accuracy: 0.9773 - val_loss: 0.1745 - val_accuracy: 0.9508\n",
            "Epoch 95/100\n",
            "569/569 [==============================] - 16s 29ms/step - loss: 0.0768 - accuracy: 0.9778 - val_loss: 0.2507 - val_accuracy: 0.9212\n",
            "Epoch 96/100\n",
            "569/569 [==============================] - 16s 29ms/step - loss: 0.0726 - accuracy: 0.9787 - val_loss: 0.1730 - val_accuracy: 0.9481\n",
            "Epoch 97/100\n",
            "569/569 [==============================] - 17s 29ms/step - loss: 0.0746 - accuracy: 0.9781 - val_loss: 0.1688 - val_accuracy: 0.9489\n",
            "Epoch 98/100\n",
            "569/569 [==============================] - 16s 29ms/step - loss: 0.0712 - accuracy: 0.9797 - val_loss: 0.1681 - val_accuracy: 0.9486\n",
            "Epoch 99/100\n",
            "569/569 [==============================] - 16s 29ms/step - loss: 0.0725 - accuracy: 0.9779 - val_loss: 0.1925 - val_accuracy: 0.9407\n",
            "Epoch 100/100\n",
            "569/569 [==============================] - 16s 29ms/step - loss: 0.0712 - accuracy: 0.9791 - val_loss: 0.2041 - val_accuracy: 0.9434\n"
          ]
        }
      ],
      "source": [
        "# Print the best hyperparameters\n",
        "best_hps = tuner.get_best_hyperparameters(num_trials=1)[0]\n",
        "print(\"Best hyperparameters:\", best_hps)\n",
        "\n",
        "# Build the model with the best hyperparameters and train it\n",
        "model = tuner.hypermodel.build(best_hps)\n",
        "hist_lstm_cnn_tuner = model.fit(\n",
        "    X_train,\n",
        "    y_train,\n",
        "    validation_data=(X_val, y_val),\n",
        "    batch_size=64,\n",
        "    epochs=100\n",
        ")\n"
      ]
    },
    {
      "cell_type": "code",
      "execution_count": null,
      "metadata": {
        "colab": {
          "base_uri": "https://localhost:8080/"
        },
        "id": "A9QDNLNCH1C6",
        "outputId": "a3460e8f-8d87-4c20-8f09-d684c861c9be"
      },
      "outputs": [
        {
          "name": "stdout",
          "output_type": "stream",
          "text": [
            "171/171 [==============================] - 2s 9ms/step - loss: 0.2053 - accuracy: 0.9412\n",
            "Test loss: 0.2053181231021881\n",
            "Test accuracy: 0.9412087798118591\n"
          ]
        }
      ],
      "source": [
        "# Evaluate the model on the test set\n",
        "loss, accuracy = model.evaluate(X_test, y_test)\n",
        "print(\"Test loss:\", loss)\n",
        "print(\"Test accuracy:\", accuracy)"
      ]
    },
    {
      "cell_type": "code",
      "execution_count": null,
      "metadata": {
        "colab": {
          "base_uri": "https://localhost:8080/",
          "height": 295
        },
        "id": "UnpIUwZhH4bc",
        "outputId": "41256df0-7d5a-41c9-cbec-e716fcfab5fd"
      },
      "outputs": [
        {
          "data": {
            "image/png": "[encoded data removed]",
            "text/plain": [
              "<Figure size 432x288 with 1 Axes>"
            ]
          },
          "metadata": {
            "needs_background": "light"
          },
          "output_type": "display_data"
        }
      ],
      "source": [
        "# Plot the training history\n",
        "train_acc = hist_lstm_cnn_tuner.history['accuracy']\n",
        "val_acc = hist_lstm_cnn_tuner.history['val_accuracy']\n",
        "test_acc = accuracy\n",
        "\n",
        "plt.plot(train_acc, label='Training accuracy')\n",
        "plt.plot(val_acc, label='Validation accuracy')\n",
        "plt.axhline(test_acc, color='red', linestyle='--', label='Test accuracy')\n",
        "plt.title('Training, Validation, and Test Accuracy')\n",
        "plt.xlabel('Epoch')\n",
        "plt.ylabel('Accuracy')\n",
        "plt.legend()\n",
        "plt.show()"
      ]
    },
    {
      "cell_type": "markdown",
      "source": [
        "**Result Comment :**\n",
        "\n",
        "> As the final result of LSTM-CNN in the Arabic text classification, we have Test accuracy of 94.12% and Test loss of 20.53, to get these results we used a batch of 64, we trained the model 100 epochs, and the search for hyperparameter take 10 as max number of trials."
      ],
      "metadata": {
        "id": "JwkgXORO8eXM"
      }
    },
    {
      "cell_type": "markdown",
      "metadata": {
        "id": "cwAQYW0Kfad_"
      },
      "source": [
        "### CNN"
      ]
    },
    {
      "cell_type": "code",
      "execution_count": null,
      "metadata": {
        "id": "7I0_lTgtfhYx"
      },
      "outputs": [],
      "source": [
        "# Define the model-building function\n",
        "def build_model(hp):\n",
        "    MAX_SEQUENCE_LENGTH = 500\n",
        "    embedding_dim = hp.Int('embedding_dim', min_value=32, max_value=512, step=32)\n",
        "    filters = hp.Int('filters', min_value=64, max_value=256, step=32)\n",
        "    kernel_size = hp.Int('kernel_size', min_value=3, max_value=7, step=2)\n",
        "    max_features = hp.Int('max_features', min_value=10000 , max_value=50000, step=10000)\n",
        "    model = Sequential([\n",
        "        Embedding(max_features + 1, hp['embedding_dim'], input_shape=(MAX_SEQUENCE_LENGTH,), trainable=False),\n",
        "        Dropout(0.2),\n",
        "        Conv1D(hp['filters'], hp['kernel_size'], activation='relu'),\n",
        "        MaxPooling1D(pool_size=4),\n",
        "        Flatten(),\n",
        "        Dense(N_CLASSES, activation='softmax')\n",
        "    ])\n",
        "    model.compile(loss='categorical_crossentropy', optimizer='SGD', metrics=['accuracy'])\n",
        "    return model"
      ]
    },
    {
      "cell_type": "code",
      "execution_count": null,
      "metadata": {
        "id": "tHl2CLLKgLyx"
      },
      "outputs": [],
      "source": [
        "# Instantiate the tuner\n",
        "tuner = RandomSearch(\n",
        "    build_model,\n",
        "    objective='val_accuracy',\n",
        "    max_trials=10,\n",
        "    directory='cnn_tuner_results',\n",
        "    project_name='cnn_tuning'\n",
        ")"
      ]
    },
    {
      "cell_type": "code",
      "execution_count": null,
      "metadata": {
        "colab": {
          "base_uri": "https://localhost:8080/"
        },
        "id": "1IkVigvfgYFj",
        "outputId": "6c7e48e5-b8f9-4960-f16f-83479dc0fd6f"
      },
      "outputs": [
        {
          "name": "stdout",
          "output_type": "stream",
          "text": [
            "Trial 10 Complete [00h 04m 49s]\n",
            "val_accuracy: 0.7590659260749817\n",
            "\n",
            "Best val_accuracy So Far: 0.7857142686843872\n",
            "Total elapsed time: 00h 38m 23s\n"
          ]
        }
      ],
      "source": [
        "# Perform the hyperparameter search\n",
        "tuner.search(\n",
        "    X_train,\n",
        "    y_train,\n",
        "    validation_data=(X_val, y_val),\n",
        "    batch_size=64,\n",
        "    epochs=20\n",
        ")"
      ]
    },
    {
      "cell_type": "code",
      "execution_count": null,
      "metadata": {
        "colab": {
          "base_uri": "https://localhost:8080/"
        },
        "id": "SrUwhXp5gYOT",
        "outputId": "7fdc5c72-1531-4258-977f-d372ba38a566"
      },
      "outputs": [
        {
          "name": "stdout",
          "output_type": "stream",
          "text": [
            "Best hyperparameters: <keras_tuner.engine.hyperparameters.hyperparameters.HyperParameters object at 0x7fca505f12e0>\n",
            "Epoch 1/100\n",
            "569/569 [==============================] - 13s 21ms/step - loss: 1.8325 - accuracy: 0.2643 - val_loss: 1.7858 - val_accuracy: 0.2863\n",
            "Epoch 2/100\n",
            "569/569 [==============================] - 12s 21ms/step - loss: 1.7774 - accuracy: 0.2902 - val_loss: 1.7668 - val_accuracy: 0.2912\n",
            "Epoch 3/100\n",
            "569/569 [==============================] - 12s 21ms/step - loss: 1.7603 - accuracy: 0.3042 - val_loss: 1.7545 - val_accuracy: 0.3179\n",
            "Epoch 4/100\n",
            "569/569 [==============================] - 12s 21ms/step - loss: 1.7390 - accuracy: 0.3251 - val_loss: 1.7278 - val_accuracy: 0.3324\n",
            "Epoch 5/100\n",
            "569/569 [==============================] - 12s 21ms/step - loss: 1.7054 - accuracy: 0.3456 - val_loss: 1.6875 - val_accuracy: 0.3599\n",
            "Epoch 6/100\n",
            "569/569 [==============================] - 12s 21ms/step - loss: 1.6561 - accuracy: 0.3693 - val_loss: 1.6335 - val_accuracy: 0.3734\n",
            "Epoch 7/100\n",
            "569/569 [==============================] - 12s 21ms/step - loss: 1.5978 - accuracy: 0.3862 - val_loss: 1.5792 - val_accuracy: 0.3937\n",
            "Epoch 8/100\n",
            "569/569 [==============================] - 12s 21ms/step - loss: 1.5441 - accuracy: 0.4002 - val_loss: 1.5322 - val_accuracy: 0.4066\n",
            "Epoch 9/100\n",
            "569/569 [==============================] - 12s 21ms/step - loss: 1.4985 - accuracy: 0.4155 - val_loss: 1.4898 - val_accuracy: 0.4146\n",
            "Epoch 10/100\n",
            "569/569 [==============================] - 12s 21ms/step - loss: 1.4556 - accuracy: 0.4355 - val_loss: 1.4463 - val_accuracy: 0.4709\n",
            "Epoch 11/100\n",
            "569/569 [==============================] - 12s 21ms/step - loss: 1.4149 - accuracy: 0.4603 - val_loss: 1.4082 - val_accuracy: 0.5025\n",
            "Epoch 12/100\n",
            "569/569 [==============================] - 12s 21ms/step - loss: 1.3733 - accuracy: 0.4915 - val_loss: 1.3660 - val_accuracy: 0.4907\n",
            "Epoch 13/100\n",
            "569/569 [==============================] - 12s 21ms/step - loss: 1.3317 - accuracy: 0.5234 - val_loss: 1.3230 - val_accuracy: 0.5250\n",
            "Epoch 14/100\n",
            "569/569 [==============================] - 12s 21ms/step - loss: 1.2863 - accuracy: 0.5560 - val_loss: 1.2846 - val_accuracy: 0.5420\n",
            "Epoch 15/100\n",
            "569/569 [==============================] - 12s 21ms/step - loss: 1.2382 - accuracy: 0.5893 - val_loss: 1.2277 - val_accuracy: 0.5890\n",
            "Epoch 16/100\n",
            "569/569 [==============================] - 12s 21ms/step - loss: 1.1878 - accuracy: 0.6223 - val_loss: 1.1751 - val_accuracy: 0.6673\n",
            "Epoch 17/100\n",
            "569/569 [==============================] - 12s 21ms/step - loss: 1.1325 - accuracy: 0.6552 - val_loss: 1.1165 - val_accuracy: 0.6992\n",
            "Epoch 18/100\n",
            "569/569 [==============================] - 12s 21ms/step - loss: 1.0745 - accuracy: 0.6894 - val_loss: 1.0584 - val_accuracy: 0.7099\n",
            "Epoch 19/100\n",
            "569/569 [==============================] - 12s 21ms/step - loss: 1.0171 - accuracy: 0.7171 - val_loss: 0.9976 - val_accuracy: 0.7412\n",
            "Epoch 20/100\n",
            "569/569 [==============================] - 12s 21ms/step - loss: 0.9563 - accuracy: 0.7434 - val_loss: 0.9374 - val_accuracy: 0.7629\n",
            "Epoch 21/100\n",
            "569/569 [==============================] - 12s 21ms/step - loss: 0.9003 - accuracy: 0.7669 - val_loss: 0.8814 - val_accuracy: 0.7615\n",
            "Epoch 22/100\n",
            "569/569 [==============================] - 12s 21ms/step - loss: 0.8447 - accuracy: 0.7844 - val_loss: 0.8351 - val_accuracy: 0.7887\n",
            "Epoch 23/100\n",
            "569/569 [==============================] - 12s 21ms/step - loss: 0.7928 - accuracy: 0.8040 - val_loss: 0.7832 - val_accuracy: 0.7764\n",
            "Epoch 24/100\n",
            "569/569 [==============================] - 12s 21ms/step - loss: 0.7456 - accuracy: 0.8159 - val_loss: 0.7294 - val_accuracy: 0.8148\n",
            "Epoch 25/100\n",
            "569/569 [==============================] - 12s 21ms/step - loss: 0.7009 - accuracy: 0.8299 - val_loss: 0.6936 - val_accuracy: 0.8297\n",
            "Epoch 26/100\n",
            "569/569 [==============================] - 12s 21ms/step - loss: 0.6610 - accuracy: 0.8421 - val_loss: 0.6479 - val_accuracy: 0.8429\n",
            "Epoch 27/100\n",
            "569/569 [==============================] - 12s 21ms/step - loss: 0.6246 - accuracy: 0.8507 - val_loss: 0.6107 - val_accuracy: 0.8538\n",
            "Epoch 28/100\n",
            "569/569 [==============================] - 12s 21ms/step - loss: 0.5918 - accuracy: 0.8573 - val_loss: 0.5783 - val_accuracy: 0.8681\n",
            "Epoch 29/100\n",
            "569/569 [==============================] - 12s 21ms/step - loss: 0.5605 - accuracy: 0.8650 - val_loss: 0.5683 - val_accuracy: 0.8495\n",
            "Epoch 30/100\n",
            "569/569 [==============================] - 12s 21ms/step - loss: 0.5333 - accuracy: 0.8702 - val_loss: 0.5223 - val_accuracy: 0.8775\n",
            "Epoch 31/100\n",
            "569/569 [==============================] - 12s 21ms/step - loss: 0.5085 - accuracy: 0.8760 - val_loss: 0.4971 - val_accuracy: 0.8802\n",
            "Epoch 32/100\n",
            "569/569 [==============================] - 12s 21ms/step - loss: 0.4858 - accuracy: 0.8825 - val_loss: 0.4795 - val_accuracy: 0.8775\n",
            "Epoch 33/100\n",
            "569/569 [==============================] - 12s 21ms/step - loss: 0.4635 - accuracy: 0.8859 - val_loss: 0.4621 - val_accuracy: 0.8871\n",
            "Epoch 34/100\n",
            "569/569 [==============================] - 12s 21ms/step - loss: 0.4455 - accuracy: 0.8888 - val_loss: 0.4442 - val_accuracy: 0.8849\n",
            "Epoch 35/100\n",
            "569/569 [==============================] - 12s 21ms/step - loss: 0.4294 - accuracy: 0.8923 - val_loss: 0.4320 - val_accuracy: 0.8909\n",
            "Epoch 36/100\n",
            "569/569 [==============================] - 12s 21ms/step - loss: 0.4130 - accuracy: 0.8968 - val_loss: 0.4123 - val_accuracy: 0.9025\n",
            "Epoch 37/100\n",
            "569/569 [==============================] - 12s 21ms/step - loss: 0.3986 - accuracy: 0.8987 - val_loss: 0.3970 - val_accuracy: 0.9005\n",
            "Epoch 38/100\n",
            "569/569 [==============================] - 12s 21ms/step - loss: 0.3857 - accuracy: 0.9029 - val_loss: 0.3924 - val_accuracy: 0.8978\n",
            "Epoch 39/100\n",
            "569/569 [==============================] - 12s 21ms/step - loss: 0.3741 - accuracy: 0.9042 - val_loss: 0.3789 - val_accuracy: 0.8981\n",
            "Epoch 40/100\n",
            "569/569 [==============================] - 12s 21ms/step - loss: 0.3634 - accuracy: 0.9075 - val_loss: 0.3658 - val_accuracy: 0.9025\n",
            "Epoch 41/100\n",
            "569/569 [==============================] - 12s 21ms/step - loss: 0.3524 - accuracy: 0.9097 - val_loss: 0.3693 - val_accuracy: 0.9055\n",
            "Epoch 42/100\n",
            "569/569 [==============================] - 12s 21ms/step - loss: 0.3438 - accuracy: 0.9123 - val_loss: 0.3641 - val_accuracy: 0.8975\n",
            "Epoch 43/100\n",
            "569/569 [==============================] - 12s 21ms/step - loss: 0.3353 - accuracy: 0.9127 - val_loss: 0.3406 - val_accuracy: 0.9080\n",
            "Epoch 44/100\n",
            "569/569 [==============================] - 12s 21ms/step - loss: 0.3271 - accuracy: 0.9168 - val_loss: 0.3451 - val_accuracy: 0.9049\n",
            "Epoch 45/100\n",
            "569/569 [==============================] - 12s 21ms/step - loss: 0.3176 - accuracy: 0.9175 - val_loss: 0.3295 - val_accuracy: 0.9099\n",
            "Epoch 46/100\n",
            "569/569 [==============================] - 12s 21ms/step - loss: 0.3124 - accuracy: 0.9179 - val_loss: 0.3176 - val_accuracy: 0.9190\n",
            "Epoch 47/100\n",
            "569/569 [==============================] - 12s 21ms/step - loss: 0.3060 - accuracy: 0.9183 - val_loss: 0.3175 - val_accuracy: 0.9135\n",
            "Epoch 48/100\n",
            "569/569 [==============================] - 12s 21ms/step - loss: 0.3009 - accuracy: 0.9203 - val_loss: 0.3047 - val_accuracy: 0.9250\n",
            "Epoch 49/100\n",
            "569/569 [==============================] - 12s 21ms/step - loss: 0.2935 - accuracy: 0.9225 - val_loss: 0.3015 - val_accuracy: 0.9220\n",
            "Epoch 50/100\n",
            "569/569 [==============================] - 12s 21ms/step - loss: 0.2885 - accuracy: 0.9229 - val_loss: 0.3052 - val_accuracy: 0.9118\n",
            "Epoch 51/100\n",
            "569/569 [==============================] - 12s 21ms/step - loss: 0.2835 - accuracy: 0.9245 - val_loss: 0.2911 - val_accuracy: 0.9173\n",
            "Epoch 52/100\n",
            "569/569 [==============================] - 12s 21ms/step - loss: 0.2784 - accuracy: 0.9254 - val_loss: 0.2941 - val_accuracy: 0.9170\n",
            "Epoch 53/100\n",
            "569/569 [==============================] - 12s 22ms/step - loss: 0.2750 - accuracy: 0.9260 - val_loss: 0.2796 - val_accuracy: 0.9264\n",
            "Epoch 54/100\n",
            "569/569 [==============================] - 12s 21ms/step - loss: 0.2695 - accuracy: 0.9289 - val_loss: 0.2774 - val_accuracy: 0.9291\n",
            "Epoch 55/100\n",
            "569/569 [==============================] - 12s 21ms/step - loss: 0.2652 - accuracy: 0.9298 - val_loss: 0.2778 - val_accuracy: 0.9225\n",
            "Epoch 56/100\n",
            "569/569 [==============================] - 12s 21ms/step - loss: 0.2611 - accuracy: 0.9288 - val_loss: 0.2681 - val_accuracy: 0.9294\n",
            "Epoch 57/100\n",
            "569/569 [==============================] - 12s 21ms/step - loss: 0.2579 - accuracy: 0.9308 - val_loss: 0.2906 - val_accuracy: 0.9190\n",
            "Epoch 58/100\n",
            "569/569 [==============================] - 12s 21ms/step - loss: 0.2548 - accuracy: 0.9311 - val_loss: 0.2754 - val_accuracy: 0.9214\n",
            "Epoch 59/100\n",
            "569/569 [==============================] - 12s 21ms/step - loss: 0.2499 - accuracy: 0.9328 - val_loss: 0.2642 - val_accuracy: 0.9297\n",
            "Epoch 60/100\n",
            "569/569 [==============================] - 12s 21ms/step - loss: 0.2470 - accuracy: 0.9327 - val_loss: 0.2630 - val_accuracy: 0.9272\n",
            "Epoch 61/100\n",
            "569/569 [==============================] - 12s 21ms/step - loss: 0.2437 - accuracy: 0.9338 - val_loss: 0.2620 - val_accuracy: 0.9242\n",
            "Epoch 62/100\n",
            "569/569 [==============================] - 12s 21ms/step - loss: 0.2403 - accuracy: 0.9359 - val_loss: 0.2522 - val_accuracy: 0.9269\n",
            "Epoch 63/100\n",
            "569/569 [==============================] - 12s 21ms/step - loss: 0.2381 - accuracy: 0.9349 - val_loss: 0.2500 - val_accuracy: 0.9264\n",
            "Epoch 64/100\n",
            "569/569 [==============================] - 12s 21ms/step - loss: 0.2351 - accuracy: 0.9360 - val_loss: 0.2631 - val_accuracy: 0.9269\n",
            "Epoch 65/100\n",
            "569/569 [==============================] - 12s 21ms/step - loss: 0.2309 - accuracy: 0.9367 - val_loss: 0.2517 - val_accuracy: 0.9283\n",
            "Epoch 66/100\n",
            "569/569 [==============================] - 12s 21ms/step - loss: 0.2293 - accuracy: 0.9367 - val_loss: 0.2513 - val_accuracy: 0.9286\n",
            "Epoch 67/100\n",
            "569/569 [==============================] - 12s 21ms/step - loss: 0.2269 - accuracy: 0.9376 - val_loss: 0.2496 - val_accuracy: 0.9245\n",
            "Epoch 68/100\n",
            "569/569 [==============================] - 12s 21ms/step - loss: 0.2244 - accuracy: 0.9376 - val_loss: 0.2438 - val_accuracy: 0.9327\n",
            "Epoch 69/100\n",
            "569/569 [==============================] - 12s 21ms/step - loss: 0.2217 - accuracy: 0.9387 - val_loss: 0.2387 - val_accuracy: 0.9330\n",
            "Epoch 70/100\n",
            "569/569 [==============================] - 12s 21ms/step - loss: 0.2194 - accuracy: 0.9400 - val_loss: 0.2458 - val_accuracy: 0.9275\n",
            "Epoch 71/100\n",
            "569/569 [==============================] - 12s 21ms/step - loss: 0.2173 - accuracy: 0.9403 - val_loss: 0.2345 - val_accuracy: 0.9338\n",
            "Epoch 72/100\n",
            "569/569 [==============================] - 12s 21ms/step - loss: 0.2135 - accuracy: 0.9421 - val_loss: 0.2418 - val_accuracy: 0.9297\n",
            "Epoch 73/100\n",
            "569/569 [==============================] - 12s 21ms/step - loss: 0.2125 - accuracy: 0.9414 - val_loss: 0.2304 - val_accuracy: 0.9349\n",
            "Epoch 74/100\n",
            "569/569 [==============================] - 12s 21ms/step - loss: 0.2098 - accuracy: 0.9427 - val_loss: 0.2378 - val_accuracy: 0.9299\n",
            "Epoch 75/100\n",
            "569/569 [==============================] - 12s 21ms/step - loss: 0.2067 - accuracy: 0.9436 - val_loss: 0.2342 - val_accuracy: 0.9360\n",
            "Epoch 76/100\n",
            "569/569 [==============================] - 12s 21ms/step - loss: 0.2053 - accuracy: 0.9441 - val_loss: 0.2406 - val_accuracy: 0.9242\n",
            "Epoch 77/100\n",
            "569/569 [==============================] - 12s 21ms/step - loss: 0.2043 - accuracy: 0.9443 - val_loss: 0.2278 - val_accuracy: 0.9396\n",
            "Epoch 78/100\n",
            "569/569 [==============================] - 12s 21ms/step - loss: 0.2022 - accuracy: 0.9434 - val_loss: 0.2240 - val_accuracy: 0.9385\n",
            "Epoch 79/100\n",
            "569/569 [==============================] - 12s 21ms/step - loss: 0.2004 - accuracy: 0.9450 - val_loss: 0.2253 - val_accuracy: 0.9338\n",
            "Epoch 80/100\n",
            "569/569 [==============================] - 12s 21ms/step - loss: 0.1977 - accuracy: 0.9470 - val_loss: 0.2218 - val_accuracy: 0.9365\n",
            "Epoch 81/100\n",
            "569/569 [==============================] - 12s 21ms/step - loss: 0.1968 - accuracy: 0.9465 - val_loss: 0.2251 - val_accuracy: 0.9313\n",
            "Epoch 82/100\n",
            "569/569 [==============================] - 12s 21ms/step - loss: 0.1950 - accuracy: 0.9467 - val_loss: 0.2200 - val_accuracy: 0.9357\n",
            "Epoch 83/100\n",
            "569/569 [==============================] - 12s 21ms/step - loss: 0.1922 - accuracy: 0.9476 - val_loss: 0.2176 - val_accuracy: 0.9368\n",
            "Epoch 84/100\n",
            "569/569 [==============================] - 12s 21ms/step - loss: 0.1924 - accuracy: 0.9466 - val_loss: 0.2244 - val_accuracy: 0.9352\n",
            "Epoch 85/100\n",
            "569/569 [==============================] - 12s 21ms/step - loss: 0.1903 - accuracy: 0.9467 - val_loss: 0.2218 - val_accuracy: 0.9382\n",
            "Epoch 86/100\n",
            "569/569 [==============================] - 12s 21ms/step - loss: 0.1887 - accuracy: 0.9478 - val_loss: 0.2209 - val_accuracy: 0.9321\n",
            "Epoch 87/100\n",
            "569/569 [==============================] - 12s 21ms/step - loss: 0.1874 - accuracy: 0.9478 - val_loss: 0.2236 - val_accuracy: 0.9313\n",
            "Epoch 88/100\n",
            "569/569 [==============================] - 12s 21ms/step - loss: 0.1847 - accuracy: 0.9494 - val_loss: 0.2113 - val_accuracy: 0.9382\n",
            "Epoch 89/100\n",
            "569/569 [==============================] - 12s 21ms/step - loss: 0.1832 - accuracy: 0.9495 - val_loss: 0.2203 - val_accuracy: 0.9365\n",
            "Epoch 90/100\n",
            "569/569 [==============================] - 12s 21ms/step - loss: 0.1827 - accuracy: 0.9503 - val_loss: 0.2128 - val_accuracy: 0.9354\n",
            "Epoch 91/100\n",
            "569/569 [==============================] - 12s 21ms/step - loss: 0.1806 - accuracy: 0.9507 - val_loss: 0.2130 - val_accuracy: 0.9374\n",
            "Epoch 92/100\n",
            "569/569 [==============================] - 12s 21ms/step - loss: 0.1784 - accuracy: 0.9511 - val_loss: 0.2160 - val_accuracy: 0.9360\n",
            "Epoch 93/100\n",
            "569/569 [==============================] - 12s 21ms/step - loss: 0.1772 - accuracy: 0.9515 - val_loss: 0.2115 - val_accuracy: 0.9357\n",
            "Epoch 94/100\n",
            "569/569 [==============================] - 12s 21ms/step - loss: 0.1762 - accuracy: 0.9510 - val_loss: 0.2073 - val_accuracy: 0.9387\n",
            "Epoch 95/100\n",
            "569/569 [==============================] - 12s 21ms/step - loss: 0.1747 - accuracy: 0.9520 - val_loss: 0.2131 - val_accuracy: 0.9332\n",
            "Epoch 96/100\n",
            "569/569 [==============================] - 12s 21ms/step - loss: 0.1746 - accuracy: 0.9521 - val_loss: 0.2068 - val_accuracy: 0.9390\n",
            "Epoch 97/100\n",
            "569/569 [==============================] - 12s 21ms/step - loss: 0.1719 - accuracy: 0.9521 - val_loss: 0.2203 - val_accuracy: 0.9357\n",
            "Epoch 98/100\n",
            "569/569 [==============================] - 12s 21ms/step - loss: 0.1709 - accuracy: 0.9535 - val_loss: 0.2130 - val_accuracy: 0.9407\n",
            "Epoch 99/100\n",
            "569/569 [==============================] - 12s 21ms/step - loss: 0.1704 - accuracy: 0.9533 - val_loss: 0.2046 - val_accuracy: 0.9385\n",
            "Epoch 100/100\n",
            "569/569 [==============================] - 12s 21ms/step - loss: 0.1674 - accuracy: 0.9545 - val_loss: 0.2060 - val_accuracy: 0.9365\n"
          ]
        }
      ],
      "source": [
        "# Print the best hyperparameters\n",
        "best_hps = tuner.get_best_hyperparameters(num_trials=1)[0]\n",
        "print(\"Best hyperparameters:\", best_hps)\n",
        "\n",
        "# Build the model with the best hyperparameters and train it\n",
        "model = tuner.hypermodel.build(best_hps)\n",
        "hist_cnn_tuner = model.fit(\n",
        "    X_train,\n",
        "    y_train,\n",
        "    validation_data=(X_val, y_val),\n",
        "    batch_size=64,\n",
        "    epochs=100\n",
        ")"
      ]
    },
    {
      "cell_type": "code",
      "execution_count": null,
      "metadata": {
        "colab": {
          "base_uri": "https://localhost:8080/"
        },
        "id": "uOHROdn1giQ_",
        "outputId": "82475f60-024f-4a28-e613-ebeefa66d3dc"
      },
      "outputs": [
        {
          "name": "stdout",
          "output_type": "stream",
          "text": [
            "171/171 [==============================] - 1s 6ms/step - loss: 0.2210 - accuracy: 0.9324\n",
            "Test loss: 0.22095610201358795\n",
            "Test accuracy: 0.9324175715446472\n"
          ]
        }
      ],
      "source": [
        "# Evaluate the model on the test set\n",
        "loss, accuracy = model.evaluate(X_test, y_test)\n",
        "print(\"Test loss:\", loss)\n",
        "print(\"Test accuracy:\", accuracy)"
      ]
    },
    {
      "cell_type": "code",
      "execution_count": null,
      "metadata": {
        "colab": {
          "base_uri": "https://localhost:8080/",
          "height": 295
        },
        "id": "UXnv4W2ignE6",
        "outputId": "12364eb5-e192-4693-ec02-d13da59ae24c"
      },
      "outputs": [
        {
          "data": {
            "image/png": "[encoded data removed]",
            "text/plain": [
              "<Figure size 432x288 with 1 Axes>"
            ]
          },
          "metadata": {
            "needs_background": "light"
          },
          "output_type": "display_data"
        }
      ],
      "source": [
        "# Plot the training history\n",
        "train_acc = hist_cnn_tuner.history['accuracy']\n",
        "val_acc = hist_cnn_tuner.history['val_accuracy']\n",
        "test_acc = accuracy\n",
        "\n",
        "plt.plot(train_acc, label='Training accuracy')\n",
        "plt.plot(val_acc, label='Validation accuracy')\n",
        "plt.axhline(test_acc, color='red', linestyle='--', label='Test accuracy')\n",
        "plt.title('Training, Validation, and Test Accuracy')\n",
        "plt.xlabel('Epoch')\n",
        "plt.ylabel('Accuracy')\n",
        "plt.legend()\n",
        "plt.show()"
      ]
    },
    {
      "cell_type": "markdown",
      "source": [
        "**Result Comment :**\n",
        "\n",
        "> As the final result of CNN in the Arabic text classification, we have Test accuracy of 93.24% and Test loss of 22.10%, to get these results we used a batch of 64, we trained the model 100 epochs, and the search for hyperparameter take 10 as max number of trials."
      ],
      "metadata": {
        "id": "oXaN_fjD8GBj"
      }
    },
    {
      "cell_type": "markdown",
      "metadata": {
        "id": "Y3e8KRByi2wa"
      },
      "source": [
        "### DNN"
      ]
    },
    {
      "cell_type": "code",
      "execution_count": null,
      "metadata": {
        "id": "AMo7RcpBi2Dq"
      },
      "outputs": [],
      "source": [
        "def build_model(hp):\n",
        "    # Define the hyperparameters\n",
        "    embedding_dim = hp.Int('embedding_dim', min_value=32, max_value=512, step=32)\n",
        "    max_features = hp.Int('max_features', min_value=10000 , max_value=50000, step=10000)\n",
        "    MAX_SEQUENCE_LENGTH = 500\n",
        "    # Define the model architecture\n",
        "    sequence_input = Input(shape=(MAX_SEQUENCE_LENGTH,), dtype='int32')\n",
        "    embedding_layer = Embedding(max_features, embedding_dim,\n",
        "                            input_length=MAX_SEQUENCE_LENGTH,\n",
        "                            trainable=True)\n",
        "    embedded_sequences = embedding_layer(sequence_input)\n",
        "    average = GlobalAveragePooling1D()(embedded_sequences)\n",
        "    predictions = Dense(N_CLASSES, activation='softmax')(average)\n",
        "    model = Model(sequence_input, predictions)\n",
        "\n",
        "    # Compile the model\n",
        "    model.compile(loss='categorical_crossentropy',\n",
        "                  optimizer='adam', metrics=['accuracy'])\n",
        "\n",
        "    return model"
      ]
    },
    {
      "cell_type": "code",
      "execution_count": null,
      "metadata": {
        "id": "SYsOf4nAjbmz"
      },
      "outputs": [],
      "source": [
        "# Instantiate the tuner\n",
        "tuner = RandomSearch(\n",
        "    build_model,\n",
        "    objective='val_accuracy',\n",
        "    max_trials=10,\n",
        "    directory='dnn_tuner_results',\n",
        "    project_name='dnn_tuning'\n",
        ")"
      ]
    },
    {
      "cell_type": "code",
      "execution_count": null,
      "metadata": {
        "colab": {
          "base_uri": "https://localhost:8080/"
        },
        "id": "jcCQjdsujzbA",
        "outputId": "6c096ee7-cdde-4cac-fc65-9610e30d0997"
      },
      "outputs": [
        {
          "name": "stdout",
          "output_type": "stream",
          "text": [
            "Trial 10 Complete [00h 06m 23s]\n",
            "val_accuracy: 0.9785714149475098\n",
            "\n",
            "Best val_accuracy So Far: 0.980494499206543\n",
            "Total elapsed time: 00h 18m 13s\n"
          ]
        }
      ],
      "source": [
        "# Perform the hyperparameter search\n",
        "tuner.search(\n",
        "    X_train,\n",
        "    y_train,\n",
        "    validation_data=(X_val, y_val),\n",
        "    batch_size=64,\n",
        "    epochs=10\n",
        ")"
      ]
    },
    {
      "cell_type": "code",
      "execution_count": null,
      "metadata": {
        "colab": {
          "base_uri": "https://localhost:8080/"
        },
        "id": "y7rmXyM9j2Jo",
        "outputId": "fe26b635-bc4a-440a-de5e-ccc050a47875"
      },
      "outputs": [
        {
          "name": "stdout",
          "output_type": "stream",
          "text": [
            "Best hyperparameters: <keras_tuner.engine.hyperparameters.hyperparameters.HyperParameters object at 0x7f64d615f520>\n",
            "Epoch 1/10\n",
            "569/569 [==============================] - 85s 147ms/step - loss: 0.9504 - accuracy: 0.8405 - val_loss: 0.3585 - val_accuracy: 0.9481\n",
            "Epoch 2/10\n",
            "569/569 [==============================] - 58s 101ms/step - loss: 0.2400 - accuracy: 0.9669 - val_loss: 0.1841 - val_accuracy: 0.9695\n",
            "Epoch 3/10\n",
            "569/569 [==============================] - 45s 79ms/step - loss: 0.1361 - accuracy: 0.9788 - val_loss: 0.1363 - val_accuracy: 0.9728\n",
            "Epoch 4/10\n",
            "569/569 [==============================] - 38s 66ms/step - loss: 0.0928 - accuracy: 0.9857 - val_loss: 0.1155 - val_accuracy: 0.9736\n",
            "Epoch 5/10\n",
            "569/569 [==============================] - 28s 49ms/step - loss: 0.0671 - accuracy: 0.9899 - val_loss: 0.1048 - val_accuracy: 0.9755\n",
            "Epoch 6/10\n",
            "569/569 [==============================] - 23s 40ms/step - loss: 0.0491 - accuracy: 0.9932 - val_loss: 0.0998 - val_accuracy: 0.9783\n",
            "Epoch 7/10\n",
            "569/569 [==============================] - 22s 39ms/step - loss: 0.0367 - accuracy: 0.9952 - val_loss: 0.0946 - val_accuracy: 0.9780\n",
            "Epoch 8/10\n",
            "569/569 [==============================] - 15s 26ms/step - loss: 0.0275 - accuracy: 0.9964 - val_loss: 0.0928 - val_accuracy: 0.9788\n",
            "Epoch 9/10\n",
            "569/569 [==============================] - 15s 27ms/step - loss: 0.0206 - accuracy: 0.9975 - val_loss: 0.0936 - val_accuracy: 0.9797\n",
            "Epoch 10/10\n",
            "569/569 [==============================] - 15s 25ms/step - loss: 0.0156 - accuracy: 0.9983 - val_loss: 0.0929 - val_accuracy: 0.9791\n"
          ]
        }
      ],
      "source": [
        "# Print the best hyperparameters\n",
        "best_hps = tuner.get_best_hyperparameters(num_trials=1)[0]\n",
        "print(\"Best hyperparameters:\", best_hps)\n",
        "\n",
        "# Build the model with the best hyperparameters and train it\n",
        "model = tuner.hypermodel.build(best_hps)\n",
        "hist_dnn_tuner = model.fit(\n",
        "    X_train,\n",
        "    y_train,\n",
        "    validation_data=(X_val, y_val),\n",
        "    batch_size=64,\n",
        "    epochs=10\n",
        ")"
      ]
    },
    {
      "cell_type": "code",
      "execution_count": null,
      "metadata": {
        "colab": {
          "base_uri": "https://localhost:8080/"
        },
        "id": "dhI1boWBjsoU",
        "outputId": "0b41a215-cb16-4013-90d7-144551247873"
      },
      "outputs": [
        {
          "name": "stdout",
          "output_type": "stream",
          "text": [
            "171/171 [==============================] - 1s 3ms/step - loss: 0.1189 - accuracy: 0.9742\n",
            "Test loss: 0.11891770362854004\n",
            "Test accuracy: 0.9741758108139038\n"
          ]
        }
      ],
      "source": [
        "# Evaluate the model on the test set\n",
        "loss, accuracy = model.evaluate(X_test, y_test)\n",
        "print(\"Test loss:\", loss)\n",
        "print(\"Test accuracy:\", accuracy)"
      ]
    },
    {
      "cell_type": "code",
      "execution_count": null,
      "metadata": {
        "colab": {
          "base_uri": "https://localhost:8080/",
          "height": 295
        },
        "id": "574QskhwlRFS",
        "outputId": "c8718a98-95bf-4c70-a0fc-c83638f57458"
      },
      "outputs": [
        {
          "data": {
            "image/png": "[encoded data removed]",
            "text/plain": [
              "<Figure size 432x288 with 1 Axes>"
            ]
          },
          "metadata": {
            "needs_background": "light"
          },
          "output_type": "display_data"
        }
      ],
      "source": [
        "# Plot the training history\n",
        "train_acc = hist_dnn_tuner.history['accuracy']\n",
        "val_acc = hist_dnn_tuner.history['val_accuracy']\n",
        "test_acc = accuracy\n",
        "\n",
        "plt.plot(train_acc, label='Training accuracy')\n",
        "plt.plot(val_acc, label='Validation accuracy')\n",
        "plt.axhline(test_acc, color='red', linestyle='--', label='Test accuracy')\n",
        "plt.title('Training, Validation, and Test Accuracy')\n",
        "plt.xlabel('Epoch')\n",
        "plt.ylabel('Accuracy')\n",
        "plt.legend()\n",
        "plt.show()"
      ]
    },
    {
      "cell_type": "markdown",
      "metadata": {
        "id": "1uAsMnb88jC_"
      },
      "source": [
        "**Result Comment :**\n",
        "\n",
        "> As the final result of DNN in the Arabic text classification, we have Test accuracy of 97.42% and Test loss of 11.89%, to get these results we used a batch of 64, we trained the model 10 epochs, and the search for hyperparameter take 10 as max number of trials.\n",
        "\n",
        "⟹**This is the model that give best result with a few nubmer of epochs.**"
      ]
    },
    {
      "cell_type": "markdown",
      "source": [
        "# **Conclusion**"
      ],
      "metadata": {
        "id": "X2Ds44zd836o"
      }
    },
    {
      "cell_type": "markdown",
      "source": [
        "In conclusion, the Deep Neural Network (DNN) model is the best model that can be used for Arabic text classification,it is achieved an impressive Test accuracy of 97.42% and Test loss of 0.1189. The model was trained for 10 epochs using a batch size of 64, and hyperparameter tuning was performed with a maximum of 10 trials. This DNN model performed exceptionally well, with only a few epochs required to achieve the best results."
      ],
      "metadata": {
        "id": "9RIuluOy89El"
      }
    }
  ],
  "metadata": {
    "accelerator": "GPU",
    "colab": {
      "collapsed_sections": [
        "u7eDAxy8addY",
        "n7OQjWjcuQ2H",
        "EK8EwT8pHY6_",
        "hT0z54q7VkMl",
        "uvmTNip_G4f1",
        "vfqy0qtnYh3n",
        "w1CYYr6CK31x",
        "zfdNefSZrPQL",
        "9KBc-vQAXEg1",
        "MnnZfp7JZ1PS",
        "00Uw9WyrZ4p6",
        "gXKyYmmXCT7L",
        "cwAQYW0Kfad_",
        "Y3e8KRByi2wa"
      ],
      "provenance": [],
      "include_colab_link": true
    },
    "gpuClass": "standard",
    "kernelspec": {
      "display_name": "Python 3 (ipykernel)",
      "language": "python",
      "name": "python3"
    },
    "language_info": {
      "codemirror_mode": {
        "name": "ipython",
        "version": 3
      },
      "file_extension": ".py",
      "mimetype": "text/x-python",
      "name": "python",
      "nbconvert_exporter": "python",
      "pygments_lexer": "ipython3",
      "version": "3.9.13"
    }
  },
  "nbformat": 4,
  "nbformat_minor": 0
}