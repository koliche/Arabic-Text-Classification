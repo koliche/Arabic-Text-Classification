{
  "nbformat": 4,
  "nbformat_minor": 0,
  "metadata": {
    "colab": {
      "provenance": [],
      "authorship_tag": "ABX9TyMNfb+fAP33bHIZuPhuPH4c",
      "include_colab_link": true
    },
    "kernelspec": {
      "name": "python3",
      "display_name": "Python 3"
    },
    "language_info": {
      "name": "python"
    },
    "accelerator": "GPU",
    "gpuClass": "standard"
  },
  "cells": [
    {
      "cell_type": "markdown",
      "metadata": {
        "id": "view-in-github",
        "colab_type": "text"
      },
      "source": [
        "<a href=\"https://colab.research.google.com/github/koliche/Arabic-Text-Classification/blob/main/Arabic_Text_Classification_1.ipynb\" target=\"_parent\"><img src=\"https://colab.research.google.com/assets/colab-badge.svg\" alt=\"Open In Colab\"/></a>"
      ]
    },
    {
      "cell_type": "markdown",
      "source": [
        "# **Connect the lab to My Drive**"
      ],
      "metadata": {
        "id": "UDms690VaM5L"
      }
    },
    {
      "cell_type": "code",
      "execution_count": 3,
      "metadata": {
        "id": "1mIDuEteSIDz"
      },
      "outputs": [],
      "source": [
        "# from google.colab import drive\n",
        "# drive.mount(\"/content/gdrive\", force_remount=True)"
      ]
    },
    {
      "cell_type": "code",
      "source": [
        "cd /content/gdrive/MyDrive/TextClassification"
      ],
      "metadata": {
        "colab": {
          "base_uri": "https://localhost:8080/"
        },
        "id": "XqOAS_hGSL7l",
        "outputId": "5cb55335-1463-4340-9770-60e50e92f65a"
      },
      "execution_count": 2,
      "outputs": [
        {
          "output_type": "stream",
          "name": "stdout",
          "text": [
            "[Errno 2] No such file or directory: '/content/gdrive/MyDrive/TextClassification'\n",
            "/content\n"
          ]
        }
      ]
    },
    {
      "cell_type": "markdown",
      "source": [
        "# **Load The Dataset**"
      ],
      "metadata": {
        "id": "u7eDAxy8addY"
      }
    },
    {
      "cell_type": "code",
      "source": [
        "!unzip Khaleej.zip -d /content/Khaleej/\n",
        "# !unzip sanad_dataset.zip -d /content/gdrive/MyDrive/TextClassification/sanad_dataset"
      ],
      "metadata": {
        "id": "u6PYIZXuSwF7"
      },
      "execution_count": null,
      "outputs": []
    },
    {
      "cell_type": "code",
      "source": [
        "import os\n",
        "import tensorflow as tf\n",
        "import numpy as np\n"
      ],
      "metadata": {
        "id": "bLTW2QbMS-Ng"
      },
      "execution_count": null,
      "outputs": []
    },
    {
      "cell_type": "code",
      "source": [
        "raw_data = tf.keras.preprocessing.text_dataset_from_directory(\n",
        "    '/content/Khaleej',\n",
        "    labels = \"inferred\",\n",
        "    label_mode = \"int\",\n",
        "    max_length = None,\n",
        "    shuffle=True,\n",
        "    seed=32,\n",
        "    validation_split=None,\n",
        "    subset=None,\n",
        ")"
      ],
      "metadata": {
        "colab": {
          "base_uri": "https://localhost:8080/"
        },
        "id": "X_9Xf9zGV4Xr",
        "outputId": "780f450e-f001-4c0b-c0e6-a4e17b5b3791"
      },
      "execution_count": null,
      "outputs": [
        {
          "output_type": "stream",
          "name": "stdout",
          "text": [
            "Found 45500 files belonging to 7 classes.\n"
          ]
        }
      ]
    },
    {
      "cell_type": "code",
      "source": [
        "raw_data.class_names"
      ],
      "metadata": {
        "colab": {
          "base_uri": "https://localhost:8080/"
        },
        "id": "4hhfeBT6Wpqx",
        "outputId": "ec163224-e02d-4a8b-81fe-9287536f2cd0"
      },
      "execution_count": null,
      "outputs": [
        {
          "output_type": "execute_result",
          "data": {
            "text/plain": [
              "['Culture', 'Finance', 'Medical', 'Politics', 'Religion', 'Sports', 'Tech']"
            ]
          },
          "metadata": {},
          "execution_count": 5
        }
      ]
    },
    {
      "cell_type": "code",
      "source": [
        "# text_batch_array = np.array([s.numpy() for text_batch, label_batch in raw_data for s in text_batch])\n",
        "# text_batch_decoded = np.vectorize(lambda s: s.decode(\"utf-8\"))(text_batch_array)\n",
        "# x = text_batch_decoded.tolist()\n",
        "\n",
        "# label_batch_array = np.array([label for text_batch, label_batch in raw_data for label in label_batch])\n",
        "# y = [raw_data.class_names[label] for label in label_batch_array]\n",
        "\n",
        "# print(len(x))\n",
        "# print(len(y))"
      ],
      "metadata": {
        "id": "4rB3vk-RXHsX"
      },
      "execution_count": null,
      "outputs": []
    },
    {
      "cell_type": "code",
      "source": [
        "x=[]\n",
        "y=[]\n",
        "for text_batch, label_batch in raw_data:\n",
        "    for i in range(len(text_batch)):\n",
        "        s=text_batch.numpy()[i].decode(\"utf-8\") \n",
        "        x.append(s)\n",
        "        y.append(raw_data.class_names[label_batch.numpy()[i]])\n",
        "print(len(x))\n",
        "print(len(y))"
      ],
      "metadata": {
        "id": "2tk4AkqsZT3a",
        "outputId": "adef53c6-34d3-44a4-bfc4-018e171fa8ee",
        "colab": {
          "base_uri": "https://localhost:8080/"
        }
      },
      "execution_count": null,
      "outputs": [
        {
          "output_type": "stream",
          "name": "stdout",
          "text": [
            "45500\n",
            "45500\n"
          ]
        }
      ]
    },
    {
      "cell_type": "code",
      "source": [
        "# x[:] , y[:]"
      ],
      "metadata": {
        "id": "dc-5jZXbao6K"
      },
      "execution_count": null,
      "outputs": []
    },
    {
      "cell_type": "markdown",
      "source": [
        "# **Data Visualization**"
      ],
      "metadata": {
        "id": "n7OQjWjcuQ2H"
      }
    },
    {
      "cell_type": "code",
      "source": [
        "import numpy as np\n",
        "import matplotlib.pyplot as plt\n",
        "import pandas as pd \n"
      ],
      "metadata": {
        "id": "hSprRceIt06P"
      },
      "execution_count": null,
      "outputs": []
    },
    {
      "cell_type": "code",
      "source": [
        "data =pd.DataFrame({\"text\":x,\"label\":y})"
      ],
      "metadata": {
        "id": "95fEPwSVuyqI"
      },
      "execution_count": null,
      "outputs": []
    },
    {
      "cell_type": "code",
      "source": [
        "data.shape"
      ],
      "metadata": {
        "id": "1QjVGSfSu0KJ",
        "colab": {
          "base_uri": "https://localhost:8080/"
        },
        "outputId": "f129b59d-c0ca-4074-bafb-c40252a6cc52"
      },
      "execution_count": null,
      "outputs": [
        {
          "output_type": "execute_result",
          "data": {
            "text/plain": [
              "(45500, 2)"
            ]
          },
          "metadata": {},
          "execution_count": 8
        }
      ]
    },
    {
      "cell_type": "code",
      "source": [
        "data.head()"
      ],
      "metadata": {
        "id": "4haws1Dqu7or",
        "colab": {
          "base_uri": "https://localhost:8080/",
          "height": 206
        },
        "outputId": "89b746cd-8a62-450b-fc37-a66bb687a0f2"
      },
      "execution_count": null,
      "outputs": [
        {
          "output_type": "execute_result",
          "data": {
            "text/plain": [
              "                                                text     label\n",
              "0  اقترب سلتيك مجدداً من غريمه التقليدي رينجرز ال...    Sports\n",
              "1  ‮«‬الدين المعاملة‮» ‬هكذا علمنا رسول الله‮- ‬ص...  Religion\n",
              "2  صعق أوكلاهوما سيتي ثاندر منافسه غولدن ستايت وو...    Sports\n",
              "3  استقبل الوسط المسرحي الإماراتي فوز الإمارات بر...   Culture\n",
              "4  الشارقة: «الخليج» أطلقت دائرة التخطيط والمساحة...      Tech"
            ],
            "text/html": [
              "\n",
              "  <div id=\"df-d1f92a8d-90e2-4e6d-8616-046302f1b503\">\n",
              "    <div class=\"colab-df-container\">\n",
              "      <div>\n",
              "<style scoped>\n",
              "    .dataframe tbody tr th:only-of-type {\n",
              "        vertical-align: middle;\n",
              "    }\n",
              "\n",
              "    .dataframe tbody tr th {\n",
              "        vertical-align: top;\n",
              "    }\n",
              "\n",
              "    .dataframe thead th {\n",
              "        text-align: right;\n",
              "    }\n",
              "</style>\n",
              "<table border=\"1\" class=\"dataframe\">\n",
              "  <thead>\n",
              "    <tr style=\"text-align: right;\">\n",
              "      <th></th>\n",
              "      <th>text</th>\n",
              "      <th>label</th>\n",
              "    </tr>\n",
              "  </thead>\n",
              "  <tbody>\n",
              "    <tr>\n",
              "      <th>0</th>\n",
              "      <td>اقترب سلتيك مجدداً من غريمه التقليدي رينجرز ال...</td>\n",
              "      <td>Sports</td>\n",
              "    </tr>\n",
              "    <tr>\n",
              "      <th>1</th>\n",
              "      <td>‮«‬الدين المعاملة‮» ‬هكذا علمنا رسول الله‮- ‬ص...</td>\n",
              "      <td>Religion</td>\n",
              "    </tr>\n",
              "    <tr>\n",
              "      <th>2</th>\n",
              "      <td>صعق أوكلاهوما سيتي ثاندر منافسه غولدن ستايت وو...</td>\n",
              "      <td>Sports</td>\n",
              "    </tr>\n",
              "    <tr>\n",
              "      <th>3</th>\n",
              "      <td>استقبل الوسط المسرحي الإماراتي فوز الإمارات بر...</td>\n",
              "      <td>Culture</td>\n",
              "    </tr>\n",
              "    <tr>\n",
              "      <th>4</th>\n",
              "      <td>الشارقة: «الخليج» أطلقت دائرة التخطيط والمساحة...</td>\n",
              "      <td>Tech</td>\n",
              "    </tr>\n",
              "  </tbody>\n",
              "</table>\n",
              "</div>\n",
              "      <button class=\"colab-df-convert\" onclick=\"convertToInteractive('df-d1f92a8d-90e2-4e6d-8616-046302f1b503')\"\n",
              "              title=\"Convert this dataframe to an interactive table.\"\n",
              "              style=\"display:none;\">\n",
              "        \n",
              "  <svg xmlns=\"http://www.w3.org/2000/svg\" height=\"24px\"viewBox=\"0 0 24 24\"\n",
              "       width=\"24px\">\n",
              "    <path d=\"M0 0h24v24H0V0z\" fill=\"none\"/>\n",
              "    <path d=\"M18.56 5.44l.94 2.06.94-2.06 2.06-.94-2.06-.94-.94-2.06-.94 2.06-2.06.94zm-11 1L8.5 8.5l.94-2.06 2.06-.94-2.06-.94L8.5 2.5l-.94 2.06-2.06.94zm10 10l.94 2.06.94-2.06 2.06-.94-2.06-.94-.94-2.06-.94 2.06-2.06.94z\"/><path d=\"M17.41 7.96l-1.37-1.37c-.4-.4-.92-.59-1.43-.59-.52 0-1.04.2-1.43.59L10.3 9.45l-7.72 7.72c-.78.78-.78 2.05 0 2.83L4 21.41c.39.39.9.59 1.41.59.51 0 1.02-.2 1.41-.59l7.78-7.78 2.81-2.81c.8-.78.8-2.07 0-2.86zM5.41 20L4 18.59l7.72-7.72 1.47 1.35L5.41 20z\"/>\n",
              "  </svg>\n",
              "      </button>\n",
              "      \n",
              "  <style>\n",
              "    .colab-df-container {\n",
              "      display:flex;\n",
              "      flex-wrap:wrap;\n",
              "      gap: 12px;\n",
              "    }\n",
              "\n",
              "    .colab-df-convert {\n",
              "      background-color: #E8F0FE;\n",
              "      border: none;\n",
              "      border-radius: 50%;\n",
              "      cursor: pointer;\n",
              "      display: none;\n",
              "      fill: #1967D2;\n",
              "      height: 32px;\n",
              "      padding: 0 0 0 0;\n",
              "      width: 32px;\n",
              "    }\n",
              "\n",
              "    .colab-df-convert:hover {\n",
              "      background-color: #E2EBFA;\n",
              "      box-shadow: 0px 1px 2px rgba(60, 64, 67, 0.3), 0px 1px 3px 1px rgba(60, 64, 67, 0.15);\n",
              "      fill: #174EA6;\n",
              "    }\n",
              "\n",
              "    [theme=dark] .colab-df-convert {\n",
              "      background-color: #3B4455;\n",
              "      fill: #D2E3FC;\n",
              "    }\n",
              "\n",
              "    [theme=dark] .colab-df-convert:hover {\n",
              "      background-color: #434B5C;\n",
              "      box-shadow: 0px 1px 3px 1px rgba(0, 0, 0, 0.15);\n",
              "      filter: drop-shadow(0px 1px 2px rgba(0, 0, 0, 0.3));\n",
              "      fill: #FFFFFF;\n",
              "    }\n",
              "  </style>\n",
              "\n",
              "      <script>\n",
              "        const buttonEl =\n",
              "          document.querySelector('#df-d1f92a8d-90e2-4e6d-8616-046302f1b503 button.colab-df-convert');\n",
              "        buttonEl.style.display =\n",
              "          google.colab.kernel.accessAllowed ? 'block' : 'none';\n",
              "\n",
              "        async function convertToInteractive(key) {\n",
              "          const element = document.querySelector('#df-d1f92a8d-90e2-4e6d-8616-046302f1b503');\n",
              "          const dataTable =\n",
              "            await google.colab.kernel.invokeFunction('convertToInteractive',\n",
              "                                                     [key], {});\n",
              "          if (!dataTable) return;\n",
              "\n",
              "          const docLinkHtml = 'Like what you see? Visit the ' +\n",
              "            '<a target=\"_blank\" href=https://colab.research.google.com/notebooks/data_table.ipynb>data table notebook</a>'\n",
              "            + ' to learn more about interactive tables.';\n",
              "          element.innerHTML = '';\n",
              "          dataTable['output_type'] = 'display_data';\n",
              "          await google.colab.output.renderOutput(dataTable, element);\n",
              "          const docLink = document.createElement('div');\n",
              "          docLink.innerHTML = docLinkHtml;\n",
              "          element.appendChild(docLink);\n",
              "        }\n",
              "      </script>\n",
              "    </div>\n",
              "  </div>\n",
              "  "
            ]
          },
          "metadata": {},
          "execution_count": 15
        }
      ]
    },
    {
      "cell_type": "code",
      "source": [
        "#visualize the distribution of dataset \n",
        "unique, counts = np.unique(data['label'], return_counts=True)\n",
        "plt.bar(unique, counts, align='center')\n",
        "plt.xlabel('Categories')\n",
        "plt.ylabel('Counts')\n",
        "plt.show()"
      ],
      "metadata": {
        "id": "4INcRBjMvil6",
        "colab": {
          "base_uri": "https://localhost:8080/",
          "height": 279
        },
        "outputId": "38551759-c4cb-4c5a-aa98-feaa5a2bcde0"
      },
      "execution_count": null,
      "outputs": [
        {
          "output_type": "display_data",
          "data": {
            "text/plain": [
              "<Figure size 432x288 with 1 Axes>"
            ],
            "image/png": "[encoded data removed]"
          },
          "metadata": {
            "needs_background": "light"
          }
        }
      ]
    },
    {
      "cell_type": "code",
      "source": [
        "data.describe()"
      ],
      "metadata": {
        "id": "hUZTSCR8ExjW",
        "colab": {
          "base_uri": "https://localhost:8080/",
          "height": 175
        },
        "outputId": "9071f821-ace2-4024-ece4-d6029118426a"
      },
      "execution_count": null,
      "outputs": [
        {
          "output_type": "execute_result",
          "data": {
            "text/plain": [
              "                                                     text   label\n",
              "count                                               45500   45500\n",
              "unique                                              45485       7\n",
              "top     إعداد: محمد صالح القرق دخل على رسول الله- صلى ...  Sports\n",
              "freq                                                    3    6500"
            ],
            "text/html": [
              "\n",
              "  <div id=\"df-2563dc5e-de78-42b6-9126-c953c89dc81c\">\n",
              "    <div class=\"colab-df-container\">\n",
              "      <div>\n",
              "<style scoped>\n",
              "    .dataframe tbody tr th:only-of-type {\n",
              "        vertical-align: middle;\n",
              "    }\n",
              "\n",
              "    .dataframe tbody tr th {\n",
              "        vertical-align: top;\n",
              "    }\n",
              "\n",
              "    .dataframe thead th {\n",
              "        text-align: right;\n",
              "    }\n",
              "</style>\n",
              "<table border=\"1\" class=\"dataframe\">\n",
              "  <thead>\n",
              "    <tr style=\"text-align: right;\">\n",
              "      <th></th>\n",
              "      <th>text</th>\n",
              "      <th>label</th>\n",
              "    </tr>\n",
              "  </thead>\n",
              "  <tbody>\n",
              "    <tr>\n",
              "      <th>count</th>\n",
              "      <td>45500</td>\n",
              "      <td>45500</td>\n",
              "    </tr>\n",
              "    <tr>\n",
              "      <th>unique</th>\n",
              "      <td>45485</td>\n",
              "      <td>7</td>\n",
              "    </tr>\n",
              "    <tr>\n",
              "      <th>top</th>\n",
              "      <td>إعداد: محمد صالح القرق دخل على رسول الله- صلى ...</td>\n",
              "      <td>Sports</td>\n",
              "    </tr>\n",
              "    <tr>\n",
              "      <th>freq</th>\n",
              "      <td>3</td>\n",
              "      <td>6500</td>\n",
              "    </tr>\n",
              "  </tbody>\n",
              "</table>\n",
              "</div>\n",
              "      <button class=\"colab-df-convert\" onclick=\"convertToInteractive('df-2563dc5e-de78-42b6-9126-c953c89dc81c')\"\n",
              "              title=\"Convert this dataframe to an interactive table.\"\n",
              "              style=\"display:none;\">\n",
              "        \n",
              "  <svg xmlns=\"http://www.w3.org/2000/svg\" height=\"24px\"viewBox=\"0 0 24 24\"\n",
              "       width=\"24px\">\n",
              "    <path d=\"M0 0h24v24H0V0z\" fill=\"none\"/>\n",
              "    <path d=\"M18.56 5.44l.94 2.06.94-2.06 2.06-.94-2.06-.94-.94-2.06-.94 2.06-2.06.94zm-11 1L8.5 8.5l.94-2.06 2.06-.94-2.06-.94L8.5 2.5l-.94 2.06-2.06.94zm10 10l.94 2.06.94-2.06 2.06-.94-2.06-.94-.94-2.06-.94 2.06-2.06.94z\"/><path d=\"M17.41 7.96l-1.37-1.37c-.4-.4-.92-.59-1.43-.59-.52 0-1.04.2-1.43.59L10.3 9.45l-7.72 7.72c-.78.78-.78 2.05 0 2.83L4 21.41c.39.39.9.59 1.41.59.51 0 1.02-.2 1.41-.59l7.78-7.78 2.81-2.81c.8-.78.8-2.07 0-2.86zM5.41 20L4 18.59l7.72-7.72 1.47 1.35L5.41 20z\"/>\n",
              "  </svg>\n",
              "      </button>\n",
              "      \n",
              "  <style>\n",
              "    .colab-df-container {\n",
              "      display:flex;\n",
              "      flex-wrap:wrap;\n",
              "      gap: 12px;\n",
              "    }\n",
              "\n",
              "    .colab-df-convert {\n",
              "      background-color: #E8F0FE;\n",
              "      border: none;\n",
              "      border-radius: 50%;\n",
              "      cursor: pointer;\n",
              "      display: none;\n",
              "      fill: #1967D2;\n",
              "      height: 32px;\n",
              "      padding: 0 0 0 0;\n",
              "      width: 32px;\n",
              "    }\n",
              "\n",
              "    .colab-df-convert:hover {\n",
              "      background-color: #E2EBFA;\n",
              "      box-shadow: 0px 1px 2px rgba(60, 64, 67, 0.3), 0px 1px 3px 1px rgba(60, 64, 67, 0.15);\n",
              "      fill: #174EA6;\n",
              "    }\n",
              "\n",
              "    [theme=dark] .colab-df-convert {\n",
              "      background-color: #3B4455;\n",
              "      fill: #D2E3FC;\n",
              "    }\n",
              "\n",
              "    [theme=dark] .colab-df-convert:hover {\n",
              "      background-color: #434B5C;\n",
              "      box-shadow: 0px 1px 3px 1px rgba(0, 0, 0, 0.15);\n",
              "      filter: drop-shadow(0px 1px 2px rgba(0, 0, 0, 0.3));\n",
              "      fill: #FFFFFF;\n",
              "    }\n",
              "  </style>\n",
              "\n",
              "      <script>\n",
              "        const buttonEl =\n",
              "          document.querySelector('#df-2563dc5e-de78-42b6-9126-c953c89dc81c button.colab-df-convert');\n",
              "        buttonEl.style.display =\n",
              "          google.colab.kernel.accessAllowed ? 'block' : 'none';\n",
              "\n",
              "        async function convertToInteractive(key) {\n",
              "          const element = document.querySelector('#df-2563dc5e-de78-42b6-9126-c953c89dc81c');\n",
              "          const dataTable =\n",
              "            await google.colab.kernel.invokeFunction('convertToInteractive',\n",
              "                                                     [key], {});\n",
              "          if (!dataTable) return;\n",
              "\n",
              "          const docLinkHtml = 'Like what you see? Visit the ' +\n",
              "            '<a target=\"_blank\" href=https://colab.research.google.com/notebooks/data_table.ipynb>data table notebook</a>'\n",
              "            + ' to learn more about interactive tables.';\n",
              "          element.innerHTML = '';\n",
              "          dataTable['output_type'] = 'display_data';\n",
              "          await google.colab.output.renderOutput(dataTable, element);\n",
              "          const docLink = document.createElement('div');\n",
              "          docLink.innerHTML = docLinkHtml;\n",
              "          element.appendChild(docLink);\n",
              "        }\n",
              "      </script>\n",
              "    </div>\n",
              "  </div>\n",
              "  "
            ]
          },
          "metadata": {},
          "execution_count": 17
        }
      ]
    },
    {
      "cell_type": "markdown",
      "source": [
        "# **Data Pre-Processing**"
      ],
      "metadata": {
        "id": "EK8EwT8pHY6_"
      }
    },
    {
      "cell_type": "markdown",
      "source": [
        "# **Data Cleaning**"
      ],
      "metadata": {
        "id": "hT0z54q7VkMl"
      }
    },
    {
      "cell_type": "code",
      "source": [
        "import nltk\n",
        "from nltk.corpus import stopwords\n",
        "from nltk.tokenize import word_tokenize\n",
        "import re\n",
        "nltk.download('stopwords')\n",
        "nltk.download('punkt')"
      ],
      "metadata": {
        "id": "nKs9Xr5_Gw9V",
        "colab": {
          "base_uri": "https://localhost:8080/"
        },
        "outputId": "a4d98029-5812-4f64-87c7-caaa27680160"
      },
      "execution_count": null,
      "outputs": [
        {
          "output_type": "stream",
          "name": "stderr",
          "text": [
            "[nltk_data] Downloading package stopwords to /root/nltk_data...\n",
            "[nltk_data]   Package stopwords is already up-to-date!\n",
            "[nltk_data] Downloading package punkt to /root/nltk_data...\n",
            "[nltk_data]   Package punkt is already up-to-date!\n"
          ]
        },
        {
          "output_type": "execute_result",
          "data": {
            "text/plain": [
              "True"
            ]
          },
          "metadata": {},
          "execution_count": 10
        }
      ]
    },
    {
      "cell_type": "code",
      "source": [
        "def removeEmoji(dataset_text_row):\n",
        "    #Remove Emoji Exemple code :\n",
        "    emoji_pattern = re.compile(\"[\"\n",
        "            u\"\\U0001F600-\\U0001F64F\"  # emoticons\n",
        "            u\"\\U0001F300-\\U0001F5FF\"  # symbols & pictographs\n",
        "            u\"\\U0001F680-\\U0001F6FF\"  # transport & map symbols\n",
        "            u\"\\U0001F1E0-\\U0001F1FF\"  # flags (iOS)\n",
        "                               \"]+\", flags=re.UNICODE)\n",
        "    # this is out of jupyter memorry !!!!!!!!!!!!!!!!!!!!!!!!!!!!!!!!!\n",
        "    result = emoji_pattern.sub(r'',dataset_text_row)\n",
        "    return result\n",
        "\n",
        "def removeDiacritics(dataset_text_row):\n",
        "    arabic_diacritics = re.compile(\"\"\" ّ    | # Tashdid\n",
        "                             َ    | # Fatha\n",
        "                             ً    | # Tanwin Fath\n",
        "                             ُ    | # Damma\n",
        "                             ٌ    | # Tanwin Damm\n",
        "                             ِ    | # Kasra\n",
        "                             ٍ    | # Tanwin Kasr\n",
        "                             ْ    | # Sukun\n",
        "                             ـ     # Tatwil/Kashida\n",
        "                         \"\"\", re.VERBOSE)\n",
        "    result = re.sub(arabic_diacritics, '', dataset_text_row)\n",
        "    return result\n",
        "\n",
        "def removeSpecialChar(dataset_text_row):\n",
        "    # With space \"[^\\w]+|_\"\n",
        "    # Without space \"[^\\w\\s]+|_\"\n",
        "    special_charachers = \"[^\\w\\s]+|_\"\n",
        "    result = re.sub(special_charachers, '', dataset_text_row, flags=re.U)\n",
        "    return result\n",
        "\n",
        "def removeStopwords(dataset_text_row):\n",
        "  stop_words = set(stopwords.words('arabic'))\n",
        "  words = dataset_text_row.split()\n",
        "  result = [word for word in words if not word in stop_words]\n",
        "  return result"
      ],
      "metadata": {
        "id": "WBFt93U9ebPH"
      },
      "execution_count": null,
      "outputs": []
    },
    {
      "cell_type": "code",
      "source": [
        "data['cleaned_text'] = data['text'].apply(removeEmoji)\n",
        "data['cleaned_text'] = data['cleaned_text'].apply(removeDiacritics)\n",
        "data['cleaned_text'] = data['cleaned_text'].apply(removeSpecialChar)\n",
        "data['cleaned_text'] = data['cleaned_text'].apply(removeStopwords)\n",
        "print(data['cleaned_text'].head(80))"
      ],
      "metadata": {
        "colab": {
          "base_uri": "https://localhost:8080/"
        },
        "id": "tuAyPxYz_mQf",
        "outputId": "1e852a48-195a-4c23-cb99-d68c2f81bb1d"
      },
      "execution_count": null,
      "outputs": [
        {
          "output_type": "stream",
          "name": "stdout",
          "text": [
            "0     [قتل, 8, عسكريين, جزائريين, وأصيب, 8, بجروح, ا...\n",
            "1     [افتتح, عبدالله, سعيد, بن, سويف, سكرتير, إدارة...\n",
            "2     [كشف, سوميت, نيهالاني, مدير, المبيعات, مؤشرات,...\n",
            "3     [أبوظبيمحمد, علاونة, تحتاج, الثقافة, العربية, ...\n",
            "4     [ضمن, الفعاليات, الشعرية, المعرض, قرأت, الشاعر...\n",
            "                            ...                        \n",
            "75    [وقعت, وزارة, التربية, والتعليم, هامش, معرض, ج...\n",
            "76    [يسعى, مدريد, حامل, اللقب, تكريس, عقدته, القار...\n",
            "77    [مازالت, تداعيات, قيام, الكويتيين, عبد, الله, ...\n",
            "78    [وقعت, مؤسسة, دبي, لخدمات, الإسعاف, اتفاقية, ت...\n",
            "79    [فاسألوا, أهل, الذكر, كنتم, تعلمون, صدق, الله,...\n",
            "Name: cleaned_text, Length: 80, dtype: object\n"
          ]
        }
      ]
    },
    {
      "cell_type": "code",
      "source": [
        "data['text'].head(80)"
      ],
      "metadata": {
        "colab": {
          "base_uri": "https://localhost:8080/"
        },
        "id": "ctvw8e6OBCt6",
        "outputId": "e1c22c70-2625-4cba-a6da-22132b48a5c6"
      },
      "execution_count": null,
      "outputs": [
        {
          "output_type": "execute_result",
          "data": {
            "text/plain": [
              "0     اقترب سلتيك مجدداً من غريمه التقليدي رينجرز ال...\n",
              "1     ‮«‬الدين المعاملة‮» ‬هكذا علمنا رسول الله‮- ‬ص...\n",
              "2     صعق أوكلاهوما سيتي ثاندر منافسه غولدن ستايت وو...\n",
              "3     استقبل الوسط المسرحي الإماراتي فوز الإمارات بر...\n",
              "4     الشارقة: «الخليج» أطلقت دائرة التخطيط والمساحة...\n",
              "                            ...                        \n",
              "75    أطلقت وزارة الصحة تطبيقات ال iPhone كمبادرة جد...\n",
              "76    صادقت سلطات الاحتلال على إضافة وحدات استيطانية...\n",
              "77    أبوظبي «الخليج»: ارتفع مؤشر سوق الإمارات المال...\n",
              "78    أكد الاتحاد البرلماني الدولي أن القرار الذي ات...\n",
              "79    سجل راوول الونسو خيمينز هدفاً خارقاً من كرة أك...\n",
              "Name: text, Length: 80, dtype: object"
            ]
          },
          "metadata": {},
          "execution_count": 56
        }
      ]
    },
    {
      "cell_type": "markdown",
      "source": [
        "## **Tokenization**"
      ],
      "metadata": {
        "id": "uvmTNip_G4f1"
      }
    },
    {
      "cell_type": "code",
      "source": [
        "def tokenization(dataset_text_row):\n",
        "    tokens = word_tokenize(dataset_text_row)\n",
        "    return tokens"
      ],
      "metadata": {
        "id": "ZeiMePqpBHhG"
      },
      "execution_count": null,
      "outputs": []
    },
    {
      "cell_type": "code",
      "source": [
        "data['tokens'] = data['text'].apply(tokenization)\n",
        "print(data['tokens'].head(80))"
      ],
      "metadata": {
        "colab": {
          "base_uri": "https://localhost:8080/"
        },
        "id": "nfI0tKi8HGy6",
        "outputId": "54411d9f-4142-4077-ea93-8a1e6e68a23a"
      },
      "execution_count": null,
      "outputs": [
        {
          "output_type": "stream",
          "name": "stdout",
          "text": [
            "0     [قتل, 8, عسكريين, جزائريين, وأصيب, 8, بجروح،, ...\n",
            "1     [افتتح, عبدالله, سعيد, بن, سويف, سكرتير, إدارة...\n",
            "2     [كشف, سوميت, نيهالاني, مدير, المبيعات, في, مؤش...\n",
            "3     [أبوظبي, :, محمد, علاونة, تحتاج, الثقافة, العر...\n",
            "4     [ضمن, الفعاليات, الشعرية, في, المعرض, قرأت, ال...\n",
            "                            ...                        \n",
            "75    [وقعت, وزارة, التربية, والتعليم،, ،على, هامش, ...\n",
            "76    [يسعى, ريال, مدريد, حامل, اللقب, إلى, تكريس, ع...\n",
            "77    [مازالت, تداعيات, قيام, الكويتيين, عبد, الله, ...\n",
            "78    [وقّعت, مؤسسة, دبي, لخدمات, الإسعاف, اتفاقية, ...\n",
            "79    [فاسألوا, أهل, الذكر, إن, كنتم, لا, تعلمون, صد...\n",
            "Name: tokens, Length: 80, dtype: object\n"
          ]
        }
      ]
    },
    {
      "cell_type": "markdown",
      "source": [
        "# **Lemmatization**"
      ],
      "metadata": {
        "id": "vfqy0qtnYh3n"
      }
    },
    {
      "cell_type": "code",
      "source": [],
      "metadata": {
        "id": "B2fycF-eHZSG"
      },
      "execution_count": null,
      "outputs": []
    },
    {
      "cell_type": "code",
      "source": [],
      "metadata": {
        "id": "YjYw6z1WJdoy"
      },
      "execution_count": null,
      "outputs": []
    },
    {
      "cell_type": "markdown",
      "source": [
        "# **Encoding Arabic Text**\n",
        "In general, methods such as word embeddings or TF-IDF representations tend to provide more accurate results in text classification tasks, as they capture the meaning of words in a way that is more sophisticated than simple bag of words representations."
      ],
      "metadata": {
        "id": "iNoGW63mbFkn"
      }
    },
    {
      "cell_type": "code",
      "source": [
        "# TF-IDF\n"
      ],
      "metadata": {
        "id": "-EhHY6clbJPZ"
      },
      "execution_count": 1,
      "outputs": []
    },
    {
      "cell_type": "code",
      "source": [],
      "metadata": {
        "id": "H0T6Ai1remMf"
      },
      "execution_count": null,
      "outputs": []
    }
  ]
}